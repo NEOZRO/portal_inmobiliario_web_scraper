{
 "cells": [
  {
   "cell_type": "code",
   "outputs": [],
   "source": [
    "import numpy as np\n",
    "import pandas as pd"
   ],
   "metadata": {
    "collapsed": false,
    "ExecuteTime": {
     "end_time": "2024-09-16T01:00:08.731672Z",
     "start_time": "2024-09-16T01:00:08.269934Z"
    }
   },
   "id": "6b4c9c02f315ef60",
   "execution_count": 1
  },
  {
   "cell_type": "code",
   "outputs": [],
   "source": [
    "%load_ext autoreload\n",
    "%autoreload 2"
   ],
   "metadata": {
    "collapsed": false,
    "ExecuteTime": {
     "end_time": "2024-09-16T01:00:08.809313Z",
     "start_time": "2024-09-16T01:00:08.733673Z"
    }
   },
   "id": "c76e8862c3f8de5a",
   "execution_count": 2
  },
  {
   "cell_type": "markdown",
   "source": [
    "https://openaccess.uoc.edu/bitstream/10609/148363/3/miravecaTFG0623memoria.pdf\n",
    "\n",
    "https://www.portalinmobiliario.com/robots.txt\n",
    "\n",
    "\n",
    "SAAS\n",
    "https://github.com/Saas-Starter-Kit/Saas-Kit-prisma?tab=readme-ov-file\n"
   ],
   "metadata": {
    "collapsed": false
   },
   "id": "1d1ac9f156c6ea82"
  },
  {
   "metadata": {
    "ExecuteTime": {
     "end_time": "2024-09-16T01:00:09.774789Z",
     "start_time": "2024-09-16T01:00:08.810855Z"
    }
   },
   "cell_type": "code",
   "source": [
    "from webscrapper_portal_inmobiliario import WebScraperPortalInmobiliario"
   ],
   "id": "f83798ce4459a42b",
   "outputs": [],
   "execution_count": 3
  },
  {
   "cell_type": "markdown",
   "source": [
    "### TODO:\n",
    "- ~~trackear propiedades en el tiempo para el mismo sector  SE HACE CON LA [LAT LONG]~~\n",
    "- ~~Sortear baneos de ip por muchas request - sectores con muchas propiedades~~\n",
    "https://brightdata.com/cp/zones/residential_proxy1/edit 8 dolares el GB --> SOLUCION\n",
    "- ~~crear tabla intetmedia con 3 tablas y generar id unico...~~\n",
    "- ~~buscar estandar para nombres de columnas en tablas, en ingles... sin mayusculas~~\n",
    "- ~~Hacer que se descarguen las cards urls totales [venta + arriendo]~~\n",
    "- ~~Los polygonos se agregan a una tabla en la base de datos... con una funcion~~\n",
    "- ~~para correr el programa se ejecuta otra funcion que leera los polygoinos de la base de datos~~\n",
    "- Que funcione descargando para multiples polygonos\n",
    "- ejecutar todos los links en tread\n",
    "---\n",
    "- Calculos de estadicticas de rentabilidad\n",
    "- rankear propiedades basado en esto\n",
    "- grafico mapa donde se encuentran estas propiedades\n",
    "- extraer imagenes del TOP 3 Propiedades\n",
    "- plotear en single plot matplotlib. una especie de reporte automatico.\n"
   ],
   "metadata": {
    "collapsed": false
   },
   "id": "67c501318ab4de82"
  },
  {
   "cell_type": "code",
   "id": "initial_id",
   "metadata": {
    "collapsed": true,
    "ExecuteTime": {
     "end_time": "2024-09-16T01:00:16.272027Z",
     "start_time": "2024-09-16T01:00:09.777791Z"
    }
   },
   "source": [
    "WSPI = WebScraperPortalInmobiliario()"
   ],
   "outputs": [],
   "execution_count": 4
  },
  {
   "cell_type": "markdown",
   "source": [
    "## MAP HANDLING"
   ],
   "metadata": {
    "collapsed": false
   },
   "id": "e906eeb3b7e57c15"
  },
  {
   "cell_type": "markdown",
   "source": [
    "CREATE NEW MAP GROUP"
   ],
   "metadata": {
    "collapsed": false
   },
   "id": "fefb303e4a8d1935"
  },
  {
   "cell_type": "code",
   "outputs": [],
   "source": [
    "# WSPI.insert_new_cluser_map(\"test\",None)"
   ],
   "metadata": {
    "collapsed": false,
    "ExecuteTime": {
     "end_time": "2024-09-16T01:00:16.364391Z",
     "start_time": "2024-09-16T01:00:16.272952Z"
    }
   },
   "id": "aa544092447ca46e",
   "execution_count": 5
  },
  {
   "cell_type": "markdown",
   "source": [
    "LIST MAPS AVALIABLE"
   ],
   "metadata": {
    "collapsed": false
   },
   "id": "9269aa954583cac8"
  },
  {
   "cell_type": "code",
   "outputs": [
    {
     "name": "stdout",
     "output_type": "stream",
     "text": [
      "  mapID             geo_ref_name\n",
      "0     1  depas_General_arriagada\n",
      "1     2                     test\n"
     ]
    }
   ],
   "source": [
    "WSPI.list_db_maps()"
   ],
   "metadata": {
    "collapsed": false,
    "ExecuteTime": {
     "end_time": "2024-09-16T01:00:16.534275Z",
     "start_time": "2024-09-16T01:00:16.365393Z"
    }
   },
   "id": "cbb939cf4f74cef4",
   "execution_count": 6
  },
  {
   "cell_type": "markdown",
   "source": [
    "LOAD A SELECTED MAP INTO VISUALIZATION"
   ],
   "metadata": {
    "collapsed": false
   },
   "id": "2aba33874f86eecb"
  },
  {
   "cell_type": "code",
   "outputs": [
    {
     "name": "stdout",
     "output_type": "stream",
     "text": [
      "depas_General_arriagada --> Sucess!\n"
     ]
    },
    {
     "data": {
      "text/plain": "Map(center=[-33.558483599999995, -70.5883168], controls=(ZoomControl(options=['position', 'zoom_in_text', 'zoo…",
      "application/vnd.jupyter.widget-view+json": {
       "version_major": 2,
       "version_minor": 0,
       "model_id": "e8af1248b5c04f3eaca632e446462255"
      }
     },
     "metadata": {},
     "output_type": "display_data"
    }
   ],
   "source": [
    "WSPI.vis_map(selected_mapID=1)"
   ],
   "metadata": {
    "collapsed": false,
    "ExecuteTime": {
     "end_time": "2024-09-16T01:00:16.734490Z",
     "start_time": "2024-09-16T01:00:16.535925Z"
    }
   },
   "id": "89520ebd3a132ec6",
   "execution_count": 7
  },
  {
   "cell_type": "code",
   "outputs": [
    {
     "name": "stdout",
     "output_type": "stream",
     "text": [
      "proxy enabled!, random session id:  0.7392079604767846\n"
     ]
    },
    {
     "data": {
      "text/plain": "  0%|          | 0/100 [00:00<?, ?it/s]",
      "application/vnd.jupyter.widget-view+json": {
       "version_major": 2,
       "version_minor": 0,
       "model_id": "57cd6c6e19e44cb9b99dc626d8c9dfd5"
      },
      "application/json": {
       "n": 0,
       "total": 100,
       "elapsed": 0.028000831604003906,
       "ncols": null,
       "nrows": null,
       "prefix": "",
       "ascii": false,
       "unit": "it",
       "unit_scale": false,
       "rate": null,
       "bar_format": null,
       "postfix": null,
       "unit_divisor": 1000,
       "initial": 0,
       "colour": null
      }
     },
     "metadata": {},
     "output_type": "display_data"
    }
   ],
   "source": [
    "WSPI.start_download(selected_mapID=1, tipo_inmueble=\"departamento\")"
   ],
   "metadata": {
    "collapsed": false,
    "ExecuteTime": {
     "end_time": "2024-09-16T01:02:39.830837Z",
     "start_time": "2024-09-16T01:00:25.011110Z"
    }
   },
   "id": "726c7c4f3d8b74f6",
   "execution_count": 8
  },
  {
   "cell_type": "code",
   "outputs": [],
   "source": [],
   "metadata": {
    "collapsed": false
   },
   "id": "88880b7ffc17167"
  },
  {
   "cell_type": "markdown",
   "source": [
    "#### benchamarks\n",
    "\n",
    "1145 PROPIEDADES ESCRAPIADAS EN 56 MINUTOS -  SINGLE THREAD"
   ],
   "metadata": {
    "collapsed": false
   },
   "id": "dab7a16a64b35441"
  },
  {
   "cell_type": "markdown",
   "source": [
    "# DATA MANAGE\n",
    "------------------------------------------"
   ],
   "metadata": {
    "collapsed": false
   },
   "id": "a7e8a4e8e5ac718c"
  },
  {
   "cell_type": "code",
   "outputs": [
    {
     "name": "stdout",
     "output_type": "stream",
     "text": [
      "The autoreload extension is already loaded. To reload it, use:\n",
      "  %reload_ext autoreload\n"
     ]
    }
   ],
   "source": [
    "%load_ext autoreload\n",
    "%autoreload 2"
   ],
   "metadata": {
    "collapsed": false,
    "ExecuteTime": {
     "end_time": "2024-09-15T23:42:56.295808Z",
     "start_time": "2024-09-15T23:42:56.188122Z"
    }
   },
   "id": "6875c1d59d942aef",
   "execution_count": 156
  },
  {
   "cell_type": "code",
   "outputs": [],
   "source": [
    "from database import *"
   ],
   "metadata": {
    "collapsed": false,
    "ExecuteTime": {
     "end_time": "2024-09-15T23:42:56.404473Z",
     "start_time": "2024-09-15T23:42:56.297809Z"
    }
   },
   "id": "f4b860ff2656f515",
   "execution_count": 157
  },
  {
   "cell_type": "code",
   "outputs": [
    {
     "ename": "NameError",
     "evalue": "name 'create_conect_db' is not defined",
     "output_type": "error",
     "traceback": [
      "\u001B[1;31m---------------------------------------------------------------------------\u001B[0m",
      "\u001B[1;31mNameError\u001B[0m                                 Traceback (most recent call last)",
      "\u001B[1;32m~\\AppData\\Local\\Temp\\ipykernel_56524\\1021917171.py\u001B[0m in \u001B[0;36m<module>\u001B[1;34m\u001B[0m\n\u001B[1;32m----> 1\u001B[1;33m \u001B[0mconn\u001B[0m \u001B[1;33m=\u001B[0m \u001B[0mcreate_conect_db\u001B[0m\u001B[1;33m(\u001B[0m\u001B[1;34m\"real_state.db\"\u001B[0m\u001B[1;33m)\u001B[0m\u001B[1;33m\u001B[0m\u001B[1;33m\u001B[0m\u001B[0m\n\u001B[0m\u001B[0;32m      2\u001B[0m \u001B[0mdf\u001B[0m \u001B[1;33m=\u001B[0m \u001B[0mget_joined_data_as_dataframe\u001B[0m\u001B[1;33m(\u001B[0m\u001B[0mconn\u001B[0m\u001B[1;33m=\u001B[0m\u001B[0mconn\u001B[0m\u001B[1;33m,\u001B[0m \u001B[0mthreshold_date\u001B[0m\u001B[1;33m=\u001B[0m\u001B[1;34m\"2024-07-24 15:00\"\u001B[0m\u001B[1;33m)\u001B[0m\u001B[1;33m\u001B[0m\u001B[1;33m\u001B[0m\u001B[0m\n\u001B[0;32m      3\u001B[0m \u001B[0mdf\u001B[0m \u001B[1;33m=\u001B[0m \u001B[0mdf\u001B[0m\u001B[1;33m.\u001B[0m\u001B[0mT\u001B[0m\u001B[1;33m.\u001B[0m\u001B[0mdrop_duplicates\u001B[0m\u001B[1;33m(\u001B[0m\u001B[1;33m)\u001B[0m\u001B[1;33m.\u001B[0m\u001B[0mT\u001B[0m\u001B[1;33m\u001B[0m\u001B[1;33m\u001B[0m\u001B[0m\n\u001B[0;32m      4\u001B[0m \u001B[0mdf\u001B[0m\u001B[1;33m\u001B[0m\u001B[1;33m\u001B[0m\u001B[0m\n",
      "\u001B[1;31mNameError\u001B[0m: name 'create_conect_db' is not defined"
     ]
    }
   ],
   "source": [
    "conn = create_conect_db(\"real_state.db\")\n",
    "df = get_joined_data_as_dataframe(conn=conn, threshold_date=\"2024-07-24 15:00\")\n",
    "df = df.T.drop_duplicates().T\n",
    "df"
   ],
   "metadata": {
    "collapsed": false,
    "ExecuteTime": {
     "end_time": "2024-09-15T23:42:56.512790Z",
     "start_time": "2024-09-15T23:42:56.405988Z"
    }
   },
   "id": "f6c279a507013fc9",
   "execution_count": 158
  },
  {
   "cell_type": "markdown",
   "source": [
    "# DATA PROCESING\n",
    "------------------------------------------"
   ],
   "metadata": {
    "collapsed": false
   },
   "id": "7c691a53f26e3f3c"
  },
  {
   "cell_type": "code",
   "outputs": [],
   "source": [
    "# df_arriendo = pd.read_excel(r\"C:\\Users\\blavin\\Documents\\Github_myself\\portal_inmobiliario_web_scraper\\results\\metro_chile_españa\\results_invesment_arriendo_departamento_1143_18_07_24.xlsx\")\n",
    "\n",
    "df_arriendo = df.query(\"tipo_operacion=='arriendo'\")\n",
    "len(df_arriendo)"
   ],
   "metadata": {
    "collapsed": false
   },
   "id": "6f22288e814d00ee",
   "execution_count": null
  },
  {
   "cell_type": "code",
   "outputs": [],
   "source": [
    "df_arriendo.head()"
   ],
   "metadata": {
    "collapsed": false
   },
   "id": "f64547a3ebc10e1e",
   "execution_count": null
  },
  {
   "cell_type": "markdown",
   "source": [
    "### precio arriendo segun tipologia"
   ],
   "metadata": {
    "collapsed": false
   },
   "id": "1f22c7e48124a8d0"
  },
  {
   "cell_type": "code",
   "outputs": [],
   "source": [
    "df_arriendo.groupby(by=\"n_dormitorios\").mean()"
   ],
   "metadata": {
    "collapsed": false,
    "ExecuteTime": {
     "start_time": "2024-09-15T23:42:56.518612Z"
    }
   },
   "id": "9cd3128c841b33de",
   "execution_count": null
  },
  {
   "cell_type": "code",
   "outputs": [],
   "source": [
    "def remove_outliers(self, column_name):\n",
    "    \"\"\" removedor de outliers para columna especificada\"\"\"\n",
    "    Q1 = self[column_name].quantile(0.25)\n",
    "    Q3 = self[column_name].quantile(0.75)\n",
    "    IQR = Q3 - Q1\n",
    "    lower_bound = Q1 - 1.5 * IQR\n",
    "    upper_bound = Q3 + 1.5 * IQR\n",
    "\n",
    "    condition = (self[column_name] >= lower_bound) & (self[column_name] <= upper_bound)\n",
    "    return self.loc[condition]\n",
    "\n",
    "# Attach the function to the pandas DataFrame class\n",
    "pd.DataFrame.remove_outliers = remove_outliers"
   ],
   "metadata": {
    "collapsed": false,
    "ExecuteTime": {
     "start_time": "2024-09-15T23:42:56.519621Z"
    }
   },
   "id": "567d8aa2c50d5c4c",
   "execution_count": null
  },
  {
   "cell_type": "code",
   "outputs": [],
   "source": [
    "# EXTRACTOR DE PRECIO DE ARRIENDO SEGUN TIPOLOGIA\n",
    "results_precio_arriendo = {}\n",
    "for n_dorm in pd.Series(df_arriendo[\"n_dormitorios\"].unique()).sort_values().values:\n",
    "\n",
    "    clean_tipology_df = df_arriendo.query(f\"n_dormitorios=={n_dorm}\").remove_outliers('Price_UF')\n",
    "    precio_arriendo = int(clean_tipology_df.Price.quantile(0.1))\n",
    "    results_precio_arriendo[n_dorm] = precio_arriendo\n",
    "    print(f\"con {n_dorm} dormitorios, se puede arrendar en aproximadamente {precio_arriendo}, analizado desde {len(clean_tipology_df)} propiedades\")\n",
    "    \n",
    "    # list_results.append(df_arriendo.query(f\"n_dormitorios=={n_dorm}\").remove_outliers('precio_UF'))\n",
    "    \n",
    "# df_price_wo_outliers = pd.concat(list_results)\n",
    "# df_price_wo_outliers"
   ],
   "metadata": {
    "collapsed": false,
    "ExecuteTime": {
     "start_time": "2024-09-15T23:42:56.520622Z"
    }
   },
   "id": "5861f480b4deb290",
   "execution_count": null
  },
  {
   "cell_type": "code",
   "outputs": [],
   "source": [
    "results_precio_arriendo"
   ],
   "metadata": {
    "collapsed": false,
    "ExecuteTime": {
     "start_time": "2024-09-15T23:42:56.521621Z"
    }
   },
   "id": "9153163cd26d519f",
   "execution_count": null
  },
  {
   "cell_type": "markdown",
   "source": [
    "### precio por metro cuadrado"
   ],
   "metadata": {
    "collapsed": false
   },
   "id": "50eab638b6ef12f"
  },
  {
   "cell_type": "code",
   "outputs": [],
   "source": [
    "# EXTRACTOR DE PRECIO DE ARRIENDO SEGUN TIPOLOGIA\n",
    "list_results = []\n",
    "for n_dorm in pd.Series(df_arriendo[\"n_dormitorios\"].unique()).sort_values().values:\n",
    "    clean_tipology_df = df_arriendo.query(f\"n_dormitorios=={n_dorm}\").remove_outliers('superficie_util')\n",
    "    list_results.append(clean_tipology_df)\n",
    "\n",
    "    # print(f\"con {n_dorm} dormitorios, se puede arrendar en aproximadamente {precio_arriendo}, analizado desde {len(clean_tipology_df)} propiedades\")\n",
    "    # list_results.append(df_arriendo.query(f\"n_dormitorios=={n_dorm}\").remove_outliers('precio_UF'))\n",
    "\n",
    "df_price_wo_outliers = pd.concat(list_results)\n",
    "df_price_wo_outliers[\"precio_m2\"] = df_price_wo_outliers.Price_UF/df_price_wo_outliers.superficie_util\n",
    "promedio_zona = int(np.mean(df_price_wo_outliers.Price/df_price_wo_outliers.superficie_util))\n",
    "promedio_zona_UF = np.round(np.mean(df_price_wo_outliers.Price_UF/df_price_wo_outliers.superficie_util),2)\n",
    "\n",
    "print(f\"precio/m2 de la zona es {promedio_zona} CLP , {promedio_zona_UF} UF\")"
   ],
   "metadata": {
    "collapsed": false
   },
   "id": "492aae60846ddf75",
   "execution_count": null
  },
  {
   "cell_type": "code",
   "outputs": [],
   "source": [
    "df_price_wo_outliers"
   ],
   "metadata": {
    "collapsed": false,
    "ExecuteTime": {
     "start_time": "2024-09-15T23:42:56.522623Z"
    }
   },
   "id": "95838b62659cafa7",
   "execution_count": null
  },
  {
   "cell_type": "markdown",
   "source": [
    "#### CAPRATE BRUTO"
   ],
   "metadata": {
    "collapsed": false
   },
   "id": "1a41c678306f196"
  },
  {
   "cell_type": "code",
   "outputs": [],
   "source": [
    "# df_venta = pd.read_excel(r\"C:\\Users\\blavin\\Documents\\Github_myself\\portal_inmobiliario_web_scraper\\results\\metro_chile_españa\\results_invesment_venta_departamento_2203_16_07_24.xlsx\")\n",
    "\n",
    "df_venta = df.query(\"tipo_operacion=='venta'\")\n",
    "len(df_venta)"
   ],
   "metadata": {
    "collapsed": false,
    "ExecuteTime": {
     "start_time": "2024-09-15T23:42:56.523623Z"
    }
   },
   "id": "74470308580186b7",
   "execution_count": null
  },
  {
   "cell_type": "code",
   "outputs": [],
   "source": [
    "df_venta.head()"
   ],
   "metadata": {
    "collapsed": false,
    "ExecuteTime": {
     "start_time": "2024-09-15T23:42:56.524623Z"
    }
   },
   "id": "b1a43a070964e7e4",
   "execution_count": null
  },
  {
   "cell_type": "code",
   "outputs": [],
   "source": [
    "df_venta[\"caprate_bruto\"]=np.NaN\n",
    "for n_dorm in pd.Series(df_venta[\"n_dormitorios\"].unique()).sort_values().values:\n",
    "    if n_dorm in results_precio_arriendo.keys():\n",
    "        df_venta.loc[df_venta[\"n_dormitorios\"]==n_dorm, \"caprate_bruto\" ] = results_precio_arriendo[n_dorm] * 12 / df_venta.query(f\"n_dormitorios=={n_dorm}\").Price\n",
    "\n",
    "df_venta.caprate_bruto = df_venta.caprate_bruto.astype(float)"
   ],
   "metadata": {
    "collapsed": false,
    "ExecuteTime": {
     "start_time": "2024-09-15T23:42:56.525622Z"
    }
   },
   "id": "13fa0bd7d018ff36",
   "execution_count": null
  },
  {
   "cell_type": "code",
   "outputs": [],
   "source": [
    "df_venta"
   ],
   "metadata": {
    "collapsed": false,
    "ExecuteTime": {
     "start_time": "2024-09-15T23:42:56.526622Z"
    }
   },
   "id": "8f824069c065ff2b",
   "execution_count": null
  },
  {
   "cell_type": "code",
   "outputs": [],
   "source": [
    "df_venta.query(\"caprate_bruto >= .06 and Price < 180000000\")"
   ],
   "metadata": {
    "collapsed": false,
    "ExecuteTime": {
     "start_time": "2024-09-15T23:42:56.527623Z"
    }
   },
   "id": "5a5439021423f186",
   "execution_count": null
  },
  {
   "cell_type": "code",
   "outputs": [],
   "source": [
    "df_arriendo.query(\"n_dormitorios==3\")"
   ],
   "metadata": {
    "collapsed": false,
    "ExecuteTime": {
     "start_time": "2024-09-15T23:42:56.528624Z"
    }
   },
   "id": "c5ece5f7137bc3b2",
   "execution_count": null
  },
  {
   "cell_type": "code",
   "outputs": [],
   "source": [],
   "metadata": {
    "collapsed": false
   },
   "id": "38fdc06e4e70bffd",
   "execution_count": null
  },
  {
   "cell_type": "markdown",
   "source": [
    "# APRENDIZAJES"
   ],
   "metadata": {
    "collapsed": false
   },
   "id": "446fa83cdae743ea"
  },
  {
   "cell_type": "markdown",
   "source": [
    "\n",
    "webdriver\n",
    "2. es bueno reiniciar y cerrar el driver\n",
    "2. el estado de la pagina (restricciones) cambiara solo con el refresh!!\n",
    "3. Si se aplica un init y luego get/request no retornara NADA (PUEDE QUE SI PERO EN GENERAL NO PORQUE ES UN USER NUEVO SE ASOCIARA CON WEBSCRAPPING)\n",
    "4. el orden correcto sera\n",
    "\n",
    "close--> init--> request (primera vez ,  alta probabilida de falla) -->  refresh (recarga y se puede obtener la tabla y ubicaciion)"
   ],
   "metadata": {
    "collapsed": false
   },
   "id": "a8937b1e890d1dc4"
  },
  {
   "cell_type": "code",
   "outputs": [],
   "source": [],
   "metadata": {
    "collapsed": false
   },
   "id": "20f3da1f1dec557d"
  }
 ],
 "metadata": {
  "kernelspec": {
   "display_name": "Python 3",
   "language": "python",
   "name": "python3"
  },
  "language_info": {
   "codemirror_mode": {
    "name": "ipython",
    "version": 2
   },
   "file_extension": ".py",
   "mimetype": "text/x-python",
   "name": "python",
   "nbconvert_exporter": "python",
   "pygments_lexer": "ipython2",
   "version": "2.7.6"
  }
 },
 "nbformat": 4,
 "nbformat_minor": 5
}
