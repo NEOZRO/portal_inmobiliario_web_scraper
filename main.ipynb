{
 "cells": [
  {
   "cell_type": "code",
   "outputs": [],
   "source": [
    "%load_ext autoreload\n",
    "%autoreload 2"
   ],
   "metadata": {
    "collapsed": false,
    "ExecuteTime": {
     "end_time": "2024-09-17T17:31:13.390392Z",
     "start_time": "2024-09-17T17:31:13.311996Z"
    }
   },
   "id": "c76e8862c3f8de5a",
   "execution_count": 1
  },
  {
   "cell_type": "markdown",
   "source": [
    "https://openaccess.uoc.edu/bitstream/10609/148363/3/miravecaTFG0623memoria.pdf\n",
    "\n",
    "https://www.portalinmobiliario.com/robots.txt\n",
    "\n",
    "\n",
    "SAAS\n",
    "https://github.com/Saas-Starter-Kit/Saas-Kit-prisma?tab=readme-ov-file\n"
   ],
   "metadata": {
    "collapsed": false
   },
   "id": "1d1ac9f156c6ea82"
  },
  {
   "metadata": {
    "ExecuteTime": {
     "end_time": "2024-09-17T17:31:14.801143Z",
     "start_time": "2024-09-17T17:31:13.392077Z"
    }
   },
   "cell_type": "code",
   "source": [
    "import numpy as np\n",
    "import pandas as pd\n",
    "from webscrapper_portal_inmobiliario import WebScraperPortalInmobiliario"
   ],
   "id": "f83798ce4459a42b",
   "outputs": [],
   "execution_count": 2
  },
  {
   "cell_type": "markdown",
   "source": [
    "### TODO:\n",
    "- ~~trackear propiedades en el tiempo para el mismo sector  SE HACE CON LA [LAT LONG]~~\n",
    "- ~~Sortear baneos de ip por muchas request - sectores con muchas propiedades~~\n",
    "https://brightdata.com/cp/zones/residential_proxy1/edit 8 dolares el GB --> SOLUCION\n",
    "- ~~crear tabla intetmedia con 3 tablas y generar id unico...~~\n",
    "- ~~buscar estandar para nombres de columnas en tablas, en ingles... sin mayusculas~~\n",
    "- ~~Hacer que se descarguen las cards urls totales [venta + arriendo]~~\n",
    "- ~~Los polygonos se agregan a una tabla en la base de datos... con una funcion~~\n",
    "- ~~para correr el programa se ejecuta otra funcion que leera los polygoinos de la base de datos~~\n",
    "- Que funcione descargando para multiples polygonos\n",
    "- Modo descarga casas y departamentos en conjunto\n",
    "- ejecutar todos los links en tread\n",
    "---\n",
    "- Calculos de estadicticas de rentabilidad\n",
    "- rankear propiedades basado en esto\n",
    "- grafico mapa donde se encuentran estas propiedades\n",
    "- extraer imagenes del TOP 3 Propiedades\n",
    "- plotear en single plot matplotlib. una especie de reporte automatico.\n",
    "\n",
    "### fixes\n",
    "- dias desde publicacion fallando y retornando cero\n"
   ],
   "metadata": {
    "collapsed": false
   },
   "id": "67c501318ab4de82"
  },
  {
   "cell_type": "code",
   "id": "initial_id",
   "metadata": {
    "collapsed": true,
    "ExecuteTime": {
     "end_time": "2024-09-17T17:31:21.721414Z",
     "start_time": "2024-09-17T17:31:14.802148Z"
    }
   },
   "source": [
    "WSPI = WebScraperPortalInmobiliario()"
   ],
   "outputs": [],
   "execution_count": 3
  },
  {
   "cell_type": "markdown",
   "source": [
    "## MAP HANDLING"
   ],
   "metadata": {
    "collapsed": false
   },
   "id": "e906eeb3b7e57c15"
  },
  {
   "cell_type": "markdown",
   "source": [
    "CREATE NEW MAP GROUP"
   ],
   "metadata": {
    "collapsed": false
   },
   "id": "fefb303e4a8d1935"
  },
  {
   "cell_type": "markdown",
   "source": [
    "make a create, delete and edit cluster map function, diferent one for each action"
   ],
   "metadata": {
    "collapsed": false
   },
   "id": "c0d9429bc7f05ac9"
  },
  {
   "cell_type": "code",
   "outputs": [],
   "source": [
    "WSPI.insert_new_cluser_map(\"Diego_portales\",None)"
   ],
   "metadata": {
    "collapsed": false,
    "ExecuteTime": {
     "end_time": "2024-09-17T17:51:10.074836Z",
     "start_time": "2024-09-17T17:51:09.954686Z"
    }
   },
   "id": "aa544092447ca46e",
   "execution_count": 20
  },
  {
   "cell_type": "markdown",
   "source": [
    "LIST MAPS AVALIABLE"
   ],
   "metadata": {
    "collapsed": false
   },
   "id": "9269aa954583cac8"
  },
  {
   "cell_type": "code",
   "outputs": [
    {
     "name": "stdout",
     "output_type": "stream",
     "text": [
      "  mapID       geo_ref_name\n",
      "0     1  general_arriagada\n",
      "1     2     Diego_portales\n"
     ]
    }
   ],
   "source": [
    "WSPI.list_db_maps()"
   ],
   "metadata": {
    "collapsed": false,
    "ExecuteTime": {
     "end_time": "2024-09-17T17:51:11.150662Z",
     "start_time": "2024-09-17T17:51:11.040739Z"
    }
   },
   "id": "cbb939cf4f74cef4",
   "execution_count": 21
  },
  {
   "cell_type": "markdown",
   "source": [
    "LOAD A SELECTED MAP INTO VISUALIZATION"
   ],
   "metadata": {
    "collapsed": false
   },
   "id": "2aba33874f86eecb"
  },
  {
   "cell_type": "code",
   "outputs": [
    {
     "name": "stdout",
     "output_type": "stream",
     "text": [
      "Diego_portales --> Sucess!\n"
     ]
    },
    {
     "data": {
      "text/plain": "Map(center=[-33.557610499999996, -70.55605405555555], controls=(ZoomControl(options=['position', 'zoom_in_text…",
      "application/vnd.jupyter.widget-view+json": {
       "version_major": 2,
       "version_minor": 0,
       "model_id": "5fa90565116e4f20850bce207423d6f0"
      }
     },
     "metadata": {},
     "output_type": "display_data"
    }
   ],
   "source": [
    "WSPI.vis_map(selected_mapID=2)"
   ],
   "metadata": {
    "collapsed": false,
    "ExecuteTime": {
     "end_time": "2024-09-17T17:52:14.814209Z",
     "start_time": "2024-09-17T17:52:14.659850Z"
    }
   },
   "id": "89520ebd3a132ec6",
   "execution_count": 23
  },
  {
   "cell_type": "code",
   "outputs": [
    {
     "data": {
      "text/plain": "  0%|          | 0/100 [00:00<?, ?it/s]",
      "application/vnd.jupyter.widget-view+json": {
       "version_major": 2,
       "version_minor": 0,
       "model_id": "b5d4c2eee9604b6989983162a06cb073"
      },
      "application/json": {
       "n": 0,
       "total": 100,
       "elapsed": 0.024997711181640625,
       "ncols": null,
       "nrows": null,
       "prefix": "",
       "ascii": false,
       "unit": "it",
       "unit_scale": false,
       "rate": null,
       "bar_format": null,
       "postfix": null,
       "unit_divisor": 1000,
       "initial": 0,
       "colour": null
      }
     },
     "metadata": {},
     "output_type": "display_data"
    },
    {
     "name": "stdout",
     "output_type": "stream",
     "text": [
      "proxy enabled!, random session id:  0.1617099416967237\n"
     ]
    }
   ],
   "source": [
    "WSPI.start_download(selected_mapID=2)"
   ],
   "metadata": {
    "collapsed": false,
    "ExecuteTime": {
     "end_time": "2024-09-17T18:00:19.846928Z",
     "start_time": "2024-09-17T17:52:28.237506Z"
    }
   },
   "id": "726c7c4f3d8b74f6",
   "execution_count": 24
  },
  {
   "cell_type": "markdown",
   "source": [
    "# DATA MANAGE\n",
    "------------------------------------------"
   ],
   "metadata": {
    "collapsed": false
   },
   "id": "a7e8a4e8e5ac718c"
  },
  {
   "cell_type": "code",
   "outputs": [
    {
     "name": "stdout",
     "output_type": "stream",
     "text": [
      "analizando casa\n",
      "con 2.0 dormitorios, se puede arrendar en aproximadamente 365000, analizado desde 2 propiedades\n",
      "con 3.0 dormitorios, se puede arrendar en aproximadamente 685000, analizado desde 4 propiedades\n",
      "con 4.0 dormitorios, se puede arrendar en aproximadamente 950000, analizado desde 3 propiedades\n",
      "con 6.0 dormitorios, se puede arrendar en aproximadamente 200000, analizado desde 1 propiedades\n",
      "precio/m2 de la zona es 6275 CLP , 0.17 UF\n",
      "-------------------------------------\n",
      "analizando departamento\n",
      "con 1.0 dormitorios, se puede arrendar en aproximadamente 330000, analizado desde 7 propiedades\n",
      "con 2.0 dormitorios, se puede arrendar en aproximadamente 430000, analizado desde 15 propiedades\n",
      "con 3.0 dormitorios, se puede arrendar en aproximadamente 492000, analizado desde 3 propiedades\n",
      "precio/m2 de la zona es 8326 CLP , 0.22 UF\n",
      "-------------------------------------\n"
     ]
    }
   ],
   "source": [
    "WSPI.get_df_caprates(map_id=2)"
   ],
   "metadata": {
    "collapsed": false,
    "ExecuteTime": {
     "end_time": "2024-09-17T18:10:12.501304Z",
     "start_time": "2024-09-17T18:10:12.259807Z"
    }
   },
   "id": "1b0ebad759b23110",
   "execution_count": 25
  },
  {
   "cell_type": "code",
   "outputs": [
    {
     "data": {
      "text/plain": "    dias_desde_publicacion  n_dormitorios  n_banos  superficie_total  \\\n11                    28.0            4.0      3.0             145.0   \n12                   150.0            3.0      2.0             135.0   \n13                    24.0            4.0      2.0             200.0   \n14                    42.0            4.0      2.0             237.0   \n15                   270.0            3.0      2.0             209.0   \n..                     ...            ...      ...               ...   \n94                    20.0            4.0      3.0             272.0   \n95                    14.0            5.0      3.0             167.0   \n96                    60.0            3.0      2.0             246.0   \n97                     5.0            3.0      1.0             110.0   \n98                    27.0            3.0      2.0             200.0   \n\n    superficie_util  estacionamientos  bodegas  antiguedad  \\\n11            115.0               2.0      2.0         0.0   \n12             87.0               4.0      1.0        22.0   \n13            129.0               1.0      0.0        15.0   \n14             88.0               2.0      1.0         0.0   \n15             77.0               2.0      0.0        26.0   \n..              ...               ...      ...         ...   \n94            167.2               2.0      0.0         0.0   \n95            150.0               2.0      1.0        35.0   \n96            110.0               3.0      1.0        22.0   \n97             80.0               2.0      NaN         NaN   \n98             90.0               2.0      NaN        25.0   \n\n    cantidad_pisos_edificio  piso_unidad tipo_inmueble           orientacion  \\\n11                      2.0          NaN          casa                     P   \n12                      2.0          NaN          casa                     -   \n13                      2.0          NaN          casa                    SO   \n14                      2.0          NaN          casa  Sur-oriente-poniente   \n15                      1.0          NaN          casa          Nor-poniente   \n..                      ...          ...           ...                   ...   \n94                      2.0          NaN          casa                  NOSP   \n95                      2.0          NaN          casa                  NOSP   \n96                      2.0          NaN          casa                     P   \n97                      2.0          NaN          casa                  None   \n98                      1.0          NaN          casa                     O   \n\n    gastos_comunes                                               link  listed  \\\n11          5000.0  https://www.portalinmobiliario.com/MLC-2665646...       1   \n12             0.0  https://www.portalinmobiliario.com/MLC-2383559...       1   \n13             NaN  https://www.portalinmobiliario.com/MLC-1517915...       1   \n14             0.0  https://www.portalinmobiliario.com/MLC-1511704...       1   \n15             0.0  https://www.portalinmobiliario.com/MLC-1444957...       1   \n..             ...                                                ...     ...   \n94             NaN  https://www.portalinmobiliario.com/MLC-2676084...       1   \n95             0.0  https://www.portalinmobiliario.com/MLC-2685351...       1   \n96             0.0  https://www.portalinmobiliario.com/MLC-2698975...       1   \n97             NaN  https://www.portalinmobiliario.com/MLC-2694708...       1   \n98             NaN  https://www.portalinmobiliario.com/MLC-1516811...       1   \n\n           Price  Price_UF tipo_operacion                        Date  \\\n11  1.552311e+08   4100.00          venta  2024-09-17 15:00:18.217868   \n12  1.500000e+08   3961.84          venta  2024-09-17 15:00:18.232565   \n13  1.900000e+08   5018.32          venta  2024-09-17 15:00:18.243693   \n14  2.082368e+08   5500.00          venta  2024-09-17 15:00:18.257732   \n15  1.650000e+08   4358.02          venta  2024-09-17 15:00:18.269204   \n..           ...       ...            ...                         ...   \n94  2.540000e+08   6708.71          venta  2024-09-17 15:00:19.192581   \n95  1.980000e+08   5229.62          venta  2024-09-17 15:00:19.203373   \n96  2.002860e+08   5290.00          venta  2024-09-17 15:00:19.213746   \n97  1.350510e+08   3567.00          venta  2024-09-17 15:00:19.223819   \n98  1.609103e+08   4250.00          venta  2024-09-17 15:00:19.234243   \n\n    caprate_bruto  \n11       0.073439  \n12       0.054800  \n13       0.060000  \n14       0.054745  \n15       0.049818  \n..            ...  \n94       0.044882  \n95            NaN  \n96       0.041041  \n97       0.060866  \n98       0.051084  \n\n[88 rows x 20 columns]",
      "text/html": "<div>\n<style scoped>\n    .dataframe tbody tr th:only-of-type {\n        vertical-align: middle;\n    }\n\n    .dataframe tbody tr th {\n        vertical-align: top;\n    }\n\n    .dataframe thead th {\n        text-align: right;\n    }\n</style>\n<table border=\"1\" class=\"dataframe\">\n  <thead>\n    <tr style=\"text-align: right;\">\n      <th></th>\n      <th>dias_desde_publicacion</th>\n      <th>n_dormitorios</th>\n      <th>n_banos</th>\n      <th>superficie_total</th>\n      <th>superficie_util</th>\n      <th>estacionamientos</th>\n      <th>bodegas</th>\n      <th>antiguedad</th>\n      <th>cantidad_pisos_edificio</th>\n      <th>piso_unidad</th>\n      <th>tipo_inmueble</th>\n      <th>orientacion</th>\n      <th>gastos_comunes</th>\n      <th>link</th>\n      <th>listed</th>\n      <th>Price</th>\n      <th>Price_UF</th>\n      <th>tipo_operacion</th>\n      <th>Date</th>\n      <th>caprate_bruto</th>\n    </tr>\n  </thead>\n  <tbody>\n    <tr>\n      <th>11</th>\n      <td>28.0</td>\n      <td>4.0</td>\n      <td>3.0</td>\n      <td>145.0</td>\n      <td>115.0</td>\n      <td>2.0</td>\n      <td>2.0</td>\n      <td>0.0</td>\n      <td>2.0</td>\n      <td>NaN</td>\n      <td>casa</td>\n      <td>P</td>\n      <td>5000.0</td>\n      <td>https://www.portalinmobiliario.com/MLC-2665646...</td>\n      <td>1</td>\n      <td>1.552311e+08</td>\n      <td>4100.00</td>\n      <td>venta</td>\n      <td>2024-09-17 15:00:18.217868</td>\n      <td>0.073439</td>\n    </tr>\n    <tr>\n      <th>12</th>\n      <td>150.0</td>\n      <td>3.0</td>\n      <td>2.0</td>\n      <td>135.0</td>\n      <td>87.0</td>\n      <td>4.0</td>\n      <td>1.0</td>\n      <td>22.0</td>\n      <td>2.0</td>\n      <td>NaN</td>\n      <td>casa</td>\n      <td>-</td>\n      <td>0.0</td>\n      <td>https://www.portalinmobiliario.com/MLC-2383559...</td>\n      <td>1</td>\n      <td>1.500000e+08</td>\n      <td>3961.84</td>\n      <td>venta</td>\n      <td>2024-09-17 15:00:18.232565</td>\n      <td>0.054800</td>\n    </tr>\n    <tr>\n      <th>13</th>\n      <td>24.0</td>\n      <td>4.0</td>\n      <td>2.0</td>\n      <td>200.0</td>\n      <td>129.0</td>\n      <td>1.0</td>\n      <td>0.0</td>\n      <td>15.0</td>\n      <td>2.0</td>\n      <td>NaN</td>\n      <td>casa</td>\n      <td>SO</td>\n      <td>NaN</td>\n      <td>https://www.portalinmobiliario.com/MLC-1517915...</td>\n      <td>1</td>\n      <td>1.900000e+08</td>\n      <td>5018.32</td>\n      <td>venta</td>\n      <td>2024-09-17 15:00:18.243693</td>\n      <td>0.060000</td>\n    </tr>\n    <tr>\n      <th>14</th>\n      <td>42.0</td>\n      <td>4.0</td>\n      <td>2.0</td>\n      <td>237.0</td>\n      <td>88.0</td>\n      <td>2.0</td>\n      <td>1.0</td>\n      <td>0.0</td>\n      <td>2.0</td>\n      <td>NaN</td>\n      <td>casa</td>\n      <td>Sur-oriente-poniente</td>\n      <td>0.0</td>\n      <td>https://www.portalinmobiliario.com/MLC-1511704...</td>\n      <td>1</td>\n      <td>2.082368e+08</td>\n      <td>5500.00</td>\n      <td>venta</td>\n      <td>2024-09-17 15:00:18.257732</td>\n      <td>0.054745</td>\n    </tr>\n    <tr>\n      <th>15</th>\n      <td>270.0</td>\n      <td>3.0</td>\n      <td>2.0</td>\n      <td>209.0</td>\n      <td>77.0</td>\n      <td>2.0</td>\n      <td>0.0</td>\n      <td>26.0</td>\n      <td>1.0</td>\n      <td>NaN</td>\n      <td>casa</td>\n      <td>Nor-poniente</td>\n      <td>0.0</td>\n      <td>https://www.portalinmobiliario.com/MLC-1444957...</td>\n      <td>1</td>\n      <td>1.650000e+08</td>\n      <td>4358.02</td>\n      <td>venta</td>\n      <td>2024-09-17 15:00:18.269204</td>\n      <td>0.049818</td>\n    </tr>\n    <tr>\n      <th>...</th>\n      <td>...</td>\n      <td>...</td>\n      <td>...</td>\n      <td>...</td>\n      <td>...</td>\n      <td>...</td>\n      <td>...</td>\n      <td>...</td>\n      <td>...</td>\n      <td>...</td>\n      <td>...</td>\n      <td>...</td>\n      <td>...</td>\n      <td>...</td>\n      <td>...</td>\n      <td>...</td>\n      <td>...</td>\n      <td>...</td>\n      <td>...</td>\n      <td>...</td>\n    </tr>\n    <tr>\n      <th>94</th>\n      <td>20.0</td>\n      <td>4.0</td>\n      <td>3.0</td>\n      <td>272.0</td>\n      <td>167.2</td>\n      <td>2.0</td>\n      <td>0.0</td>\n      <td>0.0</td>\n      <td>2.0</td>\n      <td>NaN</td>\n      <td>casa</td>\n      <td>NOSP</td>\n      <td>NaN</td>\n      <td>https://www.portalinmobiliario.com/MLC-2676084...</td>\n      <td>1</td>\n      <td>2.540000e+08</td>\n      <td>6708.71</td>\n      <td>venta</td>\n      <td>2024-09-17 15:00:19.192581</td>\n      <td>0.044882</td>\n    </tr>\n    <tr>\n      <th>95</th>\n      <td>14.0</td>\n      <td>5.0</td>\n      <td>3.0</td>\n      <td>167.0</td>\n      <td>150.0</td>\n      <td>2.0</td>\n      <td>1.0</td>\n      <td>35.0</td>\n      <td>2.0</td>\n      <td>NaN</td>\n      <td>casa</td>\n      <td>NOSP</td>\n      <td>0.0</td>\n      <td>https://www.portalinmobiliario.com/MLC-2685351...</td>\n      <td>1</td>\n      <td>1.980000e+08</td>\n      <td>5229.62</td>\n      <td>venta</td>\n      <td>2024-09-17 15:00:19.203373</td>\n      <td>NaN</td>\n    </tr>\n    <tr>\n      <th>96</th>\n      <td>60.0</td>\n      <td>3.0</td>\n      <td>2.0</td>\n      <td>246.0</td>\n      <td>110.0</td>\n      <td>3.0</td>\n      <td>1.0</td>\n      <td>22.0</td>\n      <td>2.0</td>\n      <td>NaN</td>\n      <td>casa</td>\n      <td>P</td>\n      <td>0.0</td>\n      <td>https://www.portalinmobiliario.com/MLC-2698975...</td>\n      <td>1</td>\n      <td>2.002860e+08</td>\n      <td>5290.00</td>\n      <td>venta</td>\n      <td>2024-09-17 15:00:19.213746</td>\n      <td>0.041041</td>\n    </tr>\n    <tr>\n      <th>97</th>\n      <td>5.0</td>\n      <td>3.0</td>\n      <td>1.0</td>\n      <td>110.0</td>\n      <td>80.0</td>\n      <td>2.0</td>\n      <td>NaN</td>\n      <td>NaN</td>\n      <td>2.0</td>\n      <td>NaN</td>\n      <td>casa</td>\n      <td>None</td>\n      <td>NaN</td>\n      <td>https://www.portalinmobiliario.com/MLC-2694708...</td>\n      <td>1</td>\n      <td>1.350510e+08</td>\n      <td>3567.00</td>\n      <td>venta</td>\n      <td>2024-09-17 15:00:19.223819</td>\n      <td>0.060866</td>\n    </tr>\n    <tr>\n      <th>98</th>\n      <td>27.0</td>\n      <td>3.0</td>\n      <td>2.0</td>\n      <td>200.0</td>\n      <td>90.0</td>\n      <td>2.0</td>\n      <td>NaN</td>\n      <td>25.0</td>\n      <td>1.0</td>\n      <td>NaN</td>\n      <td>casa</td>\n      <td>O</td>\n      <td>NaN</td>\n      <td>https://www.portalinmobiliario.com/MLC-1516811...</td>\n      <td>1</td>\n      <td>1.609103e+08</td>\n      <td>4250.00</td>\n      <td>venta</td>\n      <td>2024-09-17 15:00:19.234243</td>\n      <td>0.051084</td>\n    </tr>\n  </tbody>\n</table>\n<p>88 rows × 20 columns</p>\n</div>"
     },
     "execution_count": 26,
     "metadata": {},
     "output_type": "execute_result"
    }
   ],
   "source": [
    "WSPI.analysis_results[\"df_caprate_casa\"]"
   ],
   "metadata": {
    "collapsed": false,
    "ExecuteTime": {
     "end_time": "2024-09-17T18:10:28.098735Z",
     "start_time": "2024-09-17T18:10:27.984892Z"
    }
   },
   "id": "5b59e29d756da3a8",
   "execution_count": 26
  },
  {
   "cell_type": "code",
   "outputs": [
    {
     "data": {
      "text/plain": "    dias_desde_publicacion  n_dormitorios  n_banos  superficie_total  \\\n41                    15.0            1.0      1.0             46.99   \n42                    14.0            2.0      2.0             77.25   \n43                   330.0            2.0      1.0             52.00   \n44                    60.0            2.0      1.0             62.00   \n45                    14.0            2.0      2.0             54.00   \n46                   150.0            2.0      2.0             58.00   \n47                    11.0            2.0      2.0             77.25   \n48                   120.0            3.0      1.0             55.00   \n49                     0.0            3.0      1.0             56.00   \n\n    superficie_util  estacionamientos  bodegas  antiguedad  \\\n41            43.43               0.0      0.0         1.0   \n42            72.71               0.0      0.0         1.0   \n43            48.00               1.0      0.0        10.0   \n44            62.00               1.0      1.0        25.0   \n45            50.00               1.0      1.0         2.0   \n46            54.00               1.0      1.0         2.0   \n47            72.71               1.0      1.0         2.0   \n48            55.00               1.0      0.0        20.0   \n49            56.00               0.0      0.0        17.0   \n\n    cantidad_pisos_edificio  piso_unidad tipo_inmueble  orientacion  \\\n41                     12.0         11.0  departamento     Poniente   \n42                     11.0          0.0  departamento      Oriente   \n43                      4.0          4.0  departamento            P   \n44                      7.0          0.0  departamento            -   \n45                      0.0          2.0  departamento  Nor-Oriente   \n46                     15.0          0.0  departamento            N   \n47                     11.0          5.0  departamento            O   \n48                      0.0          2.0  departamento            O   \n49                     17.0       3023.0  departamento           SP   \n\n    gastos_comunes                                               link  listed  \\\n41         58000.0  https://www.portalinmobiliario.com/MLC-2683367...       1   \n42         90000.0  https://www.portalinmobiliario.com/MLC-1521206...       1   \n43         50000.0  https://www.portalinmobiliario.com/MLC-2370716...       1   \n44         90000.0  https://www.portalinmobiliario.com/MLC-1503001...       1   \n45         70000.0  https://www.portalinmobiliario.com/MLC-2683985...       1   \n46             0.0  https://www.portalinmobiliario.com/MLC-1474290...       1   \n47         70000.0  https://www.portalinmobiliario.com/MLC-2688186...       1   \n48         26000.0  https://www.portalinmobiliario.com/MLC-1478971...       1   \n49             NaN  https://www.portalinmobiliario.com/MLC-1473135...       1   \n\n           Price  Price_UF tipo_operacion                        Date  \\\n41  1.013924e+08   2678.00          venta  2024-09-17 14:34:38.045777   \n42  1.562155e+08   4126.00          venta  2024-09-17 14:34:38.055778   \n43  1.173698e+08   3100.00          venta  2024-09-17 14:34:38.068777   \n44  1.270000e+08   3354.35          venta  2024-09-17 14:34:38.079779   \n45  1.192629e+08   3150.00          venta  2024-09-17 14:34:38.089780   \n46  1.094190e+08   2890.00          venta  2024-09-17 14:34:38.101777   \n47  1.699970e+08   4490.00          venta  2024-09-17 14:34:38.112780   \n48  7.534387e+07   1990.00          venta  2024-09-17 14:34:38.124779   \n49  1.070000e+08   2826.11          venta  2024-09-17 14:34:38.133778   \n\n    caprate_bruto  \n41       0.038464  \n42       0.033031  \n43       0.043964  \n44       0.040630  \n45       0.043266  \n46       0.047158  \n47       0.030353  \n48       0.063708  \n49       0.044860  ",
      "text/html": "<div>\n<style scoped>\n    .dataframe tbody tr th:only-of-type {\n        vertical-align: middle;\n    }\n\n    .dataframe tbody tr th {\n        vertical-align: top;\n    }\n\n    .dataframe thead th {\n        text-align: right;\n    }\n</style>\n<table border=\"1\" class=\"dataframe\">\n  <thead>\n    <tr style=\"text-align: right;\">\n      <th></th>\n      <th>dias_desde_publicacion</th>\n      <th>n_dormitorios</th>\n      <th>n_banos</th>\n      <th>superficie_total</th>\n      <th>superficie_util</th>\n      <th>estacionamientos</th>\n      <th>bodegas</th>\n      <th>antiguedad</th>\n      <th>cantidad_pisos_edificio</th>\n      <th>piso_unidad</th>\n      <th>tipo_inmueble</th>\n      <th>orientacion</th>\n      <th>gastos_comunes</th>\n      <th>link</th>\n      <th>listed</th>\n      <th>Price</th>\n      <th>Price_UF</th>\n      <th>tipo_operacion</th>\n      <th>Date</th>\n      <th>caprate_bruto</th>\n    </tr>\n  </thead>\n  <tbody>\n    <tr>\n      <th>41</th>\n      <td>15.0</td>\n      <td>1.0</td>\n      <td>1.0</td>\n      <td>46.99</td>\n      <td>43.43</td>\n      <td>0.0</td>\n      <td>0.0</td>\n      <td>1.0</td>\n      <td>12.0</td>\n      <td>11.0</td>\n      <td>departamento</td>\n      <td>Poniente</td>\n      <td>58000.0</td>\n      <td>https://www.portalinmobiliario.com/MLC-2683367...</td>\n      <td>1</td>\n      <td>1.013924e+08</td>\n      <td>2678.00</td>\n      <td>venta</td>\n      <td>2024-09-17 14:34:38.045777</td>\n      <td>0.038464</td>\n    </tr>\n    <tr>\n      <th>42</th>\n      <td>14.0</td>\n      <td>2.0</td>\n      <td>2.0</td>\n      <td>77.25</td>\n      <td>72.71</td>\n      <td>0.0</td>\n      <td>0.0</td>\n      <td>1.0</td>\n      <td>11.0</td>\n      <td>0.0</td>\n      <td>departamento</td>\n      <td>Oriente</td>\n      <td>90000.0</td>\n      <td>https://www.portalinmobiliario.com/MLC-1521206...</td>\n      <td>1</td>\n      <td>1.562155e+08</td>\n      <td>4126.00</td>\n      <td>venta</td>\n      <td>2024-09-17 14:34:38.055778</td>\n      <td>0.033031</td>\n    </tr>\n    <tr>\n      <th>43</th>\n      <td>330.0</td>\n      <td>2.0</td>\n      <td>1.0</td>\n      <td>52.00</td>\n      <td>48.00</td>\n      <td>1.0</td>\n      <td>0.0</td>\n      <td>10.0</td>\n      <td>4.0</td>\n      <td>4.0</td>\n      <td>departamento</td>\n      <td>P</td>\n      <td>50000.0</td>\n      <td>https://www.portalinmobiliario.com/MLC-2370716...</td>\n      <td>1</td>\n      <td>1.173698e+08</td>\n      <td>3100.00</td>\n      <td>venta</td>\n      <td>2024-09-17 14:34:38.068777</td>\n      <td>0.043964</td>\n    </tr>\n    <tr>\n      <th>44</th>\n      <td>60.0</td>\n      <td>2.0</td>\n      <td>1.0</td>\n      <td>62.00</td>\n      <td>62.00</td>\n      <td>1.0</td>\n      <td>1.0</td>\n      <td>25.0</td>\n      <td>7.0</td>\n      <td>0.0</td>\n      <td>departamento</td>\n      <td>-</td>\n      <td>90000.0</td>\n      <td>https://www.portalinmobiliario.com/MLC-1503001...</td>\n      <td>1</td>\n      <td>1.270000e+08</td>\n      <td>3354.35</td>\n      <td>venta</td>\n      <td>2024-09-17 14:34:38.079779</td>\n      <td>0.040630</td>\n    </tr>\n    <tr>\n      <th>45</th>\n      <td>14.0</td>\n      <td>2.0</td>\n      <td>2.0</td>\n      <td>54.00</td>\n      <td>50.00</td>\n      <td>1.0</td>\n      <td>1.0</td>\n      <td>2.0</td>\n      <td>0.0</td>\n      <td>2.0</td>\n      <td>departamento</td>\n      <td>Nor-Oriente</td>\n      <td>70000.0</td>\n      <td>https://www.portalinmobiliario.com/MLC-2683985...</td>\n      <td>1</td>\n      <td>1.192629e+08</td>\n      <td>3150.00</td>\n      <td>venta</td>\n      <td>2024-09-17 14:34:38.089780</td>\n      <td>0.043266</td>\n    </tr>\n    <tr>\n      <th>46</th>\n      <td>150.0</td>\n      <td>2.0</td>\n      <td>2.0</td>\n      <td>58.00</td>\n      <td>54.00</td>\n      <td>1.0</td>\n      <td>1.0</td>\n      <td>2.0</td>\n      <td>15.0</td>\n      <td>0.0</td>\n      <td>departamento</td>\n      <td>N</td>\n      <td>0.0</td>\n      <td>https://www.portalinmobiliario.com/MLC-1474290...</td>\n      <td>1</td>\n      <td>1.094190e+08</td>\n      <td>2890.00</td>\n      <td>venta</td>\n      <td>2024-09-17 14:34:38.101777</td>\n      <td>0.047158</td>\n    </tr>\n    <tr>\n      <th>47</th>\n      <td>11.0</td>\n      <td>2.0</td>\n      <td>2.0</td>\n      <td>77.25</td>\n      <td>72.71</td>\n      <td>1.0</td>\n      <td>1.0</td>\n      <td>2.0</td>\n      <td>11.0</td>\n      <td>5.0</td>\n      <td>departamento</td>\n      <td>O</td>\n      <td>70000.0</td>\n      <td>https://www.portalinmobiliario.com/MLC-2688186...</td>\n      <td>1</td>\n      <td>1.699970e+08</td>\n      <td>4490.00</td>\n      <td>venta</td>\n      <td>2024-09-17 14:34:38.112780</td>\n      <td>0.030353</td>\n    </tr>\n    <tr>\n      <th>48</th>\n      <td>120.0</td>\n      <td>3.0</td>\n      <td>1.0</td>\n      <td>55.00</td>\n      <td>55.00</td>\n      <td>1.0</td>\n      <td>0.0</td>\n      <td>20.0</td>\n      <td>0.0</td>\n      <td>2.0</td>\n      <td>departamento</td>\n      <td>O</td>\n      <td>26000.0</td>\n      <td>https://www.portalinmobiliario.com/MLC-1478971...</td>\n      <td>1</td>\n      <td>7.534387e+07</td>\n      <td>1990.00</td>\n      <td>venta</td>\n      <td>2024-09-17 14:34:38.124779</td>\n      <td>0.063708</td>\n    </tr>\n    <tr>\n      <th>49</th>\n      <td>0.0</td>\n      <td>3.0</td>\n      <td>1.0</td>\n      <td>56.00</td>\n      <td>56.00</td>\n      <td>0.0</td>\n      <td>0.0</td>\n      <td>17.0</td>\n      <td>17.0</td>\n      <td>3023.0</td>\n      <td>departamento</td>\n      <td>SP</td>\n      <td>NaN</td>\n      <td>https://www.portalinmobiliario.com/MLC-1473135...</td>\n      <td>1</td>\n      <td>1.070000e+08</td>\n      <td>2826.11</td>\n      <td>venta</td>\n      <td>2024-09-17 14:34:38.133778</td>\n      <td>0.044860</td>\n    </tr>\n  </tbody>\n</table>\n</div>"
     },
     "execution_count": 19,
     "metadata": {},
     "output_type": "execute_result"
    }
   ],
   "source": [
    "WSPI.analysis_results[\"df_caprate_departamento\"]"
   ],
   "metadata": {
    "collapsed": false,
    "ExecuteTime": {
     "end_time": "2024-09-17T17:49:09.301364Z",
     "start_time": "2024-09-17T17:49:09.158043Z"
    }
   },
   "id": "eb7dbd741982be3f",
   "execution_count": 19
  },
  {
   "cell_type": "markdown",
   "source": [
    "# APRENDIZAJES"
   ],
   "metadata": {
    "collapsed": false
   },
   "id": "446fa83cdae743ea"
  },
  {
   "cell_type": "markdown",
   "source": [
    "\n",
    "webdriver\n",
    "2. es bueno reiniciar y cerrar el driver\n",
    "2. el estado de la pagina (restricciones) cambiara solo con el refresh!!\n",
    "3. Si se aplica un init y luego get/request no retornara NADA (PUEDE QUE SI PERO EN GENERAL NO PORQUE ES UN USER NUEVO SE ASOCIARA CON WEBSCRAPPING)\n",
    "4. el orden correcto sera\n",
    "\n",
    "close--> init--> request (primera vez ,  alta probabilida de falla) -->  refresh (recarga y se puede obtener la tabla y ubicaciion)"
   ],
   "metadata": {
    "collapsed": false
   },
   "id": "a8937b1e890d1dc4"
  },
  {
   "cell_type": "code",
   "outputs": [],
   "source": [],
   "metadata": {
    "collapsed": false
   },
   "id": "20f3da1f1dec557d"
  }
 ],
 "metadata": {
  "kernelspec": {
   "display_name": "Python 3",
   "language": "python",
   "name": "python3"
  },
  "language_info": {
   "codemirror_mode": {
    "name": "ipython",
    "version": 2
   },
   "file_extension": ".py",
   "mimetype": "text/x-python",
   "name": "python",
   "nbconvert_exporter": "python",
   "pygments_lexer": "ipython2",
   "version": "2.7.6"
  }
 },
 "nbformat": 4,
 "nbformat_minor": 5
}
