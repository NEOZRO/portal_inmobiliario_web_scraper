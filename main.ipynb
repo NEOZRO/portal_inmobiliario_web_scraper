{
 "cells": [
  {
   "cell_type": "code",
   "outputs": [],
   "source": [
    "import numpy as np\n",
    "import pandas as pd"
   ],
   "metadata": {
    "collapsed": false,
    "ExecuteTime": {
     "end_time": "2024-08-28T19:58:43.545398Z",
     "start_time": "2024-08-28T19:58:42.131900Z"
    }
   },
   "id": "6b4c9c02f315ef60",
   "execution_count": 1
  },
  {
   "cell_type": "code",
   "outputs": [],
   "source": [
    "%load_ext autoreload\n",
    "%autoreload 2"
   ],
   "metadata": {
    "collapsed": false,
    "ExecuteTime": {
     "end_time": "2024-08-28T19:58:43.888337Z",
     "start_time": "2024-08-28T19:58:43.550500Z"
    }
   },
   "id": "c76e8862c3f8de5a",
   "execution_count": 2
  },
  {
   "cell_type": "markdown",
   "source": [
    "https://openaccess.uoc.edu/bitstream/10609/148363/3/miravecaTFG0623memoria.pdf\n",
    "\n",
    "https://www.portalinmobiliario.com/robots.txt\n"
   ],
   "metadata": {
    "collapsed": false
   },
   "id": "1d1ac9f156c6ea82"
  },
  {
   "metadata": {
    "ExecuteTime": {
     "end_time": "2024-08-28T19:58:45.952130Z",
     "start_time": "2024-08-28T19:58:43.891336Z"
    }
   },
   "cell_type": "code",
   "source": [
    "from webscrapper_portal_inmobiliario import *"
   ],
   "id": "f83798ce4459a42b",
   "outputs": [],
   "execution_count": 3
  },
  {
   "cell_type": "markdown",
   "source": [
    "### TODO:\n",
    "- ~~trackear propiedades en el tiempo para el mismo sector  SE HACE CON LA [LAT LONG]~~\n",
    "- Sortear baneos de ip por muchas request - sectores con muchas propiedades\n",
    "https://brightdata.com/cp/zones/residential_proxy1/edit 8 dolares el GB\n",
    "- Calculos de estadicticas de rentabilidad\n",
    "- rankear propiedades basado en esto\n",
    "- grafico mapa donde se encuentran estas propiedades\n",
    "- extraer imagenes del TOP 3 Propiedades\n",
    "\n",
    "### FIXES\n",
    "- ~~Cambiar id unico al titulo, se pierden precios con lat long porque poseen la misma ubicacion~~\n",
    "- ~~hacer que cuando falle, re llenenen con nan los valores faltantes~~\n",
    "- ~~al cambiar en total number of request max--> 0, se pierde el hilo para sacar la tabla fallando~~\n",
    "- ~~las tablas no estan siendo detectadas por xpath ni en soup tables.. aparentemente quedan en un formato lazy,\n",
    "   pero la data esta ahi en un diccionario~~\n",
    "   - ~~El problema sucedia porque se requere un wait para que carge todo... esto afecta aveces tambien a las paginas main urls.. se nesesita aplicar~~\n",
    "- ~~El nuevo formato de pagina low/webscrapping tiene todo lo nesesario y la full cambia en nombre al texto de \"UBICACION\"~~\n",
    "\n",
    "-  ~~se presentan errores en determinadas propiedades con la nueva metodologia de extraccioon de tabla. pero aveces no sucede. trackear error~~\n"
   ],
   "metadata": {
    "collapsed": false
   },
   "id": "67c501318ab4de82"
  },
  {
   "cell_type": "markdown",
   "source": [
    "### APRENDIZAJES\n",
    "\n",
    "webdriver\n",
    "2. es bueno reiniciar y cerrar el driver\n",
    "2. el estado de la pagina (restricciones) cambiara solo con el refresh!!\n",
    "3. Si se aplica un init y luego get/request no retornara NADA (PUEDE QUE SI PERO EN GENERAL NO PORQUE ES UN USER NUEVO SE ASOCIARA CON WEBSCRAPPING)\n",
    "4. el orden correcto sera\n",
    "\n",
    "close--> init--> request (primera vez ,  alta probabilida de falla) -->  refresh (recarga y se puede obtener la tabla y ubicaciion)"
   ],
   "metadata": {
    "collapsed": false
   },
   "id": "35579bfa3eb3c0d8"
  },
  {
   "cell_type": "code",
   "id": "initial_id",
   "metadata": {
    "collapsed": true,
    "ExecuteTime": {
     "end_time": "2024-08-28T19:58:49.009902Z",
     "start_time": "2024-08-28T19:58:45.957126Z"
    }
   },
   "source": [
    "WSPI = WebScraperPortalInmobiliario(tipo_operacion=\"venta\",\n",
    "                                    tipo_inmueble=\"departamento\",\n",
    "                                    theme=\"default\",\n",
    "                                    folder_save_name=\"metro_manquehue\",\n",
    "                                    debug=True)"
   ],
   "outputs": [],
   "execution_count": 4
  },
  {
   "cell_type": "markdown",
   "source": [
    "POR ALGUNA RAZON EN VENTA- MANQUEHUE AL LLEGAR A 100 COMENZO A DEMORARSE 100 SEGUNDOS POR ITERACIO... PERO NO ESTABA BLOCKEADO POR IP...\n",
    "VERIFICAR SI FUE BLOQUEO DE IP\n",
    "QUE EL PROGRAMNA IMPRIMA EN QUE OPERACION ESTA ACTUALMENTE Y/O CON QUE TIEMPO , DEBUG OPTION?\n",
    "\n",
    "LOGRO SACAR ENTRE ARRIIENDO Y VENTA ALREDEDOR DE 330 PROPIEDADES SIN PROBLEMAS NI ERRORES, ANTES DE QUE COMENZARA A PEGARSE...\n",
    "\n",
    "iNTENTAR SOLO VENTA EN MANQUEHUE POR SEPARADO A VER SI SE PEGA EN LA MISMA CANTIDAD DE LINKS"
   ],
   "metadata": {
    "collapsed": false
   },
   "id": "2f2b2d537ab3b18b"
  },
  {
   "cell_type": "markdown",
   "source": [
    "la data esta o en metadata o en formato tabla, buscandola en ambas opciones deberia funcionar"
   ],
   "metadata": {
    "collapsed": false
   },
   "id": "ba611f72fb89788"
  },
  {
   "cell_type": "markdown",
   "source": [
    "# bright data proxies"
   ],
   "metadata": {
    "collapsed": false
   },
   "id": "cc33370cfb91c2ec"
  },
  {
   "cell_type": "markdown",
   "source": [
    "#### IP PROXY DINAMIC CHANGE\n",
    "...TODO"
   ],
   "metadata": {
    "collapsed": false
   },
   "id": "25d2c51ccc79c4a4"
  },
  {
   "cell_type": "code",
   "outputs": [],
   "source": [
    "WSPI.close_webdriver()"
   ],
   "metadata": {
    "collapsed": false,
    "ExecuteTime": {
     "end_time": "2024-08-28T20:15:29.894353Z",
     "start_time": "2024-08-28T20:15:27.664075Z"
    }
   },
   "id": "4c78c7b9a95a133f",
   "execution_count": 21
  },
  {
   "cell_type": "code",
   "outputs": [],
   "source": [
    "WSPI.init_webdriver()"
   ],
   "metadata": {
    "collapsed": false,
    "ExecuteTime": {
     "end_time": "2024-08-28T20:15:35.140634Z",
     "start_time": "2024-08-28T20:15:29.896352Z"
    }
   },
   "id": "16dc8305f82cf35d",
   "execution_count": 22
  },
  {
   "cell_type": "code",
   "outputs": [
    {
     "data": {
      "text/plain": "<html><head></head><body></body></html>"
     },
     "execution_count": 23,
     "metadata": {},
     "output_type": "execute_result"
    }
   ],
   "source": [
    "WSPI.webdriver_request(\"https://www.portalinmobiliario.com/MLC-1511448475-se-arrienda-departamento-en-la-florida-520000-_JM#position%3D4%26search_layout%3Dmap%26type%3Ditem%26tracking_id%3Dabf83f57-71a6-4237-866a-9001175d96b6\")"
   ],
   "metadata": {
    "collapsed": false,
    "ExecuteTime": {
     "end_time": "2024-08-28T20:15:40.518060Z",
     "start_time": "2024-08-28T20:15:35.143646Z"
    }
   },
   "id": "16b030f206ba64f0",
   "execution_count": 23
  },
  {
   "cell_type": "code",
   "outputs": [],
   "source": [],
   "metadata": {
    "collapsed": false
   },
   "id": "35986abdd491e282"
  },
  {
   "cell_type": "code",
   "outputs": [
    {
     "data": {
      "text/plain": "'http://brd-customer-hl_fb6fe685-zone-residential_proxy1-country-cl-session-0.9644409118401253:wywp20qz9f5u@brd.superproxy.io:22225'"
     },
     "execution_count": 41,
     "metadata": {},
     "output_type": "execute_result"
    }
   ],
   "source": [
    "import urllib.request\n",
    "username = 'brd-customer-hl_fb6fe685-zone-residential_proxy1'\n",
    "password = 'wywp20qz9f5u'\n",
    "port = 22225\n",
    "session_id = random.random()\n",
    "super_proxy_url = ('http://%s-country-cl-session-%s:%s@brd.superproxy.io:%d' %\n",
    "                   (username, session_id, password, port))\n",
    "super_proxy_url"
   ],
   "metadata": {
    "collapsed": false,
    "ExecuteTime": {
     "end_time": "2024-08-28T20:30:04.471872Z",
     "start_time": "2024-08-28T20:30:04.361939Z"
    }
   },
   "id": "bdba3526612a7611",
   "execution_count": 41
  },
  {
   "cell_type": "code",
   "outputs": [],
   "source": [],
   "metadata": {
    "collapsed": false
   },
   "id": "6a9dafa2ac3e7d43"
  },
  {
   "cell_type": "code",
   "outputs": [
    {
     "ename": "SSLError",
     "evalue": "HTTPSConnectionPool(host='www.portalinmobiliario.com', port=443): Max retries exceeded with url: / (Caused by SSLError(SSLCertVerificationError(1, '[SSL: CERTIFICATE_VERIFY_FAILED] certificate verify failed: unable to get local issuer certificate (_ssl.c:1091)')))",
     "output_type": "error",
     "traceback": [
      "\u001B[1;31m---------------------------------------------------------------------------\u001B[0m",
      "\u001B[1;31mSSLCertVerificationError\u001B[0m                  Traceback (most recent call last)",
      "\u001B[1;32mc:\\users\\espdatascienceat\\appdata\\local\\programs\\python\\python37\\lib\\site-packages\\urllib3\\connectionpool.py\u001B[0m in \u001B[0;36murlopen\u001B[1;34m(self, method, url, body, headers, retries, redirect, assert_same_host, timeout, pool_timeout, release_conn, chunked, body_pos, **response_kw)\u001B[0m\n\u001B[0;32m    699\u001B[0m             \u001B[1;32mif\u001B[0m \u001B[0mis_new_proxy_conn\u001B[0m \u001B[1;32mand\u001B[0m \u001B[0mhttp_tunnel_required\u001B[0m\u001B[1;33m:\u001B[0m\u001B[1;33m\u001B[0m\u001B[1;33m\u001B[0m\u001B[0m\n\u001B[1;32m--> 700\u001B[1;33m                 \u001B[0mself\u001B[0m\u001B[1;33m.\u001B[0m\u001B[0m_prepare_proxy\u001B[0m\u001B[1;33m(\u001B[0m\u001B[0mconn\u001B[0m\u001B[1;33m)\u001B[0m\u001B[1;33m\u001B[0m\u001B[1;33m\u001B[0m\u001B[0m\n\u001B[0m\u001B[0;32m    701\u001B[0m \u001B[1;33m\u001B[0m\u001B[0m\n",
      "\u001B[1;32mc:\\users\\espdatascienceat\\appdata\\local\\programs\\python\\python37\\lib\\site-packages\\urllib3\\connectionpool.py\u001B[0m in \u001B[0;36m_prepare_proxy\u001B[1;34m(self, conn)\u001B[0m\n\u001B[0;32m    993\u001B[0m \u001B[1;33m\u001B[0m\u001B[0m\n\u001B[1;32m--> 994\u001B[1;33m         \u001B[0mconn\u001B[0m\u001B[1;33m.\u001B[0m\u001B[0mconnect\u001B[0m\u001B[1;33m(\u001B[0m\u001B[1;33m)\u001B[0m\u001B[1;33m\u001B[0m\u001B[1;33m\u001B[0m\u001B[0m\n\u001B[0m\u001B[0;32m    995\u001B[0m \u001B[1;33m\u001B[0m\u001B[0m\n",
      "\u001B[1;32mc:\\users\\espdatascienceat\\appdata\\local\\programs\\python\\python37\\lib\\site-packages\\urllib3\\connection.py\u001B[0m in \u001B[0;36mconnect\u001B[1;34m(self)\u001B[0m\n\u001B[0;32m    425\u001B[0m             \u001B[0mssl_context\u001B[0m\u001B[1;33m=\u001B[0m\u001B[0mcontext\u001B[0m\u001B[1;33m,\u001B[0m\u001B[1;33m\u001B[0m\u001B[1;33m\u001B[0m\u001B[0m\n\u001B[1;32m--> 426\u001B[1;33m             \u001B[0mtls_in_tls\u001B[0m\u001B[1;33m=\u001B[0m\u001B[0mtls_in_tls\u001B[0m\u001B[1;33m,\u001B[0m\u001B[1;33m\u001B[0m\u001B[1;33m\u001B[0m\u001B[0m\n\u001B[0m\u001B[0;32m    427\u001B[0m         )\n",
      "\u001B[1;32mc:\\users\\espdatascienceat\\appdata\\local\\programs\\python\\python37\\lib\\site-packages\\urllib3\\util\\ssl_.py\u001B[0m in \u001B[0;36mssl_wrap_socket\u001B[1;34m(sock, keyfile, certfile, cert_reqs, ca_certs, server_hostname, ssl_version, ciphers, ssl_context, ca_cert_dir, key_password, ca_cert_data, tls_in_tls)\u001B[0m\n\u001B[0;32m    449\u001B[0m         ssl_sock = _ssl_wrap_socket_impl(\n\u001B[1;32m--> 450\u001B[1;33m             \u001B[0msock\u001B[0m\u001B[1;33m,\u001B[0m \u001B[0mcontext\u001B[0m\u001B[1;33m,\u001B[0m \u001B[0mtls_in_tls\u001B[0m\u001B[1;33m,\u001B[0m \u001B[0mserver_hostname\u001B[0m\u001B[1;33m=\u001B[0m\u001B[0mserver_hostname\u001B[0m\u001B[1;33m\u001B[0m\u001B[1;33m\u001B[0m\u001B[0m\n\u001B[0m\u001B[0;32m    451\u001B[0m         )\n",
      "\u001B[1;32mc:\\users\\espdatascienceat\\appdata\\local\\programs\\python\\python37\\lib\\site-packages\\urllib3\\util\\ssl_.py\u001B[0m in \u001B[0;36m_ssl_wrap_socket_impl\u001B[1;34m(sock, ssl_context, tls_in_tls, server_hostname)\u001B[0m\n\u001B[0;32m    492\u001B[0m     \u001B[1;32mif\u001B[0m \u001B[0mserver_hostname\u001B[0m\u001B[1;33m:\u001B[0m\u001B[1;33m\u001B[0m\u001B[1;33m\u001B[0m\u001B[0m\n\u001B[1;32m--> 493\u001B[1;33m         \u001B[1;32mreturn\u001B[0m \u001B[0mssl_context\u001B[0m\u001B[1;33m.\u001B[0m\u001B[0mwrap_socket\u001B[0m\u001B[1;33m(\u001B[0m\u001B[0msock\u001B[0m\u001B[1;33m,\u001B[0m \u001B[0mserver_hostname\u001B[0m\u001B[1;33m=\u001B[0m\u001B[0mserver_hostname\u001B[0m\u001B[1;33m)\u001B[0m\u001B[1;33m\u001B[0m\u001B[1;33m\u001B[0m\u001B[0m\n\u001B[0m\u001B[0;32m    494\u001B[0m     \u001B[1;32melse\u001B[0m\u001B[1;33m:\u001B[0m\u001B[1;33m\u001B[0m\u001B[1;33m\u001B[0m\u001B[0m\n",
      "\u001B[1;32mc:\\users\\espdatascienceat\\appdata\\local\\programs\\python\\python37\\lib\\ssl.py\u001B[0m in \u001B[0;36mwrap_socket\u001B[1;34m(self, sock, server_side, do_handshake_on_connect, suppress_ragged_eofs, server_hostname, session)\u001B[0m\n\u001B[0;32m    422\u001B[0m             \u001B[0mcontext\u001B[0m\u001B[1;33m=\u001B[0m\u001B[0mself\u001B[0m\u001B[1;33m,\u001B[0m\u001B[1;33m\u001B[0m\u001B[1;33m\u001B[0m\u001B[0m\n\u001B[1;32m--> 423\u001B[1;33m             \u001B[0msession\u001B[0m\u001B[1;33m=\u001B[0m\u001B[0msession\u001B[0m\u001B[1;33m\u001B[0m\u001B[1;33m\u001B[0m\u001B[0m\n\u001B[0m\u001B[0;32m    424\u001B[0m         )\n",
      "\u001B[1;32mc:\\users\\espdatascienceat\\appdata\\local\\programs\\python\\python37\\lib\\ssl.py\u001B[0m in \u001B[0;36m_create\u001B[1;34m(cls, sock, server_side, do_handshake_on_connect, suppress_ragged_eofs, server_hostname, context, session)\u001B[0m\n\u001B[0;32m    869\u001B[0m                         \u001B[1;32mraise\u001B[0m \u001B[0mValueError\u001B[0m\u001B[1;33m(\u001B[0m\u001B[1;34m\"do_handshake_on_connect should not be specified for non-blocking sockets\"\u001B[0m\u001B[1;33m)\u001B[0m\u001B[1;33m\u001B[0m\u001B[1;33m\u001B[0m\u001B[0m\n\u001B[1;32m--> 870\u001B[1;33m                     \u001B[0mself\u001B[0m\u001B[1;33m.\u001B[0m\u001B[0mdo_handshake\u001B[0m\u001B[1;33m(\u001B[0m\u001B[1;33m)\u001B[0m\u001B[1;33m\u001B[0m\u001B[1;33m\u001B[0m\u001B[0m\n\u001B[0m\u001B[0;32m    871\u001B[0m             \u001B[1;32mexcept\u001B[0m \u001B[1;33m(\u001B[0m\u001B[0mOSError\u001B[0m\u001B[1;33m,\u001B[0m \u001B[0mValueError\u001B[0m\u001B[1;33m)\u001B[0m\u001B[1;33m:\u001B[0m\u001B[1;33m\u001B[0m\u001B[1;33m\u001B[0m\u001B[0m\n",
      "\u001B[1;32mc:\\users\\espdatascienceat\\appdata\\local\\programs\\python\\python37\\lib\\ssl.py\u001B[0m in \u001B[0;36mdo_handshake\u001B[1;34m(self, block)\u001B[0m\n\u001B[0;32m   1138\u001B[0m                 \u001B[0mself\u001B[0m\u001B[1;33m.\u001B[0m\u001B[0msettimeout\u001B[0m\u001B[1;33m(\u001B[0m\u001B[1;32mNone\u001B[0m\u001B[1;33m)\u001B[0m\u001B[1;33m\u001B[0m\u001B[1;33m\u001B[0m\u001B[0m\n\u001B[1;32m-> 1139\u001B[1;33m             \u001B[0mself\u001B[0m\u001B[1;33m.\u001B[0m\u001B[0m_sslobj\u001B[0m\u001B[1;33m.\u001B[0m\u001B[0mdo_handshake\u001B[0m\u001B[1;33m(\u001B[0m\u001B[1;33m)\u001B[0m\u001B[1;33m\u001B[0m\u001B[1;33m\u001B[0m\u001B[0m\n\u001B[0m\u001B[0;32m   1140\u001B[0m         \u001B[1;32mfinally\u001B[0m\u001B[1;33m:\u001B[0m\u001B[1;33m\u001B[0m\u001B[1;33m\u001B[0m\u001B[0m\n",
      "\u001B[1;31mSSLCertVerificationError\u001B[0m: [SSL: CERTIFICATE_VERIFY_FAILED] certificate verify failed: unable to get local issuer certificate (_ssl.c:1091)",
      "\nDuring handling of the above exception, another exception occurred:\n",
      "\u001B[1;31mMaxRetryError\u001B[0m                             Traceback (most recent call last)",
      "\u001B[1;32mc:\\users\\espdatascienceat\\appdata\\local\\programs\\python\\python37\\lib\\site-packages\\requests\\adapters.py\u001B[0m in \u001B[0;36msend\u001B[1;34m(self, request, stream, timeout, verify, cert, proxies)\u001B[0m\n\u001B[0;32m    449\u001B[0m                     \u001B[0mretries\u001B[0m\u001B[1;33m=\u001B[0m\u001B[0mself\u001B[0m\u001B[1;33m.\u001B[0m\u001B[0mmax_retries\u001B[0m\u001B[1;33m,\u001B[0m\u001B[1;33m\u001B[0m\u001B[1;33m\u001B[0m\u001B[0m\n\u001B[1;32m--> 450\u001B[1;33m                     \u001B[0mtimeout\u001B[0m\u001B[1;33m=\u001B[0m\u001B[0mtimeout\u001B[0m\u001B[1;33m\u001B[0m\u001B[1;33m\u001B[0m\u001B[0m\n\u001B[0m\u001B[0;32m    451\u001B[0m                 )\n",
      "\u001B[1;32mc:\\users\\espdatascienceat\\appdata\\local\\programs\\python\\python37\\lib\\site-packages\\urllib3\\connectionpool.py\u001B[0m in \u001B[0;36murlopen\u001B[1;34m(self, method, url, body, headers, retries, redirect, assert_same_host, timeout, pool_timeout, release_conn, chunked, body_pos, **response_kw)\u001B[0m\n\u001B[0;32m    785\u001B[0m             retries = retries.increment(\n\u001B[1;32m--> 786\u001B[1;33m                 \u001B[0mmethod\u001B[0m\u001B[1;33m,\u001B[0m \u001B[0murl\u001B[0m\u001B[1;33m,\u001B[0m \u001B[0merror\u001B[0m\u001B[1;33m=\u001B[0m\u001B[0me\u001B[0m\u001B[1;33m,\u001B[0m \u001B[0m_pool\u001B[0m\u001B[1;33m=\u001B[0m\u001B[0mself\u001B[0m\u001B[1;33m,\u001B[0m \u001B[0m_stacktrace\u001B[0m\u001B[1;33m=\u001B[0m\u001B[0msys\u001B[0m\u001B[1;33m.\u001B[0m\u001B[0mexc_info\u001B[0m\u001B[1;33m(\u001B[0m\u001B[1;33m)\u001B[0m\u001B[1;33m[\u001B[0m\u001B[1;36m2\u001B[0m\u001B[1;33m]\u001B[0m\u001B[1;33m\u001B[0m\u001B[1;33m\u001B[0m\u001B[0m\n\u001B[0m\u001B[0;32m    787\u001B[0m             )\n",
      "\u001B[1;32mc:\\users\\espdatascienceat\\appdata\\local\\programs\\python\\python37\\lib\\site-packages\\urllib3\\util\\retry.py\u001B[0m in \u001B[0;36mincrement\u001B[1;34m(self, method, url, response, error, _pool, _stacktrace)\u001B[0m\n\u001B[0;32m    591\u001B[0m         \u001B[1;32mif\u001B[0m \u001B[0mnew_retry\u001B[0m\u001B[1;33m.\u001B[0m\u001B[0mis_exhausted\u001B[0m\u001B[1;33m(\u001B[0m\u001B[1;33m)\u001B[0m\u001B[1;33m:\u001B[0m\u001B[1;33m\u001B[0m\u001B[1;33m\u001B[0m\u001B[0m\n\u001B[1;32m--> 592\u001B[1;33m             \u001B[1;32mraise\u001B[0m \u001B[0mMaxRetryError\u001B[0m\u001B[1;33m(\u001B[0m\u001B[0m_pool\u001B[0m\u001B[1;33m,\u001B[0m \u001B[0murl\u001B[0m\u001B[1;33m,\u001B[0m \u001B[0merror\u001B[0m \u001B[1;32mor\u001B[0m \u001B[0mResponseError\u001B[0m\u001B[1;33m(\u001B[0m\u001B[0mcause\u001B[0m\u001B[1;33m)\u001B[0m\u001B[1;33m)\u001B[0m\u001B[1;33m\u001B[0m\u001B[1;33m\u001B[0m\u001B[0m\n\u001B[0m\u001B[0;32m    593\u001B[0m \u001B[1;33m\u001B[0m\u001B[0m\n",
      "\u001B[1;31mMaxRetryError\u001B[0m: HTTPSConnectionPool(host='www.portalinmobiliario.com', port=443): Max retries exceeded with url: / (Caused by SSLError(SSLCertVerificationError(1, '[SSL: CERTIFICATE_VERIFY_FAILED] certificate verify failed: unable to get local issuer certificate (_ssl.c:1091)')))",
      "\nDuring handling of the above exception, another exception occurred:\n",
      "\u001B[1;31mSSLError\u001B[0m                                  Traceback (most recent call last)",
      "\u001B[1;32m~\\AppData\\Local\\Temp\\ipykernel_8720\\3234978753.py\u001B[0m in \u001B[0;36m<module>\u001B[1;34m\u001B[0m\n\u001B[0;32m     14\u001B[0m                    (username, session_id, password, port))\n\u001B[0;32m     15\u001B[0m \u001B[1;33m\u001B[0m\u001B[0m\n\u001B[1;32m---> 16\u001B[1;33m \u001B[0mr\u001B[0m \u001B[1;33m=\u001B[0m \u001B[0mrequests\u001B[0m\u001B[1;33m.\u001B[0m\u001B[0mget\u001B[0m\u001B[1;33m(\u001B[0m\u001B[1;34m\"https://www.portalinmobiliario.com/\"\u001B[0m\u001B[1;33m,\u001B[0m \u001B[0mproxies\u001B[0m\u001B[1;33m=\u001B[0m\u001B[1;33m{\u001B[0m\u001B[1;34m\"http\"\u001B[0m\u001B[1;33m:\u001B[0m \u001B[0msuper_proxy_url\u001B[0m\u001B[1;33m,\u001B[0m \u001B[1;34m\"https\"\u001B[0m\u001B[1;33m:\u001B[0m \u001B[0msuper_proxy_url\u001B[0m\u001B[1;33m}\u001B[0m\u001B[1;33m)\u001B[0m\u001B[1;33m\u001B[0m\u001B[1;33m\u001B[0m\u001B[0m\n\u001B[0m\u001B[0;32m     17\u001B[0m \u001B[1;33m\u001B[0m\u001B[0m\n\u001B[0;32m     18\u001B[0m \u001B[1;32mif\u001B[0m \u001B[0mr\u001B[0m\u001B[1;33m.\u001B[0m\u001B[0mstatus_code\u001B[0m \u001B[1;33m==\u001B[0m \u001B[1;36m200\u001B[0m\u001B[1;33m:\u001B[0m\u001B[1;33m\u001B[0m\u001B[1;33m\u001B[0m\u001B[0m\n",
      "\u001B[1;32mc:\\users\\espdatascienceat\\appdata\\local\\programs\\python\\python37\\lib\\site-packages\\requests\\api.py\u001B[0m in \u001B[0;36mget\u001B[1;34m(url, params, **kwargs)\u001B[0m\n\u001B[0;32m     73\u001B[0m     \"\"\"\n\u001B[0;32m     74\u001B[0m \u001B[1;33m\u001B[0m\u001B[0m\n\u001B[1;32m---> 75\u001B[1;33m     \u001B[1;32mreturn\u001B[0m \u001B[0mrequest\u001B[0m\u001B[1;33m(\u001B[0m\u001B[1;34m'get'\u001B[0m\u001B[1;33m,\u001B[0m \u001B[0murl\u001B[0m\u001B[1;33m,\u001B[0m \u001B[0mparams\u001B[0m\u001B[1;33m=\u001B[0m\u001B[0mparams\u001B[0m\u001B[1;33m,\u001B[0m \u001B[1;33m**\u001B[0m\u001B[0mkwargs\u001B[0m\u001B[1;33m)\u001B[0m\u001B[1;33m\u001B[0m\u001B[1;33m\u001B[0m\u001B[0m\n\u001B[0m\u001B[0;32m     76\u001B[0m \u001B[1;33m\u001B[0m\u001B[0m\n\u001B[0;32m     77\u001B[0m \u001B[1;33m\u001B[0m\u001B[0m\n",
      "\u001B[1;32mc:\\users\\espdatascienceat\\appdata\\local\\programs\\python\\python37\\lib\\site-packages\\requests\\api.py\u001B[0m in \u001B[0;36mrequest\u001B[1;34m(method, url, **kwargs)\u001B[0m\n\u001B[0;32m     59\u001B[0m     \u001B[1;31m# cases, and look like a memory leak in others.\u001B[0m\u001B[1;33m\u001B[0m\u001B[1;33m\u001B[0m\u001B[1;33m\u001B[0m\u001B[0m\n\u001B[0;32m     60\u001B[0m     \u001B[1;32mwith\u001B[0m \u001B[0msessions\u001B[0m\u001B[1;33m.\u001B[0m\u001B[0mSession\u001B[0m\u001B[1;33m(\u001B[0m\u001B[1;33m)\u001B[0m \u001B[1;32mas\u001B[0m \u001B[0msession\u001B[0m\u001B[1;33m:\u001B[0m\u001B[1;33m\u001B[0m\u001B[1;33m\u001B[0m\u001B[0m\n\u001B[1;32m---> 61\u001B[1;33m         \u001B[1;32mreturn\u001B[0m \u001B[0msession\u001B[0m\u001B[1;33m.\u001B[0m\u001B[0mrequest\u001B[0m\u001B[1;33m(\u001B[0m\u001B[0mmethod\u001B[0m\u001B[1;33m=\u001B[0m\u001B[0mmethod\u001B[0m\u001B[1;33m,\u001B[0m \u001B[0murl\u001B[0m\u001B[1;33m=\u001B[0m\u001B[0murl\u001B[0m\u001B[1;33m,\u001B[0m \u001B[1;33m**\u001B[0m\u001B[0mkwargs\u001B[0m\u001B[1;33m)\u001B[0m\u001B[1;33m\u001B[0m\u001B[1;33m\u001B[0m\u001B[0m\n\u001B[0m\u001B[0;32m     62\u001B[0m \u001B[1;33m\u001B[0m\u001B[0m\n\u001B[0;32m     63\u001B[0m \u001B[1;33m\u001B[0m\u001B[0m\n",
      "\u001B[1;32mc:\\users\\espdatascienceat\\appdata\\local\\programs\\python\\python37\\lib\\site-packages\\requests\\sessions.py\u001B[0m in \u001B[0;36mrequest\u001B[1;34m(self, method, url, params, data, headers, cookies, files, auth, timeout, allow_redirects, proxies, hooks, stream, verify, cert, json)\u001B[0m\n\u001B[0;32m    527\u001B[0m         }\n\u001B[0;32m    528\u001B[0m         \u001B[0msend_kwargs\u001B[0m\u001B[1;33m.\u001B[0m\u001B[0mupdate\u001B[0m\u001B[1;33m(\u001B[0m\u001B[0msettings\u001B[0m\u001B[1;33m)\u001B[0m\u001B[1;33m\u001B[0m\u001B[1;33m\u001B[0m\u001B[0m\n\u001B[1;32m--> 529\u001B[1;33m         \u001B[0mresp\u001B[0m \u001B[1;33m=\u001B[0m \u001B[0mself\u001B[0m\u001B[1;33m.\u001B[0m\u001B[0msend\u001B[0m\u001B[1;33m(\u001B[0m\u001B[0mprep\u001B[0m\u001B[1;33m,\u001B[0m \u001B[1;33m**\u001B[0m\u001B[0msend_kwargs\u001B[0m\u001B[1;33m)\u001B[0m\u001B[1;33m\u001B[0m\u001B[1;33m\u001B[0m\u001B[0m\n\u001B[0m\u001B[0;32m    530\u001B[0m \u001B[1;33m\u001B[0m\u001B[0m\n\u001B[0;32m    531\u001B[0m         \u001B[1;32mreturn\u001B[0m \u001B[0mresp\u001B[0m\u001B[1;33m\u001B[0m\u001B[1;33m\u001B[0m\u001B[0m\n",
      "\u001B[1;32mc:\\users\\espdatascienceat\\appdata\\local\\programs\\python\\python37\\lib\\site-packages\\requests\\sessions.py\u001B[0m in \u001B[0;36msend\u001B[1;34m(self, request, **kwargs)\u001B[0m\n\u001B[0;32m    643\u001B[0m \u001B[1;33m\u001B[0m\u001B[0m\n\u001B[0;32m    644\u001B[0m         \u001B[1;31m# Send the request\u001B[0m\u001B[1;33m\u001B[0m\u001B[1;33m\u001B[0m\u001B[1;33m\u001B[0m\u001B[0m\n\u001B[1;32m--> 645\u001B[1;33m         \u001B[0mr\u001B[0m \u001B[1;33m=\u001B[0m \u001B[0madapter\u001B[0m\u001B[1;33m.\u001B[0m\u001B[0msend\u001B[0m\u001B[1;33m(\u001B[0m\u001B[0mrequest\u001B[0m\u001B[1;33m,\u001B[0m \u001B[1;33m**\u001B[0m\u001B[0mkwargs\u001B[0m\u001B[1;33m)\u001B[0m\u001B[1;33m\u001B[0m\u001B[1;33m\u001B[0m\u001B[0m\n\u001B[0m\u001B[0;32m    646\u001B[0m \u001B[1;33m\u001B[0m\u001B[0m\n\u001B[0;32m    647\u001B[0m         \u001B[1;31m# Total elapsed time of the request (approximately)\u001B[0m\u001B[1;33m\u001B[0m\u001B[1;33m\u001B[0m\u001B[1;33m\u001B[0m\u001B[0m\n",
      "\u001B[1;32mc:\\users\\espdatascienceat\\appdata\\local\\programs\\python\\python37\\lib\\site-packages\\requests\\adapters.py\u001B[0m in \u001B[0;36msend\u001B[1;34m(self, request, stream, timeout, verify, cert, proxies)\u001B[0m\n\u001B[0;32m    515\u001B[0m             \u001B[1;32mif\u001B[0m \u001B[0misinstance\u001B[0m\u001B[1;33m(\u001B[0m\u001B[0me\u001B[0m\u001B[1;33m.\u001B[0m\u001B[0mreason\u001B[0m\u001B[1;33m,\u001B[0m \u001B[0m_SSLError\u001B[0m\u001B[1;33m)\u001B[0m\u001B[1;33m:\u001B[0m\u001B[1;33m\u001B[0m\u001B[1;33m\u001B[0m\u001B[0m\n\u001B[0;32m    516\u001B[0m                 \u001B[1;31m# This branch is for urllib3 v1.22 and later.\u001B[0m\u001B[1;33m\u001B[0m\u001B[1;33m\u001B[0m\u001B[1;33m\u001B[0m\u001B[0m\n\u001B[1;32m--> 517\u001B[1;33m                 \u001B[1;32mraise\u001B[0m \u001B[0mSSLError\u001B[0m\u001B[1;33m(\u001B[0m\u001B[0me\u001B[0m\u001B[1;33m,\u001B[0m \u001B[0mrequest\u001B[0m\u001B[1;33m=\u001B[0m\u001B[0mrequest\u001B[0m\u001B[1;33m)\u001B[0m\u001B[1;33m\u001B[0m\u001B[1;33m\u001B[0m\u001B[0m\n\u001B[0m\u001B[0;32m    518\u001B[0m \u001B[1;33m\u001B[0m\u001B[0m\n\u001B[0;32m    519\u001B[0m             \u001B[1;32mraise\u001B[0m \u001B[0mConnectionError\u001B[0m\u001B[1;33m(\u001B[0m\u001B[0me\u001B[0m\u001B[1;33m,\u001B[0m \u001B[0mrequest\u001B[0m\u001B[1;33m=\u001B[0m\u001B[0mrequest\u001B[0m\u001B[1;33m)\u001B[0m\u001B[1;33m\u001B[0m\u001B[1;33m\u001B[0m\u001B[0m\n",
      "\u001B[1;31mSSLError\u001B[0m: HTTPSConnectionPool(host='www.portalinmobiliario.com', port=443): Max retries exceeded with url: / (Caused by SSLError(SSLCertVerificationError(1, '[SSL: CERTIFICATE_VERIFY_FAILED] certificate verify failed: unable to get local issuer certificate (_ssl.c:1091)')))"
     ]
    }
   ],
   "source": [
    "import  requests\n",
    "headers = {\n",
    "    \"Accept\": \"*/*\",\n",
    "    \"Accept-Language\": \"en-US,en;q=0.5\",\n",
    "    \"User-Agent\": \"Mozilla/5.0 (Windows NT 10.0; Win64; x64) AppleWebKit/537.36 (KHTML, like Gecko) Chrome/116.0.0.0 Safari/537.36\"\n",
    "}\n",
    "import urllib.request\n",
    "import random\n",
    "username = 'brd-customer-hl_fb6fe685-zone-residential_proxy1'\n",
    "password = 'wywp20qz9f5u'\n",
    "port = 22225\n",
    "session_id = random.random()\n",
    "super_proxy_url = ('http://%s-country-cl-city-algarrobo-route_err-pass_dyn-session-%s:%s@brd.superproxy.io:%d' %\n",
    "                   (username, session_id, password, port))\n",
    "\n",
    "r = requests.get(\"https://www.portalinmobiliario.com/\", proxies={\"http\": super_proxy_url, \"https\": super_proxy_url})\n",
    "\n",
    "if r.status_code == 200:\n",
    "    print(\"VALID PROXY\")\n",
    "\n",
    "print(r.status_code)"
   ],
   "metadata": {
    "collapsed": false,
    "ExecuteTime": {
     "end_time": "2024-08-28T20:52:38.873412Z",
     "start_time": "2024-08-28T20:52:37.357743Z"
    }
   },
   "id": "887a930f0aa82f8f",
   "execution_count": 3
  },
  {
   "cell_type": "code",
   "outputs": [
    {
     "data": {
      "text/plain": "'c:\\\\users\\\\espdatascienceat\\\\appdata\\\\local\\\\programs\\\\python\\\\python37\\\\lib\\\\site-packages\\\\certifi\\\\cacert.pem'"
     },
     "execution_count": 43,
     "metadata": {},
     "output_type": "execute_result"
    }
   ],
   "source": [
    "custom_certificate_path"
   ],
   "metadata": {
    "collapsed": false,
    "ExecuteTime": {
     "end_time": "2024-08-28T20:30:40.775459Z",
     "start_time": "2024-08-28T20:30:40.676772Z"
    }
   },
   "id": "1dba4d1a6a1ea602",
   "execution_count": 43
  },
  {
   "cell_type": "markdown",
   "source": [
    "#### benchamarks\n",
    "\n",
    "sleep time 2 secs-->\n",
    "70 propiedades : 6 minutos\n",
    "250 propiedades: 24 minutos\n",
    "\n",
    "## sobre las 500 propiedades sufre baneos\n",
    "\n",
    "**Rendimiento de 640 propiedades por hora -  5,6 secs por pagina**\n",
    "\n",
    "sleep time 1 secs--> BLOCKED\n",
    "**Rendimiento de x propiedades por hora -  4.8 secs por pagina**"
   ],
   "metadata": {
    "collapsed": false
   },
   "id": "dab7a16a64b35441"
  },
  {
   "cell_type": "markdown",
   "source": [
    "# DATA MANAGE\n",
    "------------------------------------------"
   ],
   "metadata": {
    "collapsed": false
   },
   "id": "a7e8a4e8e5ac718c"
  },
  {
   "cell_type": "code",
   "outputs": [],
   "source": [
    "%load_ext autoreload\n",
    "%autoreload 2"
   ],
   "metadata": {
    "collapsed": false,
    "ExecuteTime": {
     "end_time": "2024-07-28T23:05:45.809065Z",
     "start_time": "2024-07-28T23:05:45.755581Z"
    }
   },
   "id": "6875c1d59d942aef",
   "execution_count": 2
  },
  {
   "cell_type": "code",
   "outputs": [],
   "source": [
    "from database import *"
   ],
   "metadata": {
    "collapsed": false,
    "ExecuteTime": {
     "end_time": "2024-07-28T23:05:46.638780Z",
     "start_time": "2024-07-28T23:05:46.046963Z"
    }
   },
   "id": "f4b860ff2656f515",
   "execution_count": 3
  },
  {
   "cell_type": "code",
   "outputs": [
    {
     "data": {
      "text/plain": "    Latitude  Longitude dias_desde_publicacion n_dormitorios n_banos  \\\n0 -33.557829  -70.58626                   18.0           3.0     1.0   \n1 -33.558613 -70.585941                   15.0           1.0     1.0   \n2 -33.557953 -70.586883                   12.0           3.0     1.0   \n3 -33.557547 -70.586747                   11.0           3.0     1.0   \n4 -33.559324 -70.586055                    9.0           3.0     2.0   \n5 -33.557235 -70.585874                   36.0           2.0     1.0   \n6 -33.558409 -70.587695                  150.0           3.0     1.0   \n7 -33.559993 -70.585957                  300.0           3.0     1.0   \n\n  superficie_total superficie_util estacionamientos bodegas antiguedad  ...  \\\n0             70.0            70.0              0.0     0.0        NaN  ...   \n1            40.12           40.12              1.0     1.0        NaN  ...   \n2             70.0            70.0              0.0     0.0       30.0  ...   \n3             80.0            80.0              1.0     0.0        0.0  ...   \n4             65.0            61.0              0.0     0.0       16.0  ...   \n5             62.0            62.0              1.0     1.0       25.0  ...   \n6             60.0            60.0              1.0     0.0        0.0  ...   \n7             56.0            56.0              0.0     0.0       17.0  ...   \n\n  gastos_comunes                                             titulo  \\\n0            NaN         Ubicación Privilegiada. Gran Conectividad.   \n1        67000.0    Arrienda En Un Edificio Nuevo A Pasos Del Metro   \n2        40000.0  Amplio Departamento En Excelente Ubicacion/ 1º...   \n3        30000.0    Se Arrienda Departamento En La Florida $520.000   \n4        70000.0                       Amplio Departamento  (23107)   \n5        90000.0     Departamento En Venta De 2 Dorm. En La Florida   \n6        30000.0                Departamento En Venta En La Florida   \n7            NaN   Metro San José De La Estrella  / Vicuña Mackenna   \n\n                                           ubicacion  \\\n0  Vicuña Mackenna 11847, Los Quillayes, La Flori...   \n1  Av. Vicuña Mackenna 10811, Los Quillayes, La F...   \n2  La Paloma 11841, Los Quillayes, La Florida, RM...   \n3  La Paloma, Los Quillayes, La Florida, RM (Metr...   \n4  Amplio Departamento, Los Quillayes, La Florida...   \n5  Vicuña Mackenna 6640, La Florida, La Florida, ...   \n6  El Colibrí, La Florida, Chile, Los Quillayes, ...   \n7      Los Quillayes, La Florida, RM (Metropolitana)   \n\n                                                link             geo_ref_name  \\\n0  https://www.portalinmobiliario.com/MLC-2628826...  Depas_general_arriagada   \n1  https://www.portalinmobiliario.com/MLC-1510438...  Depas_general_arriagada   \n2  https://www.portalinmobiliario.com/MLC-2640451...  Depas_general_arriagada   \n3  https://www.portalinmobiliario.com/MLC-1511448...  Depas_general_arriagada   \n4  https://www.portalinmobiliario.com/MLC-1512249...  Depas_general_arriagada   \n5  https://www.portalinmobiliario.com/MLC-1503001...  Depas_general_arriagada   \n6  https://www.portalinmobiliario.com/MLC-2313468...  Depas_general_arriagada   \n7  https://www.portalinmobiliario.com/MLC-1473135...  Depas_general_arriagada   \n\n  listed        Price     Price_UF tipo_operacion                        Date  \n0      1     400000.0    10.628207       arriendo  2024-08-17 13:30:36.013506  \n1      1     370000.0     9.831091       arriendo  2024-08-17 13:30:36.022481  \n2      1     450000.0    11.956733       arriendo  2024-08-17 13:30:36.029992  \n3      1     520000.0    13.816669       arriendo  2024-08-17 13:30:36.036729  \n4      1   90000000.0  2391.346514          venta  2024-08-17 13:31:05.976563  \n5      1  127000000.0  3374.455637          venta  2024-08-17 13:31:05.983963  \n6      1  109143530.0       2900.0          venta  2024-08-17 13:31:05.992315  \n7      1  107000000.0    2843.0453          venta  2024-08-17 13:31:06.000168  \n\n[8 rows x 24 columns]",
      "text/html": "<div>\n<style scoped>\n    .dataframe tbody tr th:only-of-type {\n        vertical-align: middle;\n    }\n\n    .dataframe tbody tr th {\n        vertical-align: top;\n    }\n\n    .dataframe thead th {\n        text-align: right;\n    }\n</style>\n<table border=\"1\" class=\"dataframe\">\n  <thead>\n    <tr style=\"text-align: right;\">\n      <th></th>\n      <th>Latitude</th>\n      <th>Longitude</th>\n      <th>dias_desde_publicacion</th>\n      <th>n_dormitorios</th>\n      <th>n_banos</th>\n      <th>superficie_total</th>\n      <th>superficie_util</th>\n      <th>estacionamientos</th>\n      <th>bodegas</th>\n      <th>antiguedad</th>\n      <th>...</th>\n      <th>gastos_comunes</th>\n      <th>titulo</th>\n      <th>ubicacion</th>\n      <th>link</th>\n      <th>geo_ref_name</th>\n      <th>listed</th>\n      <th>Price</th>\n      <th>Price_UF</th>\n      <th>tipo_operacion</th>\n      <th>Date</th>\n    </tr>\n  </thead>\n  <tbody>\n    <tr>\n      <th>0</th>\n      <td>-33.557829</td>\n      <td>-70.58626</td>\n      <td>18.0</td>\n      <td>3.0</td>\n      <td>1.0</td>\n      <td>70.0</td>\n      <td>70.0</td>\n      <td>0.0</td>\n      <td>0.0</td>\n      <td>NaN</td>\n      <td>...</td>\n      <td>NaN</td>\n      <td>Ubicación Privilegiada. Gran Conectividad.</td>\n      <td>Vicuña Mackenna 11847, Los Quillayes, La Flori...</td>\n      <td>https://www.portalinmobiliario.com/MLC-2628826...</td>\n      <td>Depas_general_arriagada</td>\n      <td>1</td>\n      <td>400000.0</td>\n      <td>10.628207</td>\n      <td>arriendo</td>\n      <td>2024-08-17 13:30:36.013506</td>\n    </tr>\n    <tr>\n      <th>1</th>\n      <td>-33.558613</td>\n      <td>-70.585941</td>\n      <td>15.0</td>\n      <td>1.0</td>\n      <td>1.0</td>\n      <td>40.12</td>\n      <td>40.12</td>\n      <td>1.0</td>\n      <td>1.0</td>\n      <td>NaN</td>\n      <td>...</td>\n      <td>67000.0</td>\n      <td>Arrienda En Un Edificio Nuevo A Pasos Del Metro</td>\n      <td>Av. Vicuña Mackenna 10811, Los Quillayes, La F...</td>\n      <td>https://www.portalinmobiliario.com/MLC-1510438...</td>\n      <td>Depas_general_arriagada</td>\n      <td>1</td>\n      <td>370000.0</td>\n      <td>9.831091</td>\n      <td>arriendo</td>\n      <td>2024-08-17 13:30:36.022481</td>\n    </tr>\n    <tr>\n      <th>2</th>\n      <td>-33.557953</td>\n      <td>-70.586883</td>\n      <td>12.0</td>\n      <td>3.0</td>\n      <td>1.0</td>\n      <td>70.0</td>\n      <td>70.0</td>\n      <td>0.0</td>\n      <td>0.0</td>\n      <td>30.0</td>\n      <td>...</td>\n      <td>40000.0</td>\n      <td>Amplio Departamento En Excelente Ubicacion/ 1º...</td>\n      <td>La Paloma 11841, Los Quillayes, La Florida, RM...</td>\n      <td>https://www.portalinmobiliario.com/MLC-2640451...</td>\n      <td>Depas_general_arriagada</td>\n      <td>1</td>\n      <td>450000.0</td>\n      <td>11.956733</td>\n      <td>arriendo</td>\n      <td>2024-08-17 13:30:36.029992</td>\n    </tr>\n    <tr>\n      <th>3</th>\n      <td>-33.557547</td>\n      <td>-70.586747</td>\n      <td>11.0</td>\n      <td>3.0</td>\n      <td>1.0</td>\n      <td>80.0</td>\n      <td>80.0</td>\n      <td>1.0</td>\n      <td>0.0</td>\n      <td>0.0</td>\n      <td>...</td>\n      <td>30000.0</td>\n      <td>Se Arrienda Departamento En La Florida $520.000</td>\n      <td>La Paloma, Los Quillayes, La Florida, RM (Metr...</td>\n      <td>https://www.portalinmobiliario.com/MLC-1511448...</td>\n      <td>Depas_general_arriagada</td>\n      <td>1</td>\n      <td>520000.0</td>\n      <td>13.816669</td>\n      <td>arriendo</td>\n      <td>2024-08-17 13:30:36.036729</td>\n    </tr>\n    <tr>\n      <th>4</th>\n      <td>-33.559324</td>\n      <td>-70.586055</td>\n      <td>9.0</td>\n      <td>3.0</td>\n      <td>2.0</td>\n      <td>65.0</td>\n      <td>61.0</td>\n      <td>0.0</td>\n      <td>0.0</td>\n      <td>16.0</td>\n      <td>...</td>\n      <td>70000.0</td>\n      <td>Amplio Departamento  (23107)</td>\n      <td>Amplio Departamento, Los Quillayes, La Florida...</td>\n      <td>https://www.portalinmobiliario.com/MLC-1512249...</td>\n      <td>Depas_general_arriagada</td>\n      <td>1</td>\n      <td>90000000.0</td>\n      <td>2391.346514</td>\n      <td>venta</td>\n      <td>2024-08-17 13:31:05.976563</td>\n    </tr>\n    <tr>\n      <th>5</th>\n      <td>-33.557235</td>\n      <td>-70.585874</td>\n      <td>36.0</td>\n      <td>2.0</td>\n      <td>1.0</td>\n      <td>62.0</td>\n      <td>62.0</td>\n      <td>1.0</td>\n      <td>1.0</td>\n      <td>25.0</td>\n      <td>...</td>\n      <td>90000.0</td>\n      <td>Departamento En Venta De 2 Dorm. En La Florida</td>\n      <td>Vicuña Mackenna 6640, La Florida, La Florida, ...</td>\n      <td>https://www.portalinmobiliario.com/MLC-1503001...</td>\n      <td>Depas_general_arriagada</td>\n      <td>1</td>\n      <td>127000000.0</td>\n      <td>3374.455637</td>\n      <td>venta</td>\n      <td>2024-08-17 13:31:05.983963</td>\n    </tr>\n    <tr>\n      <th>6</th>\n      <td>-33.558409</td>\n      <td>-70.587695</td>\n      <td>150.0</td>\n      <td>3.0</td>\n      <td>1.0</td>\n      <td>60.0</td>\n      <td>60.0</td>\n      <td>1.0</td>\n      <td>0.0</td>\n      <td>0.0</td>\n      <td>...</td>\n      <td>30000.0</td>\n      <td>Departamento En Venta En La Florida</td>\n      <td>El Colibrí, La Florida, Chile, Los Quillayes, ...</td>\n      <td>https://www.portalinmobiliario.com/MLC-2313468...</td>\n      <td>Depas_general_arriagada</td>\n      <td>1</td>\n      <td>109143530.0</td>\n      <td>2900.0</td>\n      <td>venta</td>\n      <td>2024-08-17 13:31:05.992315</td>\n    </tr>\n    <tr>\n      <th>7</th>\n      <td>-33.559993</td>\n      <td>-70.585957</td>\n      <td>300.0</td>\n      <td>3.0</td>\n      <td>1.0</td>\n      <td>56.0</td>\n      <td>56.0</td>\n      <td>0.0</td>\n      <td>0.0</td>\n      <td>17.0</td>\n      <td>...</td>\n      <td>NaN</td>\n      <td>Metro San José De La Estrella  / Vicuña Mackenna</td>\n      <td>Los Quillayes, La Florida, RM (Metropolitana)</td>\n      <td>https://www.portalinmobiliario.com/MLC-1473135...</td>\n      <td>Depas_general_arriagada</td>\n      <td>1</td>\n      <td>107000000.0</td>\n      <td>2843.0453</td>\n      <td>venta</td>\n      <td>2024-08-17 13:31:06.000168</td>\n    </tr>\n  </tbody>\n</table>\n<p>8 rows × 24 columns</p>\n</div>"
     },
     "execution_count": 13,
     "metadata": {},
     "output_type": "execute_result"
    }
   ],
   "source": [
    "conn = create_conect_db(\"real_state.db\")\n",
    "df = get_joined_data_as_dataframe(conn=conn, threshold_date=\"2024-07-24 15:00\")\n",
    "df = df.T.drop_duplicates().T\n",
    "df"
   ],
   "metadata": {
    "collapsed": false,
    "ExecuteTime": {
     "end_time": "2024-08-17T18:02:44.646394Z",
     "start_time": "2024-08-17T18:02:44.544687Z"
    }
   },
   "id": "f6c279a507013fc9",
   "execution_count": 13
  },
  {
   "cell_type": "markdown",
   "source": [
    "# DATA PROCESING\n",
    "------------------------------------------"
   ],
   "metadata": {
    "collapsed": false
   },
   "id": "7c691a53f26e3f3c"
  },
  {
   "cell_type": "code",
   "outputs": [],
   "source": [
    "# df_arriendo = pd.read_excel(r\"C:\\Users\\blavin\\Documents\\Github_myself\\portal_inmobiliario_web_scraper\\results\\metro_chile_españa\\results_invesment_arriendo_departamento_1143_18_07_24.xlsx\")\n",
    "\n",
    "df_arriendo = pd.read_excel(r\"C:\\Users\\blavin\\Documents\\Github_myself\\portal_inmobiliario_web_scraper\\results\\Depas_general_arriagada\\results_invesment_arriendo_departamento_1603_17_07_24.xlsx\")"
   ],
   "metadata": {
    "collapsed": false,
    "ExecuteTime": {
     "end_time": "2024-07-18T23:09:09.716596Z",
     "start_time": "2024-07-18T23:09:09.609365Z"
    }
   },
   "id": "6f22288e814d00ee",
   "execution_count": 103
  },
  {
   "cell_type": "markdown",
   "source": [
    "### precio arriendo segun tipologia"
   ],
   "metadata": {
    "collapsed": false
   },
   "id": "1f22c7e48124a8d0"
  },
  {
   "cell_type": "code",
   "outputs": [
    {
     "data": {
      "text/plain": "               Unnamed: 0   latitud   longitud    precio  precio_UF  \\\nn_dormitorios                                                         \n3                     0.5 -33.55775 -70.586815  440000.0  11.703404   \n\n               dias_desde_publicacion  n_banos  superficie_total  \\\nn_dormitorios                                                      \n3                                35.0      1.0              70.0   \n\n               superficie_util  estacionamientos  bodegas  antiguedad  \\\nn_dormitorios                                                           \n3                         70.0               0.5      0.0        30.0   \n\n               cantidad_pisos_edificio  piso_unidad  \nn_dormitorios                                        \n3                                  4.0          1.5  ",
      "text/html": "<div>\n<style scoped>\n    .dataframe tbody tr th:only-of-type {\n        vertical-align: middle;\n    }\n\n    .dataframe tbody tr th {\n        vertical-align: top;\n    }\n\n    .dataframe thead th {\n        text-align: right;\n    }\n</style>\n<table border=\"1\" class=\"dataframe\">\n  <thead>\n    <tr style=\"text-align: right;\">\n      <th></th>\n      <th>Unnamed: 0</th>\n      <th>latitud</th>\n      <th>longitud</th>\n      <th>precio</th>\n      <th>precio_UF</th>\n      <th>dias_desde_publicacion</th>\n      <th>n_banos</th>\n      <th>superficie_total</th>\n      <th>superficie_util</th>\n      <th>estacionamientos</th>\n      <th>bodegas</th>\n      <th>antiguedad</th>\n      <th>cantidad_pisos_edificio</th>\n      <th>piso_unidad</th>\n    </tr>\n    <tr>\n      <th>n_dormitorios</th>\n      <th></th>\n      <th></th>\n      <th></th>\n      <th></th>\n      <th></th>\n      <th></th>\n      <th></th>\n      <th></th>\n      <th></th>\n      <th></th>\n      <th></th>\n      <th></th>\n      <th></th>\n      <th></th>\n    </tr>\n  </thead>\n  <tbody>\n    <tr>\n      <th>3</th>\n      <td>0.5</td>\n      <td>-33.55775</td>\n      <td>-70.586815</td>\n      <td>440000.0</td>\n      <td>11.703404</td>\n      <td>35.0</td>\n      <td>1.0</td>\n      <td>70.0</td>\n      <td>70.0</td>\n      <td>0.5</td>\n      <td>0.0</td>\n      <td>30.0</td>\n      <td>4.0</td>\n      <td>1.5</td>\n    </tr>\n  </tbody>\n</table>\n</div>"
     },
     "execution_count": 104,
     "metadata": {},
     "output_type": "execute_result"
    }
   ],
   "source": [
    "df_arriendo.groupby(by=\"n_dormitorios\").mean()"
   ],
   "metadata": {
    "collapsed": false,
    "ExecuteTime": {
     "end_time": "2024-07-18T23:09:10.042803Z",
     "start_time": "2024-07-18T23:09:09.914247Z"
    }
   },
   "id": "9cd3128c841b33de",
   "execution_count": 104
  },
  {
   "cell_type": "code",
   "outputs": [],
   "source": [
    "def remove_outliers(self, column_name):\n",
    "    \"\"\" removedor de outliers para columna especificada\"\"\"\n",
    "    Q1 = self[column_name].quantile(0.25)\n",
    "    Q3 = self[column_name].quantile(0.75)\n",
    "    IQR = Q3 - Q1\n",
    "    lower_bound = Q1 - 1.5 * IQR\n",
    "    upper_bound = Q3 + 1.5 * IQR\n",
    "\n",
    "    condition = (self[column_name] >= lower_bound) & (self[column_name] <= upper_bound)\n",
    "    return self.loc[condition]\n",
    "\n",
    "# Attach the function to the pandas DataFrame class\n",
    "pd.DataFrame.remove_outliers = remove_outliers"
   ],
   "metadata": {
    "collapsed": false,
    "ExecuteTime": {
     "end_time": "2024-07-18T23:09:10.214937Z",
     "start_time": "2024-07-18T23:09:10.107881Z"
    }
   },
   "id": "567d8aa2c50d5c4c",
   "execution_count": 105
  },
  {
   "cell_type": "code",
   "outputs": [
    {
     "name": "stdout",
     "output_type": "stream",
     "text": [
      "con 3 dormitorios, se puede arrendar en aproximadamente 432000, analizado desde 2 propiedades\n"
     ]
    }
   ],
   "source": [
    "# EXTRACTOR DE PRECIO DE ARRIENDO SEGUN TIPOLOGIA\n",
    "results_precio_arriendo = {}\n",
    "for n_dorm in pd.Series(df_arriendo[\"n_dormitorios\"].unique()).sort_values().values:\n",
    "    clean_tipology_df = df_arriendo.query(f\"n_dormitorios=={n_dorm}\").remove_outliers('precio_UF')\n",
    "    precio_arriendo = int(clean_tipology_df.quantile(0.1).precio)\n",
    "\n",
    "    results_precio_arriendo[n_dorm] = precio_arriendo\n",
    "    print(f\"con {n_dorm} dormitorios, se puede arrendar en aproximadamente {precio_arriendo}, analizado desde {len(clean_tipology_df)} propiedades\")\n",
    "    # list_results.append(df_arriendo.query(f\"n_dormitorios=={n_dorm}\").remove_outliers('precio_UF'))\n",
    "    \n",
    "# df_price_wo_outliers = pd.concat(list_results)\n",
    "# df_price_wo_outliers"
   ],
   "metadata": {
    "collapsed": false,
    "ExecuteTime": {
     "end_time": "2024-07-18T23:09:10.447867Z",
     "start_time": "2024-07-18T23:09:10.341591Z"
    }
   },
   "id": "5861f480b4deb290",
   "execution_count": 106
  },
  {
   "cell_type": "code",
   "outputs": [
    {
     "data": {
      "text/plain": "{3: 432000}"
     },
     "execution_count": 107,
     "metadata": {},
     "output_type": "execute_result"
    }
   ],
   "source": [
    "results_precio_arriendo"
   ],
   "metadata": {
    "collapsed": false,
    "ExecuteTime": {
     "end_time": "2024-07-18T23:09:10.572341Z",
     "start_time": "2024-07-18T23:09:10.459858Z"
    }
   },
   "id": "9153163cd26d519f",
   "execution_count": 107
  },
  {
   "cell_type": "markdown",
   "source": [
    "### precio por metro cuadrado"
   ],
   "metadata": {
    "collapsed": false
   },
   "id": "50eab638b6ef12f"
  },
  {
   "cell_type": "code",
   "outputs": [
    {
     "name": "stdout",
     "output_type": "stream",
     "text": [
      "precio/m2 de la zona es 6285 CLP , 0.17 UF\n"
     ]
    }
   ],
   "source": [
    "# EXTRACTOR DE PRECIO DE ARRIENDO SEGUN TIPOLOGIA\n",
    "list_results = []\n",
    "for n_dorm in pd.Series(df_arriendo[\"n_dormitorios\"].unique()).sort_values().values:\n",
    "    clean_tipology_df = df_arriendo.query(f\"n_dormitorios=={n_dorm}\").remove_outliers('superficie_util')\n",
    "    list_results.append(clean_tipology_df)\n",
    "\n",
    "    # print(f\"con {n_dorm} dormitorios, se puede arrendar en aproximadamente {precio_arriendo}, analizado desde {len(clean_tipology_df)} propiedades\")\n",
    "    # list_results.append(df_arriendo.query(f\"n_dormitorios=={n_dorm}\").remove_outliers('precio_UF'))\n",
    "\n",
    "df_price_wo_outliers = pd.concat(list_results)\n",
    "df_price_wo_outliers[\"precio_m2\"] = df_price_wo_outliers.precio_UF/df_price_wo_outliers.superficie_util\n",
    "promedio_zona = int(np.mean(df_price_wo_outliers.precio/df_price_wo_outliers.superficie_util))\n",
    "promedio_zona_UF = np.round(np.mean(df_price_wo_outliers.precio_UF/df_price_wo_outliers.superficie_util),2)\n",
    "\n",
    "print(f\"precio/m2 de la zona es {promedio_zona} CLP , {promedio_zona_UF} UF\")"
   ],
   "metadata": {
    "collapsed": false,
    "ExecuteTime": {
     "end_time": "2024-07-18T23:09:10.744143Z",
     "start_time": "2024-07-18T23:09:10.641104Z"
    }
   },
   "id": "492aae60846ddf75",
   "execution_count": 108
  },
  {
   "cell_type": "code",
   "outputs": [
    {
     "data": {
      "text/plain": "   Unnamed: 0    latitud   longitud  precio  precio_UF  \\\n0           0 -33.557953 -70.586883  450000  11.969390   \n1           1 -33.557547 -70.586747  430000  11.437417   \n\n   dias_desde_publicacion  n_dormitorios  n_banos  superficie_total  \\\n0                      28              3        1                70   \n1                      42              3        1                70   \n\n   superficie_util  ...  bodegas  antiguedad  cantidad_pisos_edificio  \\\n0               70  ...        0        30.0                      4.0   \n1               70  ...        0         NaN                      NaN   \n\n   piso_unidad  tipo_inmueble orientacion  \\\n0            1   Departamento           O   \n1            2   Departamento          NP   \n\n                                              titulo  \\\n0         Amplio Departamento En Excelente Ubicación   \n1  Depto Calle La Paloma N° 11.841,  Comuna La Fl...   \n\n                                           ubicacion  \\\n0  La Paloma 11841, La Florida, Chile, Los Quilla...   \n1  La Paloma, La Florida, Chile, Los Quillayes, L...   \n\n                                                link precio_m2  \n0  https://www.portalinmobiliario.com/MLC-2508405...  0.170991  \n1  https://www.portalinmobiliario.com/MLC-1490560...  0.163392  \n\n[2 rows x 21 columns]",
      "text/html": "<div>\n<style scoped>\n    .dataframe tbody tr th:only-of-type {\n        vertical-align: middle;\n    }\n\n    .dataframe tbody tr th {\n        vertical-align: top;\n    }\n\n    .dataframe thead th {\n        text-align: right;\n    }\n</style>\n<table border=\"1\" class=\"dataframe\">\n  <thead>\n    <tr style=\"text-align: right;\">\n      <th></th>\n      <th>Unnamed: 0</th>\n      <th>latitud</th>\n      <th>longitud</th>\n      <th>precio</th>\n      <th>precio_UF</th>\n      <th>dias_desde_publicacion</th>\n      <th>n_dormitorios</th>\n      <th>n_banos</th>\n      <th>superficie_total</th>\n      <th>superficie_util</th>\n      <th>...</th>\n      <th>bodegas</th>\n      <th>antiguedad</th>\n      <th>cantidad_pisos_edificio</th>\n      <th>piso_unidad</th>\n      <th>tipo_inmueble</th>\n      <th>orientacion</th>\n      <th>titulo</th>\n      <th>ubicacion</th>\n      <th>link</th>\n      <th>precio_m2</th>\n    </tr>\n  </thead>\n  <tbody>\n    <tr>\n      <th>0</th>\n      <td>0</td>\n      <td>-33.557953</td>\n      <td>-70.586883</td>\n      <td>450000</td>\n      <td>11.969390</td>\n      <td>28</td>\n      <td>3</td>\n      <td>1</td>\n      <td>70</td>\n      <td>70</td>\n      <td>...</td>\n      <td>0</td>\n      <td>30.0</td>\n      <td>4.0</td>\n      <td>1</td>\n      <td>Departamento</td>\n      <td>O</td>\n      <td>Amplio Departamento En Excelente Ubicación</td>\n      <td>La Paloma 11841, La Florida, Chile, Los Quilla...</td>\n      <td>https://www.portalinmobiliario.com/MLC-2508405...</td>\n      <td>0.170991</td>\n    </tr>\n    <tr>\n      <th>1</th>\n      <td>1</td>\n      <td>-33.557547</td>\n      <td>-70.586747</td>\n      <td>430000</td>\n      <td>11.437417</td>\n      <td>42</td>\n      <td>3</td>\n      <td>1</td>\n      <td>70</td>\n      <td>70</td>\n      <td>...</td>\n      <td>0</td>\n      <td>NaN</td>\n      <td>NaN</td>\n      <td>2</td>\n      <td>Departamento</td>\n      <td>NP</td>\n      <td>Depto Calle La Paloma N° 11.841,  Comuna La Fl...</td>\n      <td>La Paloma, La Florida, Chile, Los Quillayes, L...</td>\n      <td>https://www.portalinmobiliario.com/MLC-1490560...</td>\n      <td>0.163392</td>\n    </tr>\n  </tbody>\n</table>\n<p>2 rows × 21 columns</p>\n</div>"
     },
     "execution_count": 109,
     "metadata": {},
     "output_type": "execute_result"
    }
   ],
   "source": [
    "df_price_wo_outliers"
   ],
   "metadata": {
    "collapsed": false,
    "ExecuteTime": {
     "end_time": "2024-07-18T23:09:10.899514Z",
     "start_time": "2024-07-18T23:09:10.760712Z"
    }
   },
   "id": "95838b62659cafa7",
   "execution_count": 109
  },
  {
   "cell_type": "markdown",
   "source": [
    "#### CAPRATE BRUTO"
   ],
   "metadata": {
    "collapsed": false
   },
   "id": "1a41c678306f196"
  },
  {
   "cell_type": "code",
   "outputs": [],
   "source": [
    "# df_venta = pd.read_excel(r\"C:\\Users\\blavin\\Documents\\Github_myself\\portal_inmobiliario_web_scraper\\results\\metro_chile_españa\\results_invesment_venta_departamento_2203_16_07_24.xlsx\")\n",
    "\n",
    "df_venta = pd.read_excel(r\"C:\\Users\\blavin\\Documents\\Github_myself\\portal_inmobiliario_web_scraper\\results\\Depas_general_arriagada\\results_invesment_venta_departamento_1603_17_07_24.xlsx\")"
   ],
   "metadata": {
    "collapsed": false,
    "ExecuteTime": {
     "end_time": "2024-07-18T23:09:11.925585Z",
     "start_time": "2024-07-18T23:09:11.721855Z"
    }
   },
   "id": "74470308580186b7",
   "execution_count": 110
  },
  {
   "cell_type": "code",
   "outputs": [],
   "source": [
    "df_venta[\"caprate_bruto\"]=np.NaN\n",
    "for n_dorm in pd.Series(df_venta[\"n_dormitorios\"].unique()).sort_values().values:\n",
    "    if n_dorm in results_precio_arriendo.keys():\n",
    "        df_venta.loc[df_venta[\"n_dormitorios\"]==n_dorm, \"caprate_bruto\" ] = results_precio_arriendo[n_dorm] * 12 / df_venta.query(f\"n_dormitorios=={n_dorm}\").precio\n"
   ],
   "metadata": {
    "collapsed": false,
    "ExecuteTime": {
     "end_time": "2024-07-18T23:09:12.485743Z",
     "start_time": "2024-07-18T23:09:12.187092Z"
    }
   },
   "id": "13fa0bd7d018ff36",
   "execution_count": 111
  },
  {
   "cell_type": "code",
   "outputs": [
    {
     "data": {
      "text/plain": "   Unnamed: 0    latitud   longitud     precio    precio_UF  \\\n0           0 -33.557235 -70.585874  127000000  3378.027923   \n1           1 -33.559324 -70.586055   90000000  2393.878056   \n2           2 -33.557547 -70.586747  105000000  2792.857732   \n3           3 -33.558409 -70.587695  109028110  2900.000000   \n4           4 -33.559993 -70.585957  107000000  2846.055022   \n\n   dias_desde_publicacion  n_dormitorios  n_banos  superficie_total  \\\n0                       5              2        1             62.00   \n1                       9              3        2             65.96   \n2                      15              3        1             80.00   \n3                     120              3        1             60.00   \n4                     270              3        1             56.00   \n\n   superficie_util  ...  bodegas  antiguedad  cantidad_pisos_edificio  \\\n0            62.00  ...        1          25                        7   \n1            61.14  ...        0          16                       11   \n2            80.00  ...        0           0                        4   \n3            60.00  ...        0           0                        4   \n4            56.00  ...        0          17                       17   \n\n   piso_unidad  tipo_inmueble orientacion  \\\n0            0              -           -   \n1            4   Departamento           N   \n2            0   Departamento           O   \n3            4   Departamento           N   \n4         3023            NaN          SP   \n\n                                             titulo  \\\n0    Departamento En Venta De 2 Dorm. En La Florida   \n1                      Amplio Departamento  (23107)   \n2             Departamento Remodelado En La Florida   \n3               Departamento En Venta En La Florida   \n4  Metro San José De La Estrella  / Vicuña Mackenna   \n\n                                           ubicacion  \\\n0  Vicuña Mackenna 6640, La Florida, La Florida, ...   \n1  Amplio Departamento, Los Quillayes, La Florida...   \n2  La Paloma, La Florida, Chile, Los Quillayes, L...   \n3  El Colibrí, La Florida, Chile, Los Quillayes, ...   \n4      Los Quillayes, La Florida, RM (Metropolitana)   \n\n                                                link caprate_bruto  \n0  https://www.portalinmobiliario.com/MLC-1503001...           NaN  \n1  https://www.portalinmobiliario.com/MLC-1501231...      0.057600  \n2  https://www.portalinmobiliario.com/MLC-2546023...      0.049371  \n3  https://www.portalinmobiliario.com/MLC-2313468...      0.047547  \n4  https://www.portalinmobiliario.com/MLC-1473135...      0.048449  \n\n[5 rows x 21 columns]",
      "text/html": "<div>\n<style scoped>\n    .dataframe tbody tr th:only-of-type {\n        vertical-align: middle;\n    }\n\n    .dataframe tbody tr th {\n        vertical-align: top;\n    }\n\n    .dataframe thead th {\n        text-align: right;\n    }\n</style>\n<table border=\"1\" class=\"dataframe\">\n  <thead>\n    <tr style=\"text-align: right;\">\n      <th></th>\n      <th>Unnamed: 0</th>\n      <th>latitud</th>\n      <th>longitud</th>\n      <th>precio</th>\n      <th>precio_UF</th>\n      <th>dias_desde_publicacion</th>\n      <th>n_dormitorios</th>\n      <th>n_banos</th>\n      <th>superficie_total</th>\n      <th>superficie_util</th>\n      <th>...</th>\n      <th>bodegas</th>\n      <th>antiguedad</th>\n      <th>cantidad_pisos_edificio</th>\n      <th>piso_unidad</th>\n      <th>tipo_inmueble</th>\n      <th>orientacion</th>\n      <th>titulo</th>\n      <th>ubicacion</th>\n      <th>link</th>\n      <th>caprate_bruto</th>\n    </tr>\n  </thead>\n  <tbody>\n    <tr>\n      <th>0</th>\n      <td>0</td>\n      <td>-33.557235</td>\n      <td>-70.585874</td>\n      <td>127000000</td>\n      <td>3378.027923</td>\n      <td>5</td>\n      <td>2</td>\n      <td>1</td>\n      <td>62.00</td>\n      <td>62.00</td>\n      <td>...</td>\n      <td>1</td>\n      <td>25</td>\n      <td>7</td>\n      <td>0</td>\n      <td>-</td>\n      <td>-</td>\n      <td>Departamento En Venta De 2 Dorm. En La Florida</td>\n      <td>Vicuña Mackenna 6640, La Florida, La Florida, ...</td>\n      <td>https://www.portalinmobiliario.com/MLC-1503001...</td>\n      <td>NaN</td>\n    </tr>\n    <tr>\n      <th>1</th>\n      <td>1</td>\n      <td>-33.559324</td>\n      <td>-70.586055</td>\n      <td>90000000</td>\n      <td>2393.878056</td>\n      <td>9</td>\n      <td>3</td>\n      <td>2</td>\n      <td>65.96</td>\n      <td>61.14</td>\n      <td>...</td>\n      <td>0</td>\n      <td>16</td>\n      <td>11</td>\n      <td>4</td>\n      <td>Departamento</td>\n      <td>N</td>\n      <td>Amplio Departamento  (23107)</td>\n      <td>Amplio Departamento, Los Quillayes, La Florida...</td>\n      <td>https://www.portalinmobiliario.com/MLC-1501231...</td>\n      <td>0.057600</td>\n    </tr>\n    <tr>\n      <th>2</th>\n      <td>2</td>\n      <td>-33.557547</td>\n      <td>-70.586747</td>\n      <td>105000000</td>\n      <td>2792.857732</td>\n      <td>15</td>\n      <td>3</td>\n      <td>1</td>\n      <td>80.00</td>\n      <td>80.00</td>\n      <td>...</td>\n      <td>0</td>\n      <td>0</td>\n      <td>4</td>\n      <td>0</td>\n      <td>Departamento</td>\n      <td>O</td>\n      <td>Departamento Remodelado En La Florida</td>\n      <td>La Paloma, La Florida, Chile, Los Quillayes, L...</td>\n      <td>https://www.portalinmobiliario.com/MLC-2546023...</td>\n      <td>0.049371</td>\n    </tr>\n    <tr>\n      <th>3</th>\n      <td>3</td>\n      <td>-33.558409</td>\n      <td>-70.587695</td>\n      <td>109028110</td>\n      <td>2900.000000</td>\n      <td>120</td>\n      <td>3</td>\n      <td>1</td>\n      <td>60.00</td>\n      <td>60.00</td>\n      <td>...</td>\n      <td>0</td>\n      <td>0</td>\n      <td>4</td>\n      <td>4</td>\n      <td>Departamento</td>\n      <td>N</td>\n      <td>Departamento En Venta En La Florida</td>\n      <td>El Colibrí, La Florida, Chile, Los Quillayes, ...</td>\n      <td>https://www.portalinmobiliario.com/MLC-2313468...</td>\n      <td>0.047547</td>\n    </tr>\n    <tr>\n      <th>4</th>\n      <td>4</td>\n      <td>-33.559993</td>\n      <td>-70.585957</td>\n      <td>107000000</td>\n      <td>2846.055022</td>\n      <td>270</td>\n      <td>3</td>\n      <td>1</td>\n      <td>56.00</td>\n      <td>56.00</td>\n      <td>...</td>\n      <td>0</td>\n      <td>17</td>\n      <td>17</td>\n      <td>3023</td>\n      <td>NaN</td>\n      <td>SP</td>\n      <td>Metro San José De La Estrella  / Vicuña Mackenna</td>\n      <td>Los Quillayes, La Florida, RM (Metropolitana)</td>\n      <td>https://www.portalinmobiliario.com/MLC-1473135...</td>\n      <td>0.048449</td>\n    </tr>\n  </tbody>\n</table>\n<p>5 rows × 21 columns</p>\n</div>"
     },
     "execution_count": 112,
     "metadata": {},
     "output_type": "execute_result"
    }
   ],
   "source": [
    "df_venta"
   ],
   "metadata": {
    "collapsed": false,
    "ExecuteTime": {
     "end_time": "2024-07-18T23:09:14.444240Z",
     "start_time": "2024-07-18T23:09:14.164306Z"
    }
   },
   "id": "8f824069c065ff2b",
   "execution_count": 112
  },
  {
   "cell_type": "code",
   "outputs": [
    {
     "data": {
      "text/plain": "     Unnamed: 0                                             titulo  \\\n0            46     Departamento En Venta Brown Norte, Plaza Ñuñoa   \n1           105  Departamento Alonso De Ercilla 3d/2b/e/b Metro...   \n2           218       Campoamor - Oportunidad / 3d - 3b / Nuevo!!!   \n3           160  Vendo. Plaza Ñuñoa. Hermoso Departamento. 2d/2...   \n4            65    Venta Depto 2d2b+e+b Metro Chile España - Ñuñoa   \n..          ...                                                ...   \n245         129  Venta Departamento En Ñuñoa 2d 2b 1e Inversion...   \n246         106  Excelente Ubicación, Departamento Con Estacion...   \n247          41  Ñuñoa, Brown Norte 562, Depto 1d+1e - Mb Propi...   \n248         141          Vendo Como Nuevo, Dpto Lado A Plaza Ñuñoa   \n249         149          Departamento En Venta De 2 Dorm. En Ñuñoa   \n\n          precio                                          ubicacion  \\\n0    262803729.0  Brown Norte 40, Plaza Ñuñoa, Ñuñoa, RM (Metrop...   \n1    272578975.0  Departamento Alonso De Ercilla 3d/2b/e/b Metro...   \n2    269947178.0  Chile España 451, Ñuñoa, Chile, Plaza Ñuñoa, Ñ...   \n3    270699120.0  Avenida Irarrázaval 3360, Ñuñoa, Chile, Plaza ...   \n4    206784050.0  Avda. Irarrázaval Cercano A Metro Chile España...   \n..           ...                                                ...   \n245  165427240.0  Ñuñoa, Chile, Plaza Ñuñoa, Ñuñoa, RM (Metropol...   \n246  150388400.0  Ángel Pino 3412, Ñuñoa, Chile, Plaza Ñuñoa, Ñu...   \n247  116551010.0  Brown Norte 562, Plaza Ñuñoa, Ñuñoa, RM (Metro...   \n248  219943035.0             Plaza Ñuñoa, Ñuñoa, RM (Metropolitana)   \n249  169186950.0  Departamento De 2 Dormitorios Ubicado En Ñuñoa...   \n\n     n_dormitorios  n_banos  superficie_total  superficie_util    latitud  \\\n0                3        2              9631             9117 -33.454849   \n1                3        2                90             8291 -33.451872   \n2                3        3              8706             7986 -33.450790   \n3                2        2              8031             7531 -33.454953   \n4                2        2              7949             7417 -33.454849   \n..             ...      ...               ...              ...        ...   \n245              2        2                54                5 -33.454918   \n246              1        1                42                3 -33.453524   \n247              1        1                40                0 -33.449930   \n248              2        2                81                0 -33.454917   \n249              2        2                 0                0 -33.449870   \n\n      longitud  dias_desde_publicacion  estacionamientos  bodegas  \\\n0   -70.592262                      60                 2      1.0   \n1   -70.598091                      19                 1      1.0   \n2   -70.597848                      60                 0      NaN   \n3   -70.595827                     120                 1      1.0   \n4   -70.592261                     300                 1      1.0   \n..         ...                     ...               ...      ...   \n245 -70.598292                      60                 1      1.0   \n246 -70.595648                     365                 1      1.0   \n247 -70.592090                       1                 0      NaN   \n248 -70.598291                      46                 1      1.0   \n249 -70.591253                      52                 0      1.0   \n\n     cantidad_pisos_edificio  piso_unidad  tipo_casa   orientacion  \\\n0                       18.0          5.0        NaN            NO   \n1                        7.0          3.0        NaN             P   \n2                        NaN          NaN        NaN             N   \n3                       12.0         10.0        NaN            SP   \n4                       18.0          0.0        NaN  Nor-Poniente   \n..                       ...          ...        ...           ...   \n245                     21.0          9.0        NaN            SP   \n246                      9.0          3.0        NaN             S   \n247                      0.0          NaN        NaN           NaN   \n248                      0.0          5.0        NaN           NaN   \n249                      0.0          0.0        NaN       Oriente   \n\n     antiguedad                                               link  \\\n0          14.0  https://www.portalinmobiliario.com/MLC-1481967...   \n1           3.0  https://www.portalinmobiliario.com/MLC-1497951...   \n2           NaN  https://www.portalinmobiliario.com/MLC-2425596...   \n3           3.0  https://www.portalinmobiliario.com/MLC-1469578...   \n4          16.0  https://www.portalinmobiliario.com/MLC-1922169...   \n..          ...                                                ...   \n245         1.0  https://www.portalinmobiliario.com/MLC-2420005...   \n246        11.0  https://www.portalinmobiliario.com/MLC-1492059...   \n247        24.0  https://www.portalinmobiliario.com/MLC-2579766...   \n248         4.0  https://www.portalinmobiliario.com/MLC-1489995...   \n249         7.0  https://www.portalinmobiliario.com/MLC-2458523...   \n\n     caprate_bruto  \n0         0.031963  \n1         0.030817  \n2         0.031117  \n3         0.027484  \n4         0.035980  \n..             ...  \n245       0.044974  \n246       0.036067  \n247       0.046538  \n248       0.033827  \n249       0.043975  \n\n[250 rows x 20 columns]",
      "text/html": "<div>\n<style scoped>\n    .dataframe tbody tr th:only-of-type {\n        vertical-align: middle;\n    }\n\n    .dataframe tbody tr th {\n        vertical-align: top;\n    }\n\n    .dataframe thead th {\n        text-align: right;\n    }\n</style>\n<table border=\"1\" class=\"dataframe\">\n  <thead>\n    <tr style=\"text-align: right;\">\n      <th></th>\n      <th>Unnamed: 0</th>\n      <th>titulo</th>\n      <th>precio</th>\n      <th>ubicacion</th>\n      <th>n_dormitorios</th>\n      <th>n_banos</th>\n      <th>superficie_total</th>\n      <th>superficie_util</th>\n      <th>latitud</th>\n      <th>longitud</th>\n      <th>dias_desde_publicacion</th>\n      <th>estacionamientos</th>\n      <th>bodegas</th>\n      <th>cantidad_pisos_edificio</th>\n      <th>piso_unidad</th>\n      <th>tipo_casa</th>\n      <th>orientacion</th>\n      <th>antiguedad</th>\n      <th>link</th>\n      <th>caprate_bruto</th>\n    </tr>\n  </thead>\n  <tbody>\n    <tr>\n      <th>0</th>\n      <td>46</td>\n      <td>Departamento En Venta Brown Norte, Plaza Ñuñoa</td>\n      <td>262803729.0</td>\n      <td>Brown Norte 40, Plaza Ñuñoa, Ñuñoa, RM (Metrop...</td>\n      <td>3</td>\n      <td>2</td>\n      <td>9631</td>\n      <td>9117</td>\n      <td>-33.454849</td>\n      <td>-70.592262</td>\n      <td>60</td>\n      <td>2</td>\n      <td>1.0</td>\n      <td>18.0</td>\n      <td>5.0</td>\n      <td>NaN</td>\n      <td>NO</td>\n      <td>14.0</td>\n      <td>https://www.portalinmobiliario.com/MLC-1481967...</td>\n      <td>0.031963</td>\n    </tr>\n    <tr>\n      <th>1</th>\n      <td>105</td>\n      <td>Departamento Alonso De Ercilla 3d/2b/e/b Metro...</td>\n      <td>272578975.0</td>\n      <td>Departamento Alonso De Ercilla 3d/2b/e/b Metro...</td>\n      <td>3</td>\n      <td>2</td>\n      <td>90</td>\n      <td>8291</td>\n      <td>-33.451872</td>\n      <td>-70.598091</td>\n      <td>19</td>\n      <td>1</td>\n      <td>1.0</td>\n      <td>7.0</td>\n      <td>3.0</td>\n      <td>NaN</td>\n      <td>P</td>\n      <td>3.0</td>\n      <td>https://www.portalinmobiliario.com/MLC-1497951...</td>\n      <td>0.030817</td>\n    </tr>\n    <tr>\n      <th>2</th>\n      <td>218</td>\n      <td>Campoamor - Oportunidad / 3d - 3b / Nuevo!!!</td>\n      <td>269947178.0</td>\n      <td>Chile España 451, Ñuñoa, Chile, Plaza Ñuñoa, Ñ...</td>\n      <td>3</td>\n      <td>3</td>\n      <td>8706</td>\n      <td>7986</td>\n      <td>-33.450790</td>\n      <td>-70.597848</td>\n      <td>60</td>\n      <td>0</td>\n      <td>NaN</td>\n      <td>NaN</td>\n      <td>NaN</td>\n      <td>NaN</td>\n      <td>N</td>\n      <td>NaN</td>\n      <td>https://www.portalinmobiliario.com/MLC-2425596...</td>\n      <td>0.031117</td>\n    </tr>\n    <tr>\n      <th>3</th>\n      <td>160</td>\n      <td>Vendo. Plaza Ñuñoa. Hermoso Departamento. 2d/2...</td>\n      <td>270699120.0</td>\n      <td>Avenida Irarrázaval 3360, Ñuñoa, Chile, Plaza ...</td>\n      <td>2</td>\n      <td>2</td>\n      <td>8031</td>\n      <td>7531</td>\n      <td>-33.454953</td>\n      <td>-70.595827</td>\n      <td>120</td>\n      <td>1</td>\n      <td>1.0</td>\n      <td>12.0</td>\n      <td>10.0</td>\n      <td>NaN</td>\n      <td>SP</td>\n      <td>3.0</td>\n      <td>https://www.portalinmobiliario.com/MLC-1469578...</td>\n      <td>0.027484</td>\n    </tr>\n    <tr>\n      <th>4</th>\n      <td>65</td>\n      <td>Venta Depto 2d2b+e+b Metro Chile España - Ñuñoa</td>\n      <td>206784050.0</td>\n      <td>Avda. Irarrázaval Cercano A Metro Chile España...</td>\n      <td>2</td>\n      <td>2</td>\n      <td>7949</td>\n      <td>7417</td>\n      <td>-33.454849</td>\n      <td>-70.592261</td>\n      <td>300</td>\n      <td>1</td>\n      <td>1.0</td>\n      <td>18.0</td>\n      <td>0.0</td>\n      <td>NaN</td>\n      <td>Nor-Poniente</td>\n      <td>16.0</td>\n      <td>https://www.portalinmobiliario.com/MLC-1922169...</td>\n      <td>0.035980</td>\n    </tr>\n    <tr>\n      <th>...</th>\n      <td>...</td>\n      <td>...</td>\n      <td>...</td>\n      <td>...</td>\n      <td>...</td>\n      <td>...</td>\n      <td>...</td>\n      <td>...</td>\n      <td>...</td>\n      <td>...</td>\n      <td>...</td>\n      <td>...</td>\n      <td>...</td>\n      <td>...</td>\n      <td>...</td>\n      <td>...</td>\n      <td>...</td>\n      <td>...</td>\n      <td>...</td>\n      <td>...</td>\n    </tr>\n    <tr>\n      <th>245</th>\n      <td>129</td>\n      <td>Venta Departamento En Ñuñoa 2d 2b 1e Inversion...</td>\n      <td>165427240.0</td>\n      <td>Ñuñoa, Chile, Plaza Ñuñoa, Ñuñoa, RM (Metropol...</td>\n      <td>2</td>\n      <td>2</td>\n      <td>54</td>\n      <td>5</td>\n      <td>-33.454918</td>\n      <td>-70.598292</td>\n      <td>60</td>\n      <td>1</td>\n      <td>1.0</td>\n      <td>21.0</td>\n      <td>9.0</td>\n      <td>NaN</td>\n      <td>SP</td>\n      <td>1.0</td>\n      <td>https://www.portalinmobiliario.com/MLC-2420005...</td>\n      <td>0.044974</td>\n    </tr>\n    <tr>\n      <th>246</th>\n      <td>106</td>\n      <td>Excelente Ubicación, Departamento Con Estacion...</td>\n      <td>150388400.0</td>\n      <td>Ángel Pino 3412, Ñuñoa, Chile, Plaza Ñuñoa, Ñu...</td>\n      <td>1</td>\n      <td>1</td>\n      <td>42</td>\n      <td>3</td>\n      <td>-33.453524</td>\n      <td>-70.595648</td>\n      <td>365</td>\n      <td>1</td>\n      <td>1.0</td>\n      <td>9.0</td>\n      <td>3.0</td>\n      <td>NaN</td>\n      <td>S</td>\n      <td>11.0</td>\n      <td>https://www.portalinmobiliario.com/MLC-1492059...</td>\n      <td>0.036067</td>\n    </tr>\n    <tr>\n      <th>247</th>\n      <td>41</td>\n      <td>Ñuñoa, Brown Norte 562, Depto 1d+1e - Mb Propi...</td>\n      <td>116551010.0</td>\n      <td>Brown Norte 562, Plaza Ñuñoa, Ñuñoa, RM (Metro...</td>\n      <td>1</td>\n      <td>1</td>\n      <td>40</td>\n      <td>0</td>\n      <td>-33.449930</td>\n      <td>-70.592090</td>\n      <td>1</td>\n      <td>0</td>\n      <td>NaN</td>\n      <td>0.0</td>\n      <td>NaN</td>\n      <td>NaN</td>\n      <td>NaN</td>\n      <td>24.0</td>\n      <td>https://www.portalinmobiliario.com/MLC-2579766...</td>\n      <td>0.046538</td>\n    </tr>\n    <tr>\n      <th>248</th>\n      <td>141</td>\n      <td>Vendo Como Nuevo, Dpto Lado A Plaza Ñuñoa</td>\n      <td>219943035.0</td>\n      <td>Plaza Ñuñoa, Ñuñoa, RM (Metropolitana)</td>\n      <td>2</td>\n      <td>2</td>\n      <td>81</td>\n      <td>0</td>\n      <td>-33.454917</td>\n      <td>-70.598291</td>\n      <td>46</td>\n      <td>1</td>\n      <td>1.0</td>\n      <td>0.0</td>\n      <td>5.0</td>\n      <td>NaN</td>\n      <td>NaN</td>\n      <td>4.0</td>\n      <td>https://www.portalinmobiliario.com/MLC-1489995...</td>\n      <td>0.033827</td>\n    </tr>\n    <tr>\n      <th>249</th>\n      <td>149</td>\n      <td>Departamento En Venta De 2 Dorm. En Ñuñoa</td>\n      <td>169186950.0</td>\n      <td>Departamento De 2 Dormitorios Ubicado En Ñuñoa...</td>\n      <td>2</td>\n      <td>2</td>\n      <td>0</td>\n      <td>0</td>\n      <td>-33.449870</td>\n      <td>-70.591253</td>\n      <td>52</td>\n      <td>0</td>\n      <td>1.0</td>\n      <td>0.0</td>\n      <td>0.0</td>\n      <td>NaN</td>\n      <td>Oriente</td>\n      <td>7.0</td>\n      <td>https://www.portalinmobiliario.com/MLC-2458523...</td>\n      <td>0.043975</td>\n    </tr>\n  </tbody>\n</table>\n<p>250 rows × 20 columns</p>\n</div>"
     },
     "execution_count": 102,
     "metadata": {},
     "output_type": "execute_result"
    }
   ],
   "source": [
    "df_venta"
   ],
   "metadata": {
    "collapsed": false,
    "ExecuteTime": {
     "end_time": "2024-07-18T23:08:46.401993Z",
     "start_time": "2024-07-18T23:08:46.282373Z"
    }
   },
   "id": "5c960b4cb5abf6ac",
   "execution_count": 102
  },
  {
   "cell_type": "code",
   "outputs": [],
   "source": [],
   "metadata": {
    "collapsed": false
   },
   "id": "5a5439021423f186"
  }
 ],
 "metadata": {
  "kernelspec": {
   "display_name": "Python 3",
   "language": "python",
   "name": "python3"
  },
  "language_info": {
   "codemirror_mode": {
    "name": "ipython",
    "version": 2
   },
   "file_extension": ".py",
   "mimetype": "text/x-python",
   "name": "python",
   "nbconvert_exporter": "python",
   "pygments_lexer": "ipython2",
   "version": "2.7.6"
  }
 },
 "nbformat": 4,
 "nbformat_minor": 5
}
