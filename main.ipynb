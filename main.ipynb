{
 "cells": [
  {
   "cell_type": "code",
   "outputs": [],
   "source": [
    "import numpy as np\n",
    "import pandas as pd"
   ],
   "metadata": {
    "collapsed": false,
    "ExecuteTime": {
     "end_time": "2024-09-08T21:47:04.790757Z",
     "start_time": "2024-09-08T21:47:04.356087Z"
    }
   },
   "id": "6b4c9c02f315ef60",
   "execution_count": 1
  },
  {
   "cell_type": "code",
   "outputs": [],
   "source": [
    "%load_ext autoreload\n",
    "%autoreload 2"
   ],
   "metadata": {
    "collapsed": false,
    "ExecuteTime": {
     "end_time": "2024-09-08T21:47:04.884689Z",
     "start_time": "2024-09-08T21:47:04.792768Z"
    }
   },
   "id": "c76e8862c3f8de5a",
   "execution_count": 2
  },
  {
   "cell_type": "markdown",
   "source": [
    "https://openaccess.uoc.edu/bitstream/10609/148363/3/miravecaTFG0623memoria.pdf\n",
    "\n",
    "https://www.portalinmobiliario.com/robots.txt\n",
    "\n",
    "\n",
    "SAAS\n",
    "https://github.com/Saas-Starter-Kit/Saas-Kit-prisma?tab=readme-ov-file\n"
   ],
   "metadata": {
    "collapsed": false
   },
   "id": "1d1ac9f156c6ea82"
  },
  {
   "metadata": {
    "ExecuteTime": {
     "end_time": "2024-09-08T21:47:05.426913Z",
     "start_time": "2024-09-08T21:47:04.900172Z"
    }
   },
   "cell_type": "code",
   "source": [
    "from webscrapper_portal_inmobiliario import WebScraperPortalInmobiliario"
   ],
   "id": "f83798ce4459a42b",
   "outputs": [],
   "execution_count": 3
  },
  {
   "cell_type": "markdown",
   "source": [
    "### TODO:\n",
    "- ~~trackear propiedades en el tiempo para el mismo sector  SE HACE CON LA [LAT LONG]~~\n",
    "- ~~Sortear baneos de ip por muchas request - sectores con muchas propiedades~~\n",
    "https://brightdata.com/cp/zones/residential_proxy1/edit 8 dolares el GB --> SOLUCION\n",
    "- ~~crear tabla intetmedia con 3 tablas y generar id unico...~~\n",
    "- ~~buscar estandar para nombres de columnas en tablas, en ingles... sin mayusculas~~\n",
    "- Hacer que se descarguen las cards urls totales [venta + arriendo]\n",
    "- Los polygonos se agregan a una tabla en la base de datos... con una funcion\n",
    "- para correr el programa se ejecuta otra funcion que leera los polygoinos de la base de datos\n",
    "- ejecutar todos los links en tread\n",
    "---\n",
    "- Calculos de estadicticas de rentabilidad\n",
    "- rankear propiedades basado en esto\n",
    "- grafico mapa donde se encuentran estas propiedades\n",
    "- extraer imagenes del TOP 3 Propiedades\n",
    "- plotear en single plot matplotlib. una especie de reporte automatico.\n",
    "\n",
    "### FIXES\n",
    "- ~~Cambiar id unico al titulo, se pierden precios con lat long porque poseen la misma ubicacion~~\n",
    "- ~~hacer que cuando falle, re llenenen con nan los valores faltantes~~\n",
    "- ~~al cambiar en total number of request max--> 0, se pierde el hilo para sacar la tabla fallando~~\n",
    "- ~~las tablas no estan siendo detectadas por xpath ni en soup tables.. aparentemente quedan en un formato lazy,\n",
    "   pero la data esta ahi en un diccionario~~\n",
    "   - ~~El problema sucedia porque se requere un wait para que carge todo... esto afecta aveces tambien a las paginas main urls.. se nesesita aplicar~~\n",
    "- ~~El nuevo formato de pagina low/webscrapping tiene todo lo nesesario y la full cambia en nombre al texto de \"UBICACION\"~~\n",
    "\n",
    "-  ~~se presentan errores en determinadas propiedades con la nueva metodologia de extraccioon de tabla. pero aveces no sucede. trackear error~~\n"
   ],
   "metadata": {
    "collapsed": false
   },
   "id": "67c501318ab4de82"
  },
  {
   "cell_type": "markdown",
   "source": [
    "### APRENDIZAJES\n",
    "\n",
    "webdriver\n",
    "2. es bueno reiniciar y cerrar el driver\n",
    "2. el estado de la pagina (restricciones) cambiara solo con el refresh!!\n",
    "3. Si se aplica un init y luego get/request no retornara NADA (PUEDE QUE SI PERO EN GENERAL NO PORQUE ES UN USER NUEVO SE ASOCIARA CON WEBSCRAPPING)\n",
    "4. el orden correcto sera\n",
    "\n",
    "close--> init--> request (primera vez ,  alta probabilida de falla) -->  refresh (recarga y se puede obtener la tabla y ubicaciion)"
   ],
   "metadata": {
    "collapsed": false
   },
   "id": "35579bfa3eb3c0d8"
  },
  {
   "cell_type": "code",
   "id": "initial_id",
   "metadata": {
    "collapsed": true,
    "ExecuteTime": {
     "end_time": "2024-09-08T21:50:59.666557Z",
     "start_time": "2024-09-08T21:47:06.030620Z"
    }
   },
   "source": [
    "WSPI = WebScraperPortalInmobiliario(tipo_operacion=\"venta\",\n",
    "                                    tipo_inmueble=\"departamento\",\n",
    "                                    theme=\"default\",\n",
    "                                    folder_save_name=\"diego_portales\",\n",
    "                                    debug=False)"
   ],
   "outputs": [
    {
     "name": "stdout",
     "output_type": "stream",
     "text": [
      "proxy enabled!, random session id:  0.7295693959103857\n"
     ]
    },
    {
     "data": {
      "text/plain": "  0%|          | 0/100 [00:00<?, ?it/s]",
      "application/vnd.jupyter.widget-view+json": {
       "version_major": 2,
       "version_minor": 0,
       "model_id": "2ea0820461334b84be0097457cb10344"
      },
      "application/json": {
       "n": 0,
       "total": 100,
       "elapsed": 0.03200030326843262,
       "ncols": null,
       "nrows": null,
       "prefix": "",
       "ascii": false,
       "unit": "it",
       "unit_scale": false,
       "rate": null,
       "bar_format": null,
       "postfix": null,
       "unit_divisor": 1000,
       "initial": 0,
       "colour": null
      }
     },
     "metadata": {},
     "output_type": "display_data"
    },
    {
     "name": "stdout",
     "output_type": "stream",
     "text": [
      "*** total number of properties: \n",
      " arriendo 37\n",
      " venta 44\n",
      "*** url: https://www.portalinmobiliario.com/arriendo/departamento/_DisplayType_M_item*location_lat:-33.565285*-33.551624,lon:-70.56922*-70.543556#1\n",
      "------------------------\n",
      "restarting webdriver because xpath not found\n",
      "*** url: https://www.portalinmobiliario.com/venta/departamento/_DisplayType_M_item*location_lat:-33.565285*-33.551624,lon:-70.56922*-70.543556#1\n",
      "------------------------\n",
      "master_id:  7\n",
      "master_id:  7\n"
     ]
    }
   ],
   "execution_count": 4
  },
  {
   "cell_type": "code",
   "outputs": [
    {
     "name": "stdout",
     "output_type": "stream",
     "text": [
      "master_id:  7\n",
      "master_id:  7\n",
      "master_id:  8\n",
      "master_id:  8\n",
      "master_id:  9\n",
      "master_id:  9\n",
      "master_id:  10\n",
      "master_id:  10\n",
      "master_id:  11\n",
      "master_id:  11\n",
      "master_id:  12\n",
      "master_id:  12\n",
      "master_id:  13\n",
      "master_id:  13\n",
      "master_id:  14\n",
      "master_id:  14\n",
      "master_id:  15\n",
      "master_id:  15\n",
      "master_id:  16\n",
      "master_id:  16\n",
      "master_id:  17\n",
      "master_id:  17\n",
      "master_id:  17\n",
      "master_id:  17\n",
      "master_id:  18\n",
      "master_id:  18\n",
      "master_id:  19\n",
      "master_id:  19\n",
      "master_id:  17\n",
      "master_id:  17\n",
      "master_id:  20\n",
      "master_id:  20\n",
      "master_id:  17\n",
      "master_id:  17\n",
      "master_id:  20\n",
      "master_id:  20\n",
      "master_id:  17\n",
      "master_id:  17\n",
      "master_id:  17\n",
      "master_id:  17\n",
      "master_id:  21\n",
      "master_id:  21\n",
      "master_id:  22\n",
      "master_id:  22\n",
      "master_id:  23\n",
      "master_id:  23\n",
      "master_id:  24\n",
      "master_id:  24\n",
      "master_id:  25\n",
      "master_id:  25\n",
      "master_id:  26\n",
      "master_id:  26\n",
      "master_id:  27\n",
      "master_id:  27\n",
      "master_id:  28\n",
      "master_id:  28\n",
      "master_id:  29\n",
      "master_id:  29\n",
      "master_id:  30\n",
      "master_id:  30\n",
      "master_id:  31\n",
      "master_id:  31\n",
      "master_id:  32\n",
      "master_id:  32\n",
      "master_id:  33\n",
      "master_id:  33\n",
      "master_id:  34\n",
      "master_id:  34\n",
      "master_id:  35\n",
      "master_id:  35\n",
      "master_id:  36\n",
      "master_id:  36\n",
      "master_id:  37\n",
      "master_id:  37\n",
      "master_id:  38\n",
      "master_id:  38\n",
      "master_id:  39\n",
      "master_id:  39\n",
      "master_id:  40\n",
      "master_id:  40\n",
      "master_id:  41\n",
      "master_id:  41\n",
      "master_id:  42\n",
      "master_id:  42\n",
      "master_id:  43\n",
      "master_id:  43\n",
      "master_id:  44\n",
      "master_id:  44\n",
      "master_id:  45\n",
      "master_id:  45\n",
      "master_id:  46\n",
      "master_id:  46\n",
      "master_id:  47\n",
      "master_id:  47\n",
      "master_id:  48\n",
      "master_id:  48\n",
      "master_id:  49\n",
      "master_id:  49\n",
      "master_id:  50\n",
      "master_id:  50\n",
      "master_id:  51\n",
      "master_id:  51\n",
      "master_id:  52\n",
      "master_id:  52\n",
      "master_id:  53\n",
      "master_id:  53\n",
      "master_id:  54\n",
      "master_id:  54\n",
      "master_id:  55\n",
      "master_id:  55\n",
      "master_id:  56\n",
      "master_id:  56\n",
      "master_id:  57\n",
      "master_id:  57\n",
      "master_id:  58\n",
      "master_id:  58\n",
      "master_id:  59\n",
      "master_id:  59\n",
      "master_id:  60\n",
      "master_id:  60\n",
      "master_id:  61\n",
      "master_id:  61\n",
      "master_id:  62\n",
      "master_id:  62\n",
      "master_id:  63\n",
      "master_id:  63\n",
      "master_id:  64\n",
      "master_id:  64\n",
      "master_id:  65\n",
      "master_id:  65\n",
      "master_id:  66\n",
      "master_id:  66\n",
      "master_id:  67\n",
      "master_id:  67\n",
      "master_id:  68\n",
      "master_id:  68\n",
      "master_id:  69\n",
      "master_id:  69\n",
      "master_id:  70\n",
      "master_id:  70\n",
      "master_id:  71\n",
      "master_id:  71\n",
      "master_id:  72\n",
      "master_id:  72\n",
      "master_id:  73\n",
      "master_id:  73\n",
      "master_id:  74\n",
      "master_id:  74\n",
      "master_id:  75\n",
      "master_id:  75\n",
      "master_id:  76\n",
      "master_id:  76\n",
      "master_id:  77\n",
      "master_id:  77\n"
     ]
    }
   ],
   "source": [
    "WSPI.compile_results_df_to_db()"
   ],
   "metadata": {
    "collapsed": false,
    "ExecuteTime": {
     "end_time": "2024-09-08T21:52:47.677471Z",
     "start_time": "2024-09-08T21:52:46.821498Z"
    }
   },
   "id": "20977a60fec9f9bc",
   "execution_count": 9
  },
  {
   "cell_type": "code",
   "outputs": [
    {
     "data": {
      "text/plain": "{'arriendo': 36, 'venta': 40}"
     },
     "execution_count": 6,
     "metadata": {},
     "output_type": "execute_result"
    }
   ],
   "source": [
    "WSPI.dict_len_type_operations"
   ],
   "metadata": {
    "collapsed": false,
    "ExecuteTime": {
     "end_time": "2024-09-08T21:15:29.429893Z",
     "start_time": "2024-09-08T21:15:29.321941Z"
    }
   },
   "id": "2987bc245fbb491c",
   "execution_count": 6
  },
  {
   "cell_type": "code",
   "outputs": [
    {
     "data": {
      "text/plain": "['arriendo',\n 'arriendo',\n 'arriendo',\n 'arriendo',\n 'arriendo',\n 'arriendo',\n 'arriendo',\n 'arriendo',\n 'arriendo',\n 'arriendo',\n 'arriendo',\n 'arriendo',\n 'arriendo',\n 'arriendo',\n 'arriendo',\n 'arriendo',\n 'arriendo',\n 'arriendo',\n 'arriendo',\n 'arriendo',\n 'arriendo',\n 'arriendo',\n 'arriendo',\n 'arriendo',\n 'arriendo',\n 'arriendo',\n 'arriendo',\n 'arriendo',\n 'arriendo',\n 'arriendo',\n 'arriendo',\n 'arriendo',\n 'arriendo',\n 'arriendo',\n 'arriendo',\n 'arriendo',\n 'venta',\n 'venta',\n 'venta',\n 'venta',\n 'venta',\n 'venta',\n 'venta',\n 'venta',\n 'venta',\n 'venta',\n 'venta',\n 'venta',\n 'venta',\n 'venta',\n 'venta',\n 'venta',\n 'venta',\n 'venta',\n 'venta',\n 'venta',\n 'venta',\n 'venta',\n 'venta',\n 'venta',\n 'venta',\n 'venta',\n 'venta',\n 'venta',\n 'venta',\n 'venta',\n 'venta',\n 'venta',\n 'venta',\n 'venta',\n 'venta',\n 'venta',\n 'venta',\n 'venta',\n 'venta',\n 'venta']"
     },
     "execution_count": 11,
     "metadata": {},
     "output_type": "execute_result"
    }
   ],
   "source": [
    "[\"arriendo\"]*WSPI.dict_len_type_operations[\"arriendo\"]+[\"venta\"]*WSPI.dict_len_type_operations[\"venta\"]"
   ],
   "metadata": {
    "collapsed": false,
    "ExecuteTime": {
     "end_time": "2024-09-08T21:41:57.253026Z",
     "start_time": "2024-09-08T21:41:57.095620Z"
    }
   },
   "id": "d4eabf992d57194",
   "execution_count": 11
  },
  {
   "cell_type": "markdown",
   "source": [
    "LOAD MAPS FROM DB"
   ],
   "metadata": {
    "collapsed": false
   },
   "id": "e906eeb3b7e57c15"
  },
  {
   "cell_type": "code",
   "outputs": [
    {
     "data": {
      "text/plain": "array([0, 1])"
     },
     "execution_count": 33,
     "metadata": {},
     "output_type": "execute_result"
    }
   ],
   "source": [
    "np.ceil(np.asarray([0,2]) / 50).astype(int)"
   ],
   "metadata": {
    "collapsed": false,
    "ExecuteTime": {
     "end_time": "2024-09-08T20:44:56.260055Z",
     "start_time": "2024-09-08T20:44:56.159095Z"
    }
   },
   "id": "588e3bfe08676f49",
   "execution_count": 33
  },
  {
   "cell_type": "code",
   "outputs": [
    {
     "data": {
      "text/plain": "Map(center=[-33.4489, -70.6693], controls=(ZoomControl(options=['position', 'zoom_in_text', 'zoom_in_title', '…",
      "application/vnd.jupyter.widget-view+json": {
       "version_major": 2,
       "version_minor": 0,
       "model_id": "0b91f544fb214e2cac4da66a8d3ec14d"
      }
     },
     "metadata": {},
     "output_type": "display_data"
    }
   ],
   "source": [
    "from ipyleaflet import Map, DrawControl, TileLayer, GeoJSON\n",
    "\n",
    "main_interactive_map = WSPI.init_map_ipyflet(theme=WSPI.theme,\n",
    "                                             center_map_cordinates=WSPI.center_map_coordinates,\n",
    "                                             geojson_data=WSPI.picked_pts_features)\n",
    "\n",
    "draw_control = DrawControl()\n",
    "\n",
    "draw_control.on_draw(WSPI.handle_draw)\n",
    "\n",
    "main_interactive_map.add(draw_control)\n",
    "display(main_interactive_map)  # NOQA"
   ],
   "metadata": {
    "collapsed": false,
    "ExecuteTime": {
     "end_time": "2024-09-08T18:04:19.622078Z",
     "start_time": "2024-09-08T18:04:19.473348Z"
    }
   },
   "id": "fece02a8b108e51c",
   "execution_count": 21
  },
  {
   "cell_type": "markdown",
   "source": [
    "#### benchamarks\n",
    "\n",
    "1145 PROPIEDADES ESCRAPIADAS EN 56 MINUTOS -  SINGLE THREAD"
   ],
   "metadata": {
    "collapsed": false
   },
   "id": "dab7a16a64b35441"
  },
  {
   "cell_type": "markdown",
   "source": [
    "# DATA MANAGE\n",
    "------------------------------------------"
   ],
   "metadata": {
    "collapsed": false
   },
   "id": "a7e8a4e8e5ac718c"
  },
  {
   "cell_type": "code",
   "outputs": [
    {
     "name": "stdout",
     "output_type": "stream",
     "text": [
      "The autoreload extension is already loaded. To reload it, use:\n",
      "  %reload_ext autoreload\n"
     ]
    }
   ],
   "source": [
    "%load_ext autoreload\n",
    "%autoreload 2"
   ],
   "metadata": {
    "collapsed": false,
    "ExecuteTime": {
     "end_time": "2024-08-30T16:22:42.605092Z",
     "start_time": "2024-08-30T16:22:40.947696Z"
    }
   },
   "id": "6875c1d59d942aef",
   "execution_count": 5
  },
  {
   "cell_type": "code",
   "outputs": [],
   "source": [
    "from database import *"
   ],
   "metadata": {
    "collapsed": false,
    "ExecuteTime": {
     "end_time": "2024-08-30T16:22:42.700088Z",
     "start_time": "2024-08-30T16:22:42.606090Z"
    }
   },
   "id": "f4b860ff2656f515",
   "execution_count": 6
  },
  {
   "cell_type": "code",
   "outputs": [
    {
     "data": {
      "text/plain": "       Latitude  Longitude dias_desde_publicacion n_dormitorios n_banos  \\\n0    -33.405653 -70.560099                    2.0           2.0     2.0   \n1    -33.410475   -70.5725                    2.0           4.0     3.0   \n2    -33.401758 -70.558145                   23.0           2.0     2.0   \n3    -33.412626 -70.577014                   23.0           1.0     1.0   \n4    -33.411946 -70.566881                   22.0           3.0     2.0   \n...         ...        ...                    ...           ...     ...   \n1395 -33.410506 -70.573783                    7.0           4.0     3.0   \n1396  -33.40269 -70.576525                  150.0           3.0     3.0   \n1397 -33.409007 -70.573441                   16.0           3.0     2.0   \n1398  -33.40859  -70.57672                    1.0           2.0     2.0   \n1399 -33.405653 -70.560099                    1.0           2.0     2.0   \n\n     superficie_total superficie_util estacionamientos bodegas antiguedad  \\\n0               188.0            68.0              2.0     1.0        7.0   \n1               130.0           124.0              2.0     1.0       31.0   \n2                70.0            63.0              0.0     1.0        0.0   \n3                38.0            38.0              1.0     1.0        4.0   \n4                90.0            80.0              1.0     1.0       10.0   \n...               ...             ...              ...     ...        ...   \n1395            115.0           115.0              1.0     1.0       45.0   \n1396            118.0            92.0              2.0     NaN        NaN   \n1397             87.0            82.0              1.0     1.0       19.0   \n1398             72.0            67.0              1.0     1.0       20.0   \n1399             68.0            63.0              2.0     1.0        NaN   \n\n      ...   orientacion gastos_comunes  \\\n0     ...           Sur       180000.0   \n1     ...   Nor-Oriente            0.0   \n2     ...  Nor-Poniente       190000.0   \n3     ...      Poniente       115000.0   \n4     ...      Poniente       240000.0   \n...   ...           ...            ...   \n1395  ...            NO       220000.0   \n1396  ...          None       120000.0   \n1397  ...            NP       150000.0   \n1398  ...            SO            NaN   \n1399  ...            NO       150000.0   \n\n                                                 titulo  \\\n0     Con Jardín: Nuestra Señora Del Rosario / Estad...   \n1     Departamento En Arriendo De 4 Dorm. En Las Condes   \n2     Espectacular Departamento Tipo Mariposa En Las...   \n3     Departamento Arriendo De 1 Dorm. Estadio Españ...   \n4     Depto En Arriendo De 3 Dorm. En Las Condes, Me...   \n...                                                 ...   \n1395                           Dpto Remodelado Luminoso   \n1396                              Se Vende Departamento   \n1397  Oportunidad, Vendo Buen Departamento, Espectac...   \n1398             Departamento Los Militares / La Gloria   \n1399            Luminoso Departamento 2d + 2b (2e + 1b)   \n\n                                                   link     geo_ref_name  \\\n0     https://www.portalinmobiliario.com/MLC-1519331...  metro_manquehue   \n1     https://www.portalinmobiliario.com/MLC-1519330...  metro_manquehue   \n2     https://www.portalinmobiliario.com/MLC-1511659...  metro_manquehue   \n3     https://www.portalinmobiliario.com/MLC-2643503...  metro_manquehue   \n4     https://www.portalinmobiliario.com/MLC-1512054...  metro_manquehue   \n...                                                 ...              ...   \n1395  https://www.portalinmobiliario.com/MLC-2670120...  metro_manquehue   \n1396  https://www.portalinmobiliario.com/MLC-2653607...  metro_manquehue   \n1397  https://www.portalinmobiliario.com/MLC-2656752...  metro_manquehue   \n1398  https://www.portalinmobiliario.com/MLC-1520443...  metro_manquehue   \n1399  https://www.portalinmobiliario.com/MLC-1520436...  metro_manquehue   \n\n     listed        Price      Price_UF tipo_operacion  \\\n0         0    1321110.0          35.0       arriendo   \n1         0    1509840.0          40.0       arriendo   \n2         0    1019142.0          27.0       arriendo   \n3         0    668859.12         17.72       arriendo   \n4         0    1050000.0     27.817517       arriendo   \n...     ...          ...           ...            ...   \n1395      1  320841000.0        8500.0          venta   \n1396      1  380000000.0  10067.291898          venta   \n1397      1  301968000.0        8000.0          venta   \n1398      1  263844540.0        6990.0          venta   \n1399      1  267996600.0        7100.0          venta   \n\n                            Date  \n0     2024-08-30 10:19:34.222238  \n1     2024-08-30 10:19:34.229592  \n2     2024-08-30 10:19:34.237387  \n3     2024-08-30 10:19:34.245242  \n4     2024-08-30 10:19:34.252004  \n...                          ...  \n1395  2024-08-30 12:20:29.653326  \n1396  2024-08-30 12:20:29.660817  \n1397  2024-08-30 12:20:29.670020  \n1398  2024-08-30 12:20:29.677459  \n1399  2024-08-30 12:20:29.684439  \n\n[1400 rows x 23 columns]",
      "text/html": "<div>\n<style scoped>\n    .dataframe tbody tr th:only-of-type {\n        vertical-align: middle;\n    }\n\n    .dataframe tbody tr th {\n        vertical-align: top;\n    }\n\n    .dataframe thead th {\n        text-align: right;\n    }\n</style>\n<table border=\"1\" class=\"dataframe\">\n  <thead>\n    <tr style=\"text-align: right;\">\n      <th></th>\n      <th>Latitude</th>\n      <th>Longitude</th>\n      <th>dias_desde_publicacion</th>\n      <th>n_dormitorios</th>\n      <th>n_banos</th>\n      <th>superficie_total</th>\n      <th>superficie_util</th>\n      <th>estacionamientos</th>\n      <th>bodegas</th>\n      <th>antiguedad</th>\n      <th>...</th>\n      <th>orientacion</th>\n      <th>gastos_comunes</th>\n      <th>titulo</th>\n      <th>link</th>\n      <th>geo_ref_name</th>\n      <th>listed</th>\n      <th>Price</th>\n      <th>Price_UF</th>\n      <th>tipo_operacion</th>\n      <th>Date</th>\n    </tr>\n  </thead>\n  <tbody>\n    <tr>\n      <th>0</th>\n      <td>-33.405653</td>\n      <td>-70.560099</td>\n      <td>2.0</td>\n      <td>2.0</td>\n      <td>2.0</td>\n      <td>188.0</td>\n      <td>68.0</td>\n      <td>2.0</td>\n      <td>1.0</td>\n      <td>7.0</td>\n      <td>...</td>\n      <td>Sur</td>\n      <td>180000.0</td>\n      <td>Con Jardín: Nuestra Señora Del Rosario / Estad...</td>\n      <td>https://www.portalinmobiliario.com/MLC-1519331...</td>\n      <td>metro_manquehue</td>\n      <td>0</td>\n      <td>1321110.0</td>\n      <td>35.0</td>\n      <td>arriendo</td>\n      <td>2024-08-30 10:19:34.222238</td>\n    </tr>\n    <tr>\n      <th>1</th>\n      <td>-33.410475</td>\n      <td>-70.5725</td>\n      <td>2.0</td>\n      <td>4.0</td>\n      <td>3.0</td>\n      <td>130.0</td>\n      <td>124.0</td>\n      <td>2.0</td>\n      <td>1.0</td>\n      <td>31.0</td>\n      <td>...</td>\n      <td>Nor-Oriente</td>\n      <td>0.0</td>\n      <td>Departamento En Arriendo De 4 Dorm. En Las Condes</td>\n      <td>https://www.portalinmobiliario.com/MLC-1519330...</td>\n      <td>metro_manquehue</td>\n      <td>0</td>\n      <td>1509840.0</td>\n      <td>40.0</td>\n      <td>arriendo</td>\n      <td>2024-08-30 10:19:34.229592</td>\n    </tr>\n    <tr>\n      <th>2</th>\n      <td>-33.401758</td>\n      <td>-70.558145</td>\n      <td>23.0</td>\n      <td>2.0</td>\n      <td>2.0</td>\n      <td>70.0</td>\n      <td>63.0</td>\n      <td>0.0</td>\n      <td>1.0</td>\n      <td>0.0</td>\n      <td>...</td>\n      <td>Nor-Poniente</td>\n      <td>190000.0</td>\n      <td>Espectacular Departamento Tipo Mariposa En Las...</td>\n      <td>https://www.portalinmobiliario.com/MLC-1511659...</td>\n      <td>metro_manquehue</td>\n      <td>0</td>\n      <td>1019142.0</td>\n      <td>27.0</td>\n      <td>arriendo</td>\n      <td>2024-08-30 10:19:34.237387</td>\n    </tr>\n    <tr>\n      <th>3</th>\n      <td>-33.412626</td>\n      <td>-70.577014</td>\n      <td>23.0</td>\n      <td>1.0</td>\n      <td>1.0</td>\n      <td>38.0</td>\n      <td>38.0</td>\n      <td>1.0</td>\n      <td>1.0</td>\n      <td>4.0</td>\n      <td>...</td>\n      <td>Poniente</td>\n      <td>115000.0</td>\n      <td>Departamento Arriendo De 1 Dorm. Estadio Españ...</td>\n      <td>https://www.portalinmobiliario.com/MLC-2643503...</td>\n      <td>metro_manquehue</td>\n      <td>0</td>\n      <td>668859.12</td>\n      <td>17.72</td>\n      <td>arriendo</td>\n      <td>2024-08-30 10:19:34.245242</td>\n    </tr>\n    <tr>\n      <th>4</th>\n      <td>-33.411946</td>\n      <td>-70.566881</td>\n      <td>22.0</td>\n      <td>3.0</td>\n      <td>2.0</td>\n      <td>90.0</td>\n      <td>80.0</td>\n      <td>1.0</td>\n      <td>1.0</td>\n      <td>10.0</td>\n      <td>...</td>\n      <td>Poniente</td>\n      <td>240000.0</td>\n      <td>Depto En Arriendo De 3 Dorm. En Las Condes, Me...</td>\n      <td>https://www.portalinmobiliario.com/MLC-1512054...</td>\n      <td>metro_manquehue</td>\n      <td>0</td>\n      <td>1050000.0</td>\n      <td>27.817517</td>\n      <td>arriendo</td>\n      <td>2024-08-30 10:19:34.252004</td>\n    </tr>\n    <tr>\n      <th>...</th>\n      <td>...</td>\n      <td>...</td>\n      <td>...</td>\n      <td>...</td>\n      <td>...</td>\n      <td>...</td>\n      <td>...</td>\n      <td>...</td>\n      <td>...</td>\n      <td>...</td>\n      <td>...</td>\n      <td>...</td>\n      <td>...</td>\n      <td>...</td>\n      <td>...</td>\n      <td>...</td>\n      <td>...</td>\n      <td>...</td>\n      <td>...</td>\n      <td>...</td>\n      <td>...</td>\n    </tr>\n    <tr>\n      <th>1395</th>\n      <td>-33.410506</td>\n      <td>-70.573783</td>\n      <td>7.0</td>\n      <td>4.0</td>\n      <td>3.0</td>\n      <td>115.0</td>\n      <td>115.0</td>\n      <td>1.0</td>\n      <td>1.0</td>\n      <td>45.0</td>\n      <td>...</td>\n      <td>NO</td>\n      <td>220000.0</td>\n      <td>Dpto Remodelado Luminoso</td>\n      <td>https://www.portalinmobiliario.com/MLC-2670120...</td>\n      <td>metro_manquehue</td>\n      <td>1</td>\n      <td>320841000.0</td>\n      <td>8500.0</td>\n      <td>venta</td>\n      <td>2024-08-30 12:20:29.653326</td>\n    </tr>\n    <tr>\n      <th>1396</th>\n      <td>-33.40269</td>\n      <td>-70.576525</td>\n      <td>150.0</td>\n      <td>3.0</td>\n      <td>3.0</td>\n      <td>118.0</td>\n      <td>92.0</td>\n      <td>2.0</td>\n      <td>NaN</td>\n      <td>NaN</td>\n      <td>...</td>\n      <td>None</td>\n      <td>120000.0</td>\n      <td>Se Vende Departamento</td>\n      <td>https://www.portalinmobiliario.com/MLC-2653607...</td>\n      <td>metro_manquehue</td>\n      <td>1</td>\n      <td>380000000.0</td>\n      <td>10067.291898</td>\n      <td>venta</td>\n      <td>2024-08-30 12:20:29.660817</td>\n    </tr>\n    <tr>\n      <th>1397</th>\n      <td>-33.409007</td>\n      <td>-70.573441</td>\n      <td>16.0</td>\n      <td>3.0</td>\n      <td>2.0</td>\n      <td>87.0</td>\n      <td>82.0</td>\n      <td>1.0</td>\n      <td>1.0</td>\n      <td>19.0</td>\n      <td>...</td>\n      <td>NP</td>\n      <td>150000.0</td>\n      <td>Oportunidad, Vendo Buen Departamento, Espectac...</td>\n      <td>https://www.portalinmobiliario.com/MLC-2656752...</td>\n      <td>metro_manquehue</td>\n      <td>1</td>\n      <td>301968000.0</td>\n      <td>8000.0</td>\n      <td>venta</td>\n      <td>2024-08-30 12:20:29.670020</td>\n    </tr>\n    <tr>\n      <th>1398</th>\n      <td>-33.40859</td>\n      <td>-70.57672</td>\n      <td>1.0</td>\n      <td>2.0</td>\n      <td>2.0</td>\n      <td>72.0</td>\n      <td>67.0</td>\n      <td>1.0</td>\n      <td>1.0</td>\n      <td>20.0</td>\n      <td>...</td>\n      <td>SO</td>\n      <td>NaN</td>\n      <td>Departamento Los Militares / La Gloria</td>\n      <td>https://www.portalinmobiliario.com/MLC-1520443...</td>\n      <td>metro_manquehue</td>\n      <td>1</td>\n      <td>263844540.0</td>\n      <td>6990.0</td>\n      <td>venta</td>\n      <td>2024-08-30 12:20:29.677459</td>\n    </tr>\n    <tr>\n      <th>1399</th>\n      <td>-33.405653</td>\n      <td>-70.560099</td>\n      <td>1.0</td>\n      <td>2.0</td>\n      <td>2.0</td>\n      <td>68.0</td>\n      <td>63.0</td>\n      <td>2.0</td>\n      <td>1.0</td>\n      <td>NaN</td>\n      <td>...</td>\n      <td>NO</td>\n      <td>150000.0</td>\n      <td>Luminoso Departamento 2d + 2b (2e + 1b)</td>\n      <td>https://www.portalinmobiliario.com/MLC-1520436...</td>\n      <td>metro_manquehue</td>\n      <td>1</td>\n      <td>267996600.0</td>\n      <td>7100.0</td>\n      <td>venta</td>\n      <td>2024-08-30 12:20:29.684439</td>\n    </tr>\n  </tbody>\n</table>\n<p>1400 rows × 23 columns</p>\n</div>"
     },
     "execution_count": 7,
     "metadata": {},
     "output_type": "execute_result"
    }
   ],
   "source": [
    "conn = create_conect_db(\"real_state.db\")\n",
    "df = get_joined_data_as_dataframe(conn=conn, threshold_date=\"2024-07-24 15:00\")\n",
    "df = df.T.drop_duplicates().T\n",
    "df"
   ],
   "metadata": {
    "collapsed": false,
    "ExecuteTime": {
     "end_time": "2024-08-30T16:25:25.381473Z",
     "start_time": "2024-08-30T16:25:24.816782Z"
    }
   },
   "id": "f6c279a507013fc9",
   "execution_count": 7
  },
  {
   "cell_type": "markdown",
   "source": [
    "# DATA PROCESING\n",
    "------------------------------------------"
   ],
   "metadata": {
    "collapsed": false
   },
   "id": "7c691a53f26e3f3c"
  },
  {
   "cell_type": "code",
   "outputs": [
    {
     "data": {
      "text/plain": "255"
     },
     "execution_count": 8,
     "metadata": {},
     "output_type": "execute_result"
    }
   ],
   "source": [
    "# df_arriendo = pd.read_excel(r\"C:\\Users\\blavin\\Documents\\Github_myself\\portal_inmobiliario_web_scraper\\results\\metro_chile_españa\\results_invesment_arriendo_departamento_1143_18_07_24.xlsx\")\n",
    "\n",
    "df_arriendo = df.query(\"tipo_operacion=='arriendo'\")\n",
    "len(df_arriendo)"
   ],
   "metadata": {
    "collapsed": false,
    "ExecuteTime": {
     "end_time": "2024-08-30T16:26:40.269035Z",
     "start_time": "2024-08-30T16:26:40.150638Z"
    }
   },
   "id": "6f22288e814d00ee",
   "execution_count": 8
  },
  {
   "cell_type": "code",
   "outputs": [
    {
     "data": {
      "text/plain": "    Latitude  Longitude dias_desde_publicacion n_dormitorios n_banos  \\\n0 -33.405653 -70.560099                    2.0           2.0     2.0   \n1 -33.410475   -70.5725                    2.0           4.0     3.0   \n2 -33.401758 -70.558145                   23.0           2.0     2.0   \n3 -33.412626 -70.577014                   23.0           1.0     1.0   \n4 -33.411946 -70.566881                   22.0           3.0     2.0   \n\n  superficie_total superficie_util estacionamientos bodegas antiguedad  ...  \\\n0            188.0            68.0              2.0     1.0        7.0  ...   \n1            130.0           124.0              2.0     1.0       31.0  ...   \n2             70.0            63.0              0.0     1.0        0.0  ...   \n3             38.0            38.0              1.0     1.0        4.0  ...   \n4             90.0            80.0              1.0     1.0       10.0  ...   \n\n    orientacion gastos_comunes  \\\n0           Sur       180000.0   \n1   Nor-Oriente            0.0   \n2  Nor-Poniente       190000.0   \n3      Poniente       115000.0   \n4      Poniente       240000.0   \n\n                                              titulo  \\\n0  Con Jardín: Nuestra Señora Del Rosario / Estad...   \n1  Departamento En Arriendo De 4 Dorm. En Las Condes   \n2  Espectacular Departamento Tipo Mariposa En Las...   \n3  Departamento Arriendo De 1 Dorm. Estadio Españ...   \n4  Depto En Arriendo De 3 Dorm. En Las Condes, Me...   \n\n                                                link     geo_ref_name listed  \\\n0  https://www.portalinmobiliario.com/MLC-1519331...  metro_manquehue      0   \n1  https://www.portalinmobiliario.com/MLC-1519330...  metro_manquehue      0   \n2  https://www.portalinmobiliario.com/MLC-1511659...  metro_manquehue      0   \n3  https://www.portalinmobiliario.com/MLC-2643503...  metro_manquehue      0   \n4  https://www.portalinmobiliario.com/MLC-1512054...  metro_manquehue      0   \n\n       Price   Price_UF tipo_operacion                        Date  \n0  1321110.0       35.0       arriendo  2024-08-30 10:19:34.222238  \n1  1509840.0       40.0       arriendo  2024-08-30 10:19:34.229592  \n2  1019142.0       27.0       arriendo  2024-08-30 10:19:34.237387  \n3  668859.12      17.72       arriendo  2024-08-30 10:19:34.245242  \n4  1050000.0  27.817517       arriendo  2024-08-30 10:19:34.252004  \n\n[5 rows x 23 columns]",
      "text/html": "<div>\n<style scoped>\n    .dataframe tbody tr th:only-of-type {\n        vertical-align: middle;\n    }\n\n    .dataframe tbody tr th {\n        vertical-align: top;\n    }\n\n    .dataframe thead th {\n        text-align: right;\n    }\n</style>\n<table border=\"1\" class=\"dataframe\">\n  <thead>\n    <tr style=\"text-align: right;\">\n      <th></th>\n      <th>Latitude</th>\n      <th>Longitude</th>\n      <th>dias_desde_publicacion</th>\n      <th>n_dormitorios</th>\n      <th>n_banos</th>\n      <th>superficie_total</th>\n      <th>superficie_util</th>\n      <th>estacionamientos</th>\n      <th>bodegas</th>\n      <th>antiguedad</th>\n      <th>...</th>\n      <th>orientacion</th>\n      <th>gastos_comunes</th>\n      <th>titulo</th>\n      <th>link</th>\n      <th>geo_ref_name</th>\n      <th>listed</th>\n      <th>Price</th>\n      <th>Price_UF</th>\n      <th>tipo_operacion</th>\n      <th>Date</th>\n    </tr>\n  </thead>\n  <tbody>\n    <tr>\n      <th>0</th>\n      <td>-33.405653</td>\n      <td>-70.560099</td>\n      <td>2.0</td>\n      <td>2.0</td>\n      <td>2.0</td>\n      <td>188.0</td>\n      <td>68.0</td>\n      <td>2.0</td>\n      <td>1.0</td>\n      <td>7.0</td>\n      <td>...</td>\n      <td>Sur</td>\n      <td>180000.0</td>\n      <td>Con Jardín: Nuestra Señora Del Rosario / Estad...</td>\n      <td>https://www.portalinmobiliario.com/MLC-1519331...</td>\n      <td>metro_manquehue</td>\n      <td>0</td>\n      <td>1321110.0</td>\n      <td>35.0</td>\n      <td>arriendo</td>\n      <td>2024-08-30 10:19:34.222238</td>\n    </tr>\n    <tr>\n      <th>1</th>\n      <td>-33.410475</td>\n      <td>-70.5725</td>\n      <td>2.0</td>\n      <td>4.0</td>\n      <td>3.0</td>\n      <td>130.0</td>\n      <td>124.0</td>\n      <td>2.0</td>\n      <td>1.0</td>\n      <td>31.0</td>\n      <td>...</td>\n      <td>Nor-Oriente</td>\n      <td>0.0</td>\n      <td>Departamento En Arriendo De 4 Dorm. En Las Condes</td>\n      <td>https://www.portalinmobiliario.com/MLC-1519330...</td>\n      <td>metro_manquehue</td>\n      <td>0</td>\n      <td>1509840.0</td>\n      <td>40.0</td>\n      <td>arriendo</td>\n      <td>2024-08-30 10:19:34.229592</td>\n    </tr>\n    <tr>\n      <th>2</th>\n      <td>-33.401758</td>\n      <td>-70.558145</td>\n      <td>23.0</td>\n      <td>2.0</td>\n      <td>2.0</td>\n      <td>70.0</td>\n      <td>63.0</td>\n      <td>0.0</td>\n      <td>1.0</td>\n      <td>0.0</td>\n      <td>...</td>\n      <td>Nor-Poniente</td>\n      <td>190000.0</td>\n      <td>Espectacular Departamento Tipo Mariposa En Las...</td>\n      <td>https://www.portalinmobiliario.com/MLC-1511659...</td>\n      <td>metro_manquehue</td>\n      <td>0</td>\n      <td>1019142.0</td>\n      <td>27.0</td>\n      <td>arriendo</td>\n      <td>2024-08-30 10:19:34.237387</td>\n    </tr>\n    <tr>\n      <th>3</th>\n      <td>-33.412626</td>\n      <td>-70.577014</td>\n      <td>23.0</td>\n      <td>1.0</td>\n      <td>1.0</td>\n      <td>38.0</td>\n      <td>38.0</td>\n      <td>1.0</td>\n      <td>1.0</td>\n      <td>4.0</td>\n      <td>...</td>\n      <td>Poniente</td>\n      <td>115000.0</td>\n      <td>Departamento Arriendo De 1 Dorm. Estadio Españ...</td>\n      <td>https://www.portalinmobiliario.com/MLC-2643503...</td>\n      <td>metro_manquehue</td>\n      <td>0</td>\n      <td>668859.12</td>\n      <td>17.72</td>\n      <td>arriendo</td>\n      <td>2024-08-30 10:19:34.245242</td>\n    </tr>\n    <tr>\n      <th>4</th>\n      <td>-33.411946</td>\n      <td>-70.566881</td>\n      <td>22.0</td>\n      <td>3.0</td>\n      <td>2.0</td>\n      <td>90.0</td>\n      <td>80.0</td>\n      <td>1.0</td>\n      <td>1.0</td>\n      <td>10.0</td>\n      <td>...</td>\n      <td>Poniente</td>\n      <td>240000.0</td>\n      <td>Depto En Arriendo De 3 Dorm. En Las Condes, Me...</td>\n      <td>https://www.portalinmobiliario.com/MLC-1512054...</td>\n      <td>metro_manquehue</td>\n      <td>0</td>\n      <td>1050000.0</td>\n      <td>27.817517</td>\n      <td>arriendo</td>\n      <td>2024-08-30 10:19:34.252004</td>\n    </tr>\n  </tbody>\n</table>\n<p>5 rows × 23 columns</p>\n</div>"
     },
     "execution_count": 16,
     "metadata": {},
     "output_type": "execute_result"
    }
   ],
   "source": [
    "df_arriendo.head()"
   ],
   "metadata": {
    "collapsed": false,
    "ExecuteTime": {
     "end_time": "2024-08-30T16:29:01.683437Z",
     "start_time": "2024-08-30T16:29:01.569530Z"
    }
   },
   "id": "f64547a3ebc10e1e",
   "execution_count": 16
  },
  {
   "cell_type": "markdown",
   "source": [
    "### precio arriendo segun tipologia"
   ],
   "metadata": {
    "collapsed": false
   },
   "id": "1f22c7e48124a8d0"
  },
  {
   "cell_type": "code",
   "outputs": [
    {
     "name": "stderr",
     "output_type": "stream",
     "text": [
      "c:\\users\\espdatascienceat\\appdata\\local\\programs\\python\\python37\\lib\\site-packages\\IPython\\core\\interactiveshell.py:3524: FutureWarning: Dropping invalid columns in DataFrameGroupBy.mean is deprecated. In a future version, a TypeError will be raised. Before calling .mean, select only columns which should be valid for the function.\n",
      "  exec(code_obj, self.user_global_ns, self.user_ns)\n"
     ]
    },
    {
     "data": {
      "text/plain": "                Latitude  Longitude  dias_desde_publicacion   n_banos  \\\nn_dormitorios                                                           \n1.0           -33.407880 -70.566138               29.512195  1.036585   \n2.0           -33.407733 -70.567749               20.309859  1.915493   \n3.0           -33.407806 -70.570551               25.721519  2.455696   \n4.0           -33.405828 -70.569030               33.086957  3.043478   \n\n               superficie_total  superficie_util  estacionamientos   bodegas  \\\nn_dormitorios                                                                  \n1.0                   46.921585        41.011707          1.524390  1.146341   \n2.0                   78.271972        68.600423          1.028169  0.774648   \n3.0                  121.311519       108.354810          1.367089  0.835443   \n4.0                  148.304348       134.434783          1.956522  0.956522   \n\n               antiguedad  cantidad_pisos_edificio  piso_unidad  \\\nn_dormitorios                                                     \n1.0              9.085714                 9.647059    37.915493   \n2.0             88.865385                10.377778     6.452830   \n3.0             13.295082                11.953846     8.909091   \n4.0             14.809524                10.450000     6.100000   \n\n               gastos_comunes    listed         Price    Price_UF  \nn_dormitorios                                                      \n1.0                 100950.05  0.000000  2.782647e+06   73.720315  \n2.0               96652289.65  0.014085  4.668449e+06  123.680616  \n3.0                 218750.00  0.012658  1.448748e+06   38.381507  \n4.0                 275937.50  0.043478  1.782485e+06   47.223158  ",
      "text/html": "<div>\n<style scoped>\n    .dataframe tbody tr th:only-of-type {\n        vertical-align: middle;\n    }\n\n    .dataframe tbody tr th {\n        vertical-align: top;\n    }\n\n    .dataframe thead th {\n        text-align: right;\n    }\n</style>\n<table border=\"1\" class=\"dataframe\">\n  <thead>\n    <tr style=\"text-align: right;\">\n      <th></th>\n      <th>Latitude</th>\n      <th>Longitude</th>\n      <th>dias_desde_publicacion</th>\n      <th>n_banos</th>\n      <th>superficie_total</th>\n      <th>superficie_util</th>\n      <th>estacionamientos</th>\n      <th>bodegas</th>\n      <th>antiguedad</th>\n      <th>cantidad_pisos_edificio</th>\n      <th>piso_unidad</th>\n      <th>gastos_comunes</th>\n      <th>listed</th>\n      <th>Price</th>\n      <th>Price_UF</th>\n    </tr>\n    <tr>\n      <th>n_dormitorios</th>\n      <th></th>\n      <th></th>\n      <th></th>\n      <th></th>\n      <th></th>\n      <th></th>\n      <th></th>\n      <th></th>\n      <th></th>\n      <th></th>\n      <th></th>\n      <th></th>\n      <th></th>\n      <th></th>\n      <th></th>\n    </tr>\n  </thead>\n  <tbody>\n    <tr>\n      <th>1.0</th>\n      <td>-33.407880</td>\n      <td>-70.566138</td>\n      <td>29.512195</td>\n      <td>1.036585</td>\n      <td>46.921585</td>\n      <td>41.011707</td>\n      <td>1.524390</td>\n      <td>1.146341</td>\n      <td>9.085714</td>\n      <td>9.647059</td>\n      <td>37.915493</td>\n      <td>100950.05</td>\n      <td>0.000000</td>\n      <td>2.782647e+06</td>\n      <td>73.720315</td>\n    </tr>\n    <tr>\n      <th>2.0</th>\n      <td>-33.407733</td>\n      <td>-70.567749</td>\n      <td>20.309859</td>\n      <td>1.915493</td>\n      <td>78.271972</td>\n      <td>68.600423</td>\n      <td>1.028169</td>\n      <td>0.774648</td>\n      <td>88.865385</td>\n      <td>10.377778</td>\n      <td>6.452830</td>\n      <td>96652289.65</td>\n      <td>0.014085</td>\n      <td>4.668449e+06</td>\n      <td>123.680616</td>\n    </tr>\n    <tr>\n      <th>3.0</th>\n      <td>-33.407806</td>\n      <td>-70.570551</td>\n      <td>25.721519</td>\n      <td>2.455696</td>\n      <td>121.311519</td>\n      <td>108.354810</td>\n      <td>1.367089</td>\n      <td>0.835443</td>\n      <td>13.295082</td>\n      <td>11.953846</td>\n      <td>8.909091</td>\n      <td>218750.00</td>\n      <td>0.012658</td>\n      <td>1.448748e+06</td>\n      <td>38.381507</td>\n    </tr>\n    <tr>\n      <th>4.0</th>\n      <td>-33.405828</td>\n      <td>-70.569030</td>\n      <td>33.086957</td>\n      <td>3.043478</td>\n      <td>148.304348</td>\n      <td>134.434783</td>\n      <td>1.956522</td>\n      <td>0.956522</td>\n      <td>14.809524</td>\n      <td>10.450000</td>\n      <td>6.100000</td>\n      <td>275937.50</td>\n      <td>0.043478</td>\n      <td>1.782485e+06</td>\n      <td>47.223158</td>\n    </tr>\n  </tbody>\n</table>\n</div>"
     },
     "execution_count": 17,
     "metadata": {},
     "output_type": "execute_result"
    }
   ],
   "source": [
    "df_arriendo.groupby(by=\"n_dormitorios\").mean()"
   ],
   "metadata": {
    "collapsed": false,
    "ExecuteTime": {
     "end_time": "2024-08-30T16:29:15.793886Z",
     "start_time": "2024-08-30T16:29:15.678002Z"
    }
   },
   "id": "9cd3128c841b33de",
   "execution_count": 17
  },
  {
   "cell_type": "code",
   "outputs": [],
   "source": [
    "def remove_outliers(self, column_name):\n",
    "    \"\"\" removedor de outliers para columna especificada\"\"\"\n",
    "    Q1 = self[column_name].quantile(0.25)\n",
    "    Q3 = self[column_name].quantile(0.75)\n",
    "    IQR = Q3 - Q1\n",
    "    lower_bound = Q1 - 1.5 * IQR\n",
    "    upper_bound = Q3 + 1.5 * IQR\n",
    "\n",
    "    condition = (self[column_name] >= lower_bound) & (self[column_name] <= upper_bound)\n",
    "    return self.loc[condition]\n",
    "\n",
    "# Attach the function to the pandas DataFrame class\n",
    "pd.DataFrame.remove_outliers = remove_outliers"
   ],
   "metadata": {
    "collapsed": false,
    "ExecuteTime": {
     "end_time": "2024-08-30T16:27:12.986487Z",
     "start_time": "2024-08-30T16:27:12.878627Z"
    }
   },
   "id": "567d8aa2c50d5c4c",
   "execution_count": 11
  },
  {
   "cell_type": "code",
   "outputs": [
    {
     "name": "stdout",
     "output_type": "stream",
     "text": [
      "con 1.0 dormitorios, se puede arrendar en aproximadamente 570000, analizado desde 73 propiedades\n",
      "con 2.0 dormitorios, se puede arrendar en aproximadamente 766000, analizado desde 67 propiedades\n",
      "con 3.0 dormitorios, se puede arrendar en aproximadamente 1049603, analizado desde 75 propiedades\n",
      "con 4.0 dormitorios, se puede arrendar en aproximadamente 1509840, analizado desde 21 propiedades\n"
     ]
    }
   ],
   "source": [
    "# EXTRACTOR DE PRECIO DE ARRIENDO SEGUN TIPOLOGIA\n",
    "results_precio_arriendo = {}\n",
    "for n_dorm in pd.Series(df_arriendo[\"n_dormitorios\"].unique()).sort_values().values:\n",
    "\n",
    "    clean_tipology_df = df_arriendo.query(f\"n_dormitorios=={n_dorm}\").remove_outliers('Price_UF')\n",
    "    precio_arriendo = int(clean_tipology_df.Price.quantile(0.1))\n",
    "    results_precio_arriendo[n_dorm] = precio_arriendo\n",
    "    print(f\"con {n_dorm} dormitorios, se puede arrendar en aproximadamente {precio_arriendo}, analizado desde {len(clean_tipology_df)} propiedades\")\n",
    "    \n",
    "    # list_results.append(df_arriendo.query(f\"n_dormitorios=={n_dorm}\").remove_outliers('precio_UF'))\n",
    "    \n",
    "# df_price_wo_outliers = pd.concat(list_results)\n",
    "# df_price_wo_outliers"
   ],
   "metadata": {
    "collapsed": false,
    "ExecuteTime": {
     "end_time": "2024-08-30T16:33:33.127467Z",
     "start_time": "2024-08-30T16:33:32.990122Z"
    }
   },
   "id": "5861f480b4deb290",
   "execution_count": 26
  },
  {
   "cell_type": "code",
   "outputs": [
    {
     "data": {
      "text/plain": "{1.0: 570000, 2.0: 766000, 3.0: 1049603, 4.0: 1509840}"
     },
     "execution_count": 27,
     "metadata": {},
     "output_type": "execute_result"
    }
   ],
   "source": [
    "results_precio_arriendo"
   ],
   "metadata": {
    "collapsed": false,
    "ExecuteTime": {
     "end_time": "2024-08-30T16:34:19.051720Z",
     "start_time": "2024-08-30T16:34:18.948084Z"
    }
   },
   "id": "9153163cd26d519f",
   "execution_count": 27
  },
  {
   "cell_type": "markdown",
   "source": [
    "### precio por metro cuadrado"
   ],
   "metadata": {
    "collapsed": false
   },
   "id": "50eab638b6ef12f"
  },
  {
   "cell_type": "code",
   "outputs": [
    {
     "name": "stdout",
     "output_type": "stream",
     "text": [
      "precio/m2 de la zona es 30305 CLP , 0.8 UF\n"
     ]
    }
   ],
   "source": [
    "# EXTRACTOR DE PRECIO DE ARRIENDO SEGUN TIPOLOGIA\n",
    "list_results = []\n",
    "for n_dorm in pd.Series(df_arriendo[\"n_dormitorios\"].unique()).sort_values().values:\n",
    "    clean_tipology_df = df_arriendo.query(f\"n_dormitorios=={n_dorm}\").remove_outliers('superficie_util')\n",
    "    list_results.append(clean_tipology_df)\n",
    "\n",
    "    # print(f\"con {n_dorm} dormitorios, se puede arrendar en aproximadamente {precio_arriendo}, analizado desde {len(clean_tipology_df)} propiedades\")\n",
    "    # list_results.append(df_arriendo.query(f\"n_dormitorios=={n_dorm}\").remove_outliers('precio_UF'))\n",
    "\n",
    "df_price_wo_outliers = pd.concat(list_results)\n",
    "df_price_wo_outliers[\"precio_m2\"] = df_price_wo_outliers.Price_UF/df_price_wo_outliers.superficie_util\n",
    "promedio_zona = int(np.mean(df_price_wo_outliers.Price/df_price_wo_outliers.superficie_util))\n",
    "promedio_zona_UF = np.round(np.mean(df_price_wo_outliers.Price_UF/df_price_wo_outliers.superficie_util),2)\n",
    "\n",
    "print(f\"precio/m2 de la zona es {promedio_zona} CLP , {promedio_zona_UF} UF\")"
   ],
   "metadata": {
    "collapsed": false,
    "ExecuteTime": {
     "end_time": "2024-08-30T16:35:13.476176Z",
     "start_time": "2024-08-30T16:35:13.365359Z"
    }
   },
   "id": "492aae60846ddf75",
   "execution_count": 30
  },
  {
   "cell_type": "code",
   "outputs": [
    {
     "data": {
      "text/plain": "      Latitude  Longitude dias_desde_publicacion n_dormitorios n_banos  \\\n3   -33.412626 -70.577014                   23.0           1.0     1.0   \n7   -33.408244 -70.563937                    8.0           1.0     1.0   \n10  -33.408351 -70.568972                   10.0           1.0     1.0   \n21  -33.407023 -70.557869                   17.0           1.0     1.0   \n24  -33.406685 -70.567951                   40.0           1.0     1.0   \n..         ...        ...                    ...           ...     ...   \n203  -33.40269 -70.576525                  210.0           4.0     3.0   \n205   -33.4032 -70.562362                   34.0           4.0     3.0   \n212 -33.407455 -70.570759                  120.0           4.0     2.0   \n225 -33.408257  -70.57408                   20.0           4.0     3.0   \n245 -33.403636 -70.568881                   11.0           4.0     4.0   \n\n    superficie_total superficie_util estacionamientos bodegas antiguedad  ...  \\\n3               38.0            38.0              1.0     1.0        4.0  ...   \n7               43.0            40.0              1.0     1.0       15.0  ...   \n10              60.0            48.0              1.0     1.0       20.0  ...   \n21              31.0            31.0              1.0     1.0        0.0  ...   \n24              57.0            42.0              1.0     0.0        0.0  ...   \n..               ...             ...              ...     ...        ...  ...   \n203            155.0           140.0              2.0     1.0       20.0  ...   \n205            170.0           145.0              2.0     1.0       16.0  ...   \n212            152.0           140.0              2.0     1.0        8.0  ...   \n225            150.0           140.0              2.0     1.0        NaN  ...   \n245            164.0           156.0              1.0     1.0       22.0  ...   \n\n    gastos_comunes                                             titulo  \\\n3         115000.0  Departamento Arriendo De 1 Dorm. Estadio Españ...   \n7              NaN                 Depto En Apoquindo Metro Manquehue   \n10             NaN                      Alonso De Córdova / Apoquindo   \n21             NaN  Excelente Dpto Amoblado Con Estacionamiento Y ...   \n24             NaN  Excelente Departamento Cercano A Clínicas, Met...   \n..             ...                                                ...   \n203       375000.0  Estupendo Departamento Con Vista Despejada Las...   \n205       500000.0  Estupendo Amplio Departamento A Pasos De Coleg...   \n212       240000.0  Departamento En Arriendo Full Amoblado 4 Dorm....   \n225       280000.0  Arriendo Amplio Departamento 4 Dormitorios  La...   \n245       280000.0           Hermoso Departamento Recién Remodelado.    \n\n                                                  link     geo_ref_name  \\\n3    https://www.portalinmobiliario.com/MLC-2643503...  metro_manquehue   \n7    https://www.portalinmobiliario.com/MLC-1516809...  metro_manquehue   \n10   https://www.portalinmobiliario.com/MLC-1515933...  metro_manquehue   \n21   https://www.portalinmobiliario.com/MLC-1513553...  metro_manquehue   \n24   https://www.portalinmobiliario.com/MLC-2601089...  metro_manquehue   \n..                                                 ...              ...   \n203  https://www.portalinmobiliario.com/MLC-2655610...  metro_manquehue   \n205  https://www.portalinmobiliario.com/MLC-2616692...  metro_manquehue   \n212  https://www.portalinmobiliario.com/MLC-1509716...  metro_manquehue   \n225  https://www.portalinmobiliario.com/MLC-2648918...  metro_manquehue   \n245  https://www.portalinmobiliario.com/MLC-1515647...  metro_manquehue   \n\n    listed       Price   Price_UF tipo_operacion                        Date  \\\n3        0   668859.12      17.72       arriendo  2024-08-30 10:19:34.245242   \n7        0    650000.0  17.220368       arriendo  2024-08-30 10:19:34.273055   \n10       0    679428.0       18.0       arriendo  2024-08-30 10:19:34.296274   \n21       0    700000.0  18.545011       arriendo  2024-08-30 10:19:34.379954   \n24       0  1057642.92      28.02       arriendo  2024-08-30 10:19:34.402720   \n..     ...         ...        ...            ...                         ...   \n203      0   1547586.0       41.0       arriendo  2024-08-30 10:19:35.771585   \n205      0   1520000.0  40.269168       arriendo  2024-08-30 10:19:35.787745   \n212      0   2500000.0  66.232184       arriendo  2024-08-30 10:19:35.841283   \n225      0   1700000.0  45.037885       arriendo  2024-08-30 10:19:35.940826   \n245      0   1700000.0  45.037885       arriendo  2024-08-30 10:19:36.093011   \n\n    precio_m2  \n3    0.466316  \n7    0.430509  \n10      0.375  \n21   0.598226  \n24   0.667143  \n..        ...  \n203  0.292857  \n205  0.277718  \n212  0.473087  \n225  0.321699  \n245  0.288704  \n\n[237 rows x 24 columns]",
      "text/html": "<div>\n<style scoped>\n    .dataframe tbody tr th:only-of-type {\n        vertical-align: middle;\n    }\n\n    .dataframe tbody tr th {\n        vertical-align: top;\n    }\n\n    .dataframe thead th {\n        text-align: right;\n    }\n</style>\n<table border=\"1\" class=\"dataframe\">\n  <thead>\n    <tr style=\"text-align: right;\">\n      <th></th>\n      <th>Latitude</th>\n      <th>Longitude</th>\n      <th>dias_desde_publicacion</th>\n      <th>n_dormitorios</th>\n      <th>n_banos</th>\n      <th>superficie_total</th>\n      <th>superficie_util</th>\n      <th>estacionamientos</th>\n      <th>bodegas</th>\n      <th>antiguedad</th>\n      <th>...</th>\n      <th>gastos_comunes</th>\n      <th>titulo</th>\n      <th>link</th>\n      <th>geo_ref_name</th>\n      <th>listed</th>\n      <th>Price</th>\n      <th>Price_UF</th>\n      <th>tipo_operacion</th>\n      <th>Date</th>\n      <th>precio_m2</th>\n    </tr>\n  </thead>\n  <tbody>\n    <tr>\n      <th>3</th>\n      <td>-33.412626</td>\n      <td>-70.577014</td>\n      <td>23.0</td>\n      <td>1.0</td>\n      <td>1.0</td>\n      <td>38.0</td>\n      <td>38.0</td>\n      <td>1.0</td>\n      <td>1.0</td>\n      <td>4.0</td>\n      <td>...</td>\n      <td>115000.0</td>\n      <td>Departamento Arriendo De 1 Dorm. Estadio Españ...</td>\n      <td>https://www.portalinmobiliario.com/MLC-2643503...</td>\n      <td>metro_manquehue</td>\n      <td>0</td>\n      <td>668859.12</td>\n      <td>17.72</td>\n      <td>arriendo</td>\n      <td>2024-08-30 10:19:34.245242</td>\n      <td>0.466316</td>\n    </tr>\n    <tr>\n      <th>7</th>\n      <td>-33.408244</td>\n      <td>-70.563937</td>\n      <td>8.0</td>\n      <td>1.0</td>\n      <td>1.0</td>\n      <td>43.0</td>\n      <td>40.0</td>\n      <td>1.0</td>\n      <td>1.0</td>\n      <td>15.0</td>\n      <td>...</td>\n      <td>NaN</td>\n      <td>Depto En Apoquindo Metro Manquehue</td>\n      <td>https://www.portalinmobiliario.com/MLC-1516809...</td>\n      <td>metro_manquehue</td>\n      <td>0</td>\n      <td>650000.0</td>\n      <td>17.220368</td>\n      <td>arriendo</td>\n      <td>2024-08-30 10:19:34.273055</td>\n      <td>0.430509</td>\n    </tr>\n    <tr>\n      <th>10</th>\n      <td>-33.408351</td>\n      <td>-70.568972</td>\n      <td>10.0</td>\n      <td>1.0</td>\n      <td>1.0</td>\n      <td>60.0</td>\n      <td>48.0</td>\n      <td>1.0</td>\n      <td>1.0</td>\n      <td>20.0</td>\n      <td>...</td>\n      <td>NaN</td>\n      <td>Alonso De Córdova / Apoquindo</td>\n      <td>https://www.portalinmobiliario.com/MLC-1515933...</td>\n      <td>metro_manquehue</td>\n      <td>0</td>\n      <td>679428.0</td>\n      <td>18.0</td>\n      <td>arriendo</td>\n      <td>2024-08-30 10:19:34.296274</td>\n      <td>0.375</td>\n    </tr>\n    <tr>\n      <th>21</th>\n      <td>-33.407023</td>\n      <td>-70.557869</td>\n      <td>17.0</td>\n      <td>1.0</td>\n      <td>1.0</td>\n      <td>31.0</td>\n      <td>31.0</td>\n      <td>1.0</td>\n      <td>1.0</td>\n      <td>0.0</td>\n      <td>...</td>\n      <td>NaN</td>\n      <td>Excelente Dpto Amoblado Con Estacionamiento Y ...</td>\n      <td>https://www.portalinmobiliario.com/MLC-1513553...</td>\n      <td>metro_manquehue</td>\n      <td>0</td>\n      <td>700000.0</td>\n      <td>18.545011</td>\n      <td>arriendo</td>\n      <td>2024-08-30 10:19:34.379954</td>\n      <td>0.598226</td>\n    </tr>\n    <tr>\n      <th>24</th>\n      <td>-33.406685</td>\n      <td>-70.567951</td>\n      <td>40.0</td>\n      <td>1.0</td>\n      <td>1.0</td>\n      <td>57.0</td>\n      <td>42.0</td>\n      <td>1.0</td>\n      <td>0.0</td>\n      <td>0.0</td>\n      <td>...</td>\n      <td>NaN</td>\n      <td>Excelente Departamento Cercano A Clínicas, Met...</td>\n      <td>https://www.portalinmobiliario.com/MLC-2601089...</td>\n      <td>metro_manquehue</td>\n      <td>0</td>\n      <td>1057642.92</td>\n      <td>28.02</td>\n      <td>arriendo</td>\n      <td>2024-08-30 10:19:34.402720</td>\n      <td>0.667143</td>\n    </tr>\n    <tr>\n      <th>...</th>\n      <td>...</td>\n      <td>...</td>\n      <td>...</td>\n      <td>...</td>\n      <td>...</td>\n      <td>...</td>\n      <td>...</td>\n      <td>...</td>\n      <td>...</td>\n      <td>...</td>\n      <td>...</td>\n      <td>...</td>\n      <td>...</td>\n      <td>...</td>\n      <td>...</td>\n      <td>...</td>\n      <td>...</td>\n      <td>...</td>\n      <td>...</td>\n      <td>...</td>\n      <td>...</td>\n    </tr>\n    <tr>\n      <th>203</th>\n      <td>-33.40269</td>\n      <td>-70.576525</td>\n      <td>210.0</td>\n      <td>4.0</td>\n      <td>3.0</td>\n      <td>155.0</td>\n      <td>140.0</td>\n      <td>2.0</td>\n      <td>1.0</td>\n      <td>20.0</td>\n      <td>...</td>\n      <td>375000.0</td>\n      <td>Estupendo Departamento Con Vista Despejada Las...</td>\n      <td>https://www.portalinmobiliario.com/MLC-2655610...</td>\n      <td>metro_manquehue</td>\n      <td>0</td>\n      <td>1547586.0</td>\n      <td>41.0</td>\n      <td>arriendo</td>\n      <td>2024-08-30 10:19:35.771585</td>\n      <td>0.292857</td>\n    </tr>\n    <tr>\n      <th>205</th>\n      <td>-33.4032</td>\n      <td>-70.562362</td>\n      <td>34.0</td>\n      <td>4.0</td>\n      <td>3.0</td>\n      <td>170.0</td>\n      <td>145.0</td>\n      <td>2.0</td>\n      <td>1.0</td>\n      <td>16.0</td>\n      <td>...</td>\n      <td>500000.0</td>\n      <td>Estupendo Amplio Departamento A Pasos De Coleg...</td>\n      <td>https://www.portalinmobiliario.com/MLC-2616692...</td>\n      <td>metro_manquehue</td>\n      <td>0</td>\n      <td>1520000.0</td>\n      <td>40.269168</td>\n      <td>arriendo</td>\n      <td>2024-08-30 10:19:35.787745</td>\n      <td>0.277718</td>\n    </tr>\n    <tr>\n      <th>212</th>\n      <td>-33.407455</td>\n      <td>-70.570759</td>\n      <td>120.0</td>\n      <td>4.0</td>\n      <td>2.0</td>\n      <td>152.0</td>\n      <td>140.0</td>\n      <td>2.0</td>\n      <td>1.0</td>\n      <td>8.0</td>\n      <td>...</td>\n      <td>240000.0</td>\n      <td>Departamento En Arriendo Full Amoblado 4 Dorm....</td>\n      <td>https://www.portalinmobiliario.com/MLC-1509716...</td>\n      <td>metro_manquehue</td>\n      <td>0</td>\n      <td>2500000.0</td>\n      <td>66.232184</td>\n      <td>arriendo</td>\n      <td>2024-08-30 10:19:35.841283</td>\n      <td>0.473087</td>\n    </tr>\n    <tr>\n      <th>225</th>\n      <td>-33.408257</td>\n      <td>-70.57408</td>\n      <td>20.0</td>\n      <td>4.0</td>\n      <td>3.0</td>\n      <td>150.0</td>\n      <td>140.0</td>\n      <td>2.0</td>\n      <td>1.0</td>\n      <td>NaN</td>\n      <td>...</td>\n      <td>280000.0</td>\n      <td>Arriendo Amplio Departamento 4 Dormitorios  La...</td>\n      <td>https://www.portalinmobiliario.com/MLC-2648918...</td>\n      <td>metro_manquehue</td>\n      <td>0</td>\n      <td>1700000.0</td>\n      <td>45.037885</td>\n      <td>arriendo</td>\n      <td>2024-08-30 10:19:35.940826</td>\n      <td>0.321699</td>\n    </tr>\n    <tr>\n      <th>245</th>\n      <td>-33.403636</td>\n      <td>-70.568881</td>\n      <td>11.0</td>\n      <td>4.0</td>\n      <td>4.0</td>\n      <td>164.0</td>\n      <td>156.0</td>\n      <td>1.0</td>\n      <td>1.0</td>\n      <td>22.0</td>\n      <td>...</td>\n      <td>280000.0</td>\n      <td>Hermoso Departamento Recién Remodelado.</td>\n      <td>https://www.portalinmobiliario.com/MLC-1515647...</td>\n      <td>metro_manquehue</td>\n      <td>0</td>\n      <td>1700000.0</td>\n      <td>45.037885</td>\n      <td>arriendo</td>\n      <td>2024-08-30 10:19:36.093011</td>\n      <td>0.288704</td>\n    </tr>\n  </tbody>\n</table>\n<p>237 rows × 24 columns</p>\n</div>"
     },
     "execution_count": 31,
     "metadata": {},
     "output_type": "execute_result"
    }
   ],
   "source": [
    "df_price_wo_outliers"
   ],
   "metadata": {
    "collapsed": false,
    "ExecuteTime": {
     "end_time": "2024-08-30T16:35:21.178202Z",
     "start_time": "2024-08-30T16:35:21.064193Z"
    }
   },
   "id": "95838b62659cafa7",
   "execution_count": 31
  },
  {
   "cell_type": "markdown",
   "source": [
    "#### CAPRATE BRUTO"
   ],
   "metadata": {
    "collapsed": false
   },
   "id": "1a41c678306f196"
  },
  {
   "cell_type": "code",
   "outputs": [
    {
     "data": {
      "text/plain": "1145"
     },
     "execution_count": 32,
     "metadata": {},
     "output_type": "execute_result"
    }
   ],
   "source": [
    "# df_venta = pd.read_excel(r\"C:\\Users\\blavin\\Documents\\Github_myself\\portal_inmobiliario_web_scraper\\results\\metro_chile_españa\\results_invesment_venta_departamento_2203_16_07_24.xlsx\")\n",
    "\n",
    "df_venta = df.query(\"tipo_operacion=='venta'\")\n",
    "len(df_venta)"
   ],
   "metadata": {
    "collapsed": false,
    "ExecuteTime": {
     "end_time": "2024-08-30T16:36:13.190319Z",
     "start_time": "2024-08-30T16:36:13.085546Z"
    }
   },
   "id": "74470308580186b7",
   "execution_count": 32
  },
  {
   "cell_type": "code",
   "outputs": [
    {
     "data": {
      "text/plain": "      Latitude  Longitude dias_desde_publicacion n_dormitorios n_banos  \\\n255 -33.405159 -70.567442                    0.0           3.0     2.0   \n256 -33.413052 -70.577703                    0.0           4.0     3.0   \n257 -33.409678 -70.568049                    0.0           3.0     3.0   \n258  -33.40552  -70.56707                    0.0           3.0     3.0   \n259 -33.406566 -70.558591                    0.0           2.0     2.0   \n\n    superficie_total superficie_util estacionamientos bodegas antiguedad  ...  \\\n255            114.0            96.0              2.0     1.0       13.0  ...   \n256            170.0           150.0              2.0     1.0       26.0  ...   \n257            168.0           158.0              2.0     2.0       25.0  ...   \n258            145.0           111.0              2.0     1.0       14.0  ...   \n259             91.0            76.0              2.0     1.0       13.0  ...   \n\n      orientacion gastos_comunes  \\\n255         Norte       240000.0   \n256  Sur-Poniente       215000.0   \n257   Nor-Oriente       250000.0   \n258   Sur-Oriente       232000.0   \n259       Oriente       260000.0   \n\n                                                titulo  \\\n255       Depto 3 Dormitorios, 2 Baños, Barrio Noruega   \n256     Departamento En Venta De 4 Dorm. En Las Condes   \n257     Departamento En Venta De 3 Dorm. En Las Condes   \n258  Departamento En Venta De 3 Dorm Barrio Noruega...   \n259     Departamento En Venta De 2 Dorm. En Las Condes   \n\n                                                  link     geo_ref_name  \\\n255  https://www.portalinmobiliario.com/MLC-1502918...  metro_manquehue   \n256  https://www.portalinmobiliario.com/MLC-1511026...  metro_manquehue   \n257  https://www.portalinmobiliario.com/MLC-2439430...  metro_manquehue   \n258  https://www.portalinmobiliario.com/MLC-2437331...  metro_manquehue   \n259  https://www.portalinmobiliario.com/MLC-2639441...  metro_manquehue   \n\n    listed        Price Price_UF tipo_operacion                        Date  \n255      1  358587000.0   9500.0          venta  2024-08-30 12:20:20.641181  \n256      1  479374200.0  12700.0          venta  2024-08-30 12:20:20.649182  \n257      1  464275800.0  12300.0          venta  2024-08-30 12:20:20.657084  \n258      1  422755200.0  11200.0          venta  2024-08-30 12:20:20.666077  \n259      1  294418800.0   7800.0          venta  2024-08-30 12:20:20.674552  \n\n[5 rows x 23 columns]",
      "text/html": "<div>\n<style scoped>\n    .dataframe tbody tr th:only-of-type {\n        vertical-align: middle;\n    }\n\n    .dataframe tbody tr th {\n        vertical-align: top;\n    }\n\n    .dataframe thead th {\n        text-align: right;\n    }\n</style>\n<table border=\"1\" class=\"dataframe\">\n  <thead>\n    <tr style=\"text-align: right;\">\n      <th></th>\n      <th>Latitude</th>\n      <th>Longitude</th>\n      <th>dias_desde_publicacion</th>\n      <th>n_dormitorios</th>\n      <th>n_banos</th>\n      <th>superficie_total</th>\n      <th>superficie_util</th>\n      <th>estacionamientos</th>\n      <th>bodegas</th>\n      <th>antiguedad</th>\n      <th>...</th>\n      <th>orientacion</th>\n      <th>gastos_comunes</th>\n      <th>titulo</th>\n      <th>link</th>\n      <th>geo_ref_name</th>\n      <th>listed</th>\n      <th>Price</th>\n      <th>Price_UF</th>\n      <th>tipo_operacion</th>\n      <th>Date</th>\n    </tr>\n  </thead>\n  <tbody>\n    <tr>\n      <th>255</th>\n      <td>-33.405159</td>\n      <td>-70.567442</td>\n      <td>0.0</td>\n      <td>3.0</td>\n      <td>2.0</td>\n      <td>114.0</td>\n      <td>96.0</td>\n      <td>2.0</td>\n      <td>1.0</td>\n      <td>13.0</td>\n      <td>...</td>\n      <td>Norte</td>\n      <td>240000.0</td>\n      <td>Depto 3 Dormitorios, 2 Baños, Barrio Noruega</td>\n      <td>https://www.portalinmobiliario.com/MLC-1502918...</td>\n      <td>metro_manquehue</td>\n      <td>1</td>\n      <td>358587000.0</td>\n      <td>9500.0</td>\n      <td>venta</td>\n      <td>2024-08-30 12:20:20.641181</td>\n    </tr>\n    <tr>\n      <th>256</th>\n      <td>-33.413052</td>\n      <td>-70.577703</td>\n      <td>0.0</td>\n      <td>4.0</td>\n      <td>3.0</td>\n      <td>170.0</td>\n      <td>150.0</td>\n      <td>2.0</td>\n      <td>1.0</td>\n      <td>26.0</td>\n      <td>...</td>\n      <td>Sur-Poniente</td>\n      <td>215000.0</td>\n      <td>Departamento En Venta De 4 Dorm. En Las Condes</td>\n      <td>https://www.portalinmobiliario.com/MLC-1511026...</td>\n      <td>metro_manquehue</td>\n      <td>1</td>\n      <td>479374200.0</td>\n      <td>12700.0</td>\n      <td>venta</td>\n      <td>2024-08-30 12:20:20.649182</td>\n    </tr>\n    <tr>\n      <th>257</th>\n      <td>-33.409678</td>\n      <td>-70.568049</td>\n      <td>0.0</td>\n      <td>3.0</td>\n      <td>3.0</td>\n      <td>168.0</td>\n      <td>158.0</td>\n      <td>2.0</td>\n      <td>2.0</td>\n      <td>25.0</td>\n      <td>...</td>\n      <td>Nor-Oriente</td>\n      <td>250000.0</td>\n      <td>Departamento En Venta De 3 Dorm. En Las Condes</td>\n      <td>https://www.portalinmobiliario.com/MLC-2439430...</td>\n      <td>metro_manquehue</td>\n      <td>1</td>\n      <td>464275800.0</td>\n      <td>12300.0</td>\n      <td>venta</td>\n      <td>2024-08-30 12:20:20.657084</td>\n    </tr>\n    <tr>\n      <th>258</th>\n      <td>-33.40552</td>\n      <td>-70.56707</td>\n      <td>0.0</td>\n      <td>3.0</td>\n      <td>3.0</td>\n      <td>145.0</td>\n      <td>111.0</td>\n      <td>2.0</td>\n      <td>1.0</td>\n      <td>14.0</td>\n      <td>...</td>\n      <td>Sur-Oriente</td>\n      <td>232000.0</td>\n      <td>Departamento En Venta De 3 Dorm Barrio Noruega...</td>\n      <td>https://www.portalinmobiliario.com/MLC-2437331...</td>\n      <td>metro_manquehue</td>\n      <td>1</td>\n      <td>422755200.0</td>\n      <td>11200.0</td>\n      <td>venta</td>\n      <td>2024-08-30 12:20:20.666077</td>\n    </tr>\n    <tr>\n      <th>259</th>\n      <td>-33.406566</td>\n      <td>-70.558591</td>\n      <td>0.0</td>\n      <td>2.0</td>\n      <td>2.0</td>\n      <td>91.0</td>\n      <td>76.0</td>\n      <td>2.0</td>\n      <td>1.0</td>\n      <td>13.0</td>\n      <td>...</td>\n      <td>Oriente</td>\n      <td>260000.0</td>\n      <td>Departamento En Venta De 2 Dorm. En Las Condes</td>\n      <td>https://www.portalinmobiliario.com/MLC-2639441...</td>\n      <td>metro_manquehue</td>\n      <td>1</td>\n      <td>294418800.0</td>\n      <td>7800.0</td>\n      <td>venta</td>\n      <td>2024-08-30 12:20:20.674552</td>\n    </tr>\n  </tbody>\n</table>\n<p>5 rows × 23 columns</p>\n</div>"
     },
     "execution_count": 33,
     "metadata": {},
     "output_type": "execute_result"
    }
   ],
   "source": [
    "df_venta.head()"
   ],
   "metadata": {
    "collapsed": false,
    "ExecuteTime": {
     "end_time": "2024-08-30T16:36:20.322375Z",
     "start_time": "2024-08-30T16:36:20.192744Z"
    }
   },
   "id": "b1a43a070964e7e4",
   "execution_count": 33
  },
  {
   "cell_type": "code",
   "outputs": [
    {
     "name": "stderr",
     "output_type": "stream",
     "text": [
      "c:\\users\\espdatascienceat\\appdata\\local\\programs\\python\\python37\\lib\\site-packages\\ipykernel_launcher.py:1: SettingWithCopyWarning: \n",
      "A value is trying to be set on a copy of a slice from a DataFrame.\n",
      "Try using .loc[row_indexer,col_indexer] = value instead\n",
      "\n",
      "See the caveats in the documentation: https://pandas.pydata.org/pandas-docs/stable/user_guide/indexing.html#returning-a-view-versus-a-copy\n",
      "  \"\"\"Entry point for launching an IPython kernel.\n",
      "c:\\users\\espdatascienceat\\appdata\\local\\programs\\python\\python37\\lib\\site-packages\\pandas\\core\\indexing.py:1773: SettingWithCopyWarning: \n",
      "A value is trying to be set on a copy of a slice from a DataFrame.\n",
      "Try using .loc[row_indexer,col_indexer] = value instead\n",
      "\n",
      "See the caveats in the documentation: https://pandas.pydata.org/pandas-docs/stable/user_guide/indexing.html#returning-a-view-versus-a-copy\n",
      "  self._setitem_single_column(ilocs[0], value, pi)\n",
      "c:\\users\\espdatascienceat\\appdata\\local\\programs\\python\\python37\\lib\\site-packages\\pandas\\core\\indexing.py:1732: SettingWithCopyWarning: \n",
      "A value is trying to be set on a copy of a slice from a DataFrame\n",
      "\n",
      "See the caveats in the documentation: https://pandas.pydata.org/pandas-docs/stable/user_guide/indexing.html#returning-a-view-versus-a-copy\n",
      "  self._setitem_single_block(indexer, value, name)\n",
      "c:\\users\\espdatascienceat\\appdata\\local\\programs\\python\\python37\\lib\\site-packages\\pandas\\core\\indexing.py:723: SettingWithCopyWarning: \n",
      "A value is trying to be set on a copy of a slice from a DataFrame\n",
      "\n",
      "See the caveats in the documentation: https://pandas.pydata.org/pandas-docs/stable/user_guide/indexing.html#returning-a-view-versus-a-copy\n",
      "  iloc._setitem_with_indexer(indexer, value, self.name)\n",
      "c:\\users\\espdatascienceat\\appdata\\local\\programs\\python\\python37\\lib\\site-packages\\pandas\\core\\generic.py:5516: SettingWithCopyWarning: \n",
      "A value is trying to be set on a copy of a slice from a DataFrame.\n",
      "Try using .loc[row_indexer,col_indexer] = value instead\n",
      "\n",
      "See the caveats in the documentation: https://pandas.pydata.org/pandas-docs/stable/user_guide/indexing.html#returning-a-view-versus-a-copy\n",
      "  self[name] = value\n"
     ]
    }
   ],
   "source": [
    "df_venta[\"caprate_bruto\"]=np.NaN\n",
    "for n_dorm in pd.Series(df_venta[\"n_dormitorios\"].unique()).sort_values().values:\n",
    "    if n_dorm in results_precio_arriendo.keys():\n",
    "        df_venta.loc[df_venta[\"n_dormitorios\"]==n_dorm, \"caprate_bruto\" ] = results_precio_arriendo[n_dorm] * 12 / df_venta.query(f\"n_dormitorios=={n_dorm}\").Price\n",
    "\n",
    "df_venta.caprate_bruto = df_venta.caprate_bruto.astype(float)"
   ],
   "metadata": {
    "collapsed": false,
    "ExecuteTime": {
     "end_time": "2024-08-30T17:33:54.715475Z",
     "start_time": "2024-08-30T17:33:54.575906Z"
    }
   },
   "id": "13fa0bd7d018ff36",
   "execution_count": 42
  },
  {
   "cell_type": "code",
   "outputs": [
    {
     "data": {
      "text/plain": "       Latitude  Longitude dias_desde_publicacion n_dormitorios n_banos  \\\n255  -33.405159 -70.567442                    0.0           3.0     2.0   \n256  -33.413052 -70.577703                    0.0           4.0     3.0   \n257  -33.409678 -70.568049                    0.0           3.0     3.0   \n258   -33.40552  -70.56707                    0.0           3.0     3.0   \n259  -33.406566 -70.558591                    0.0           2.0     2.0   \n...         ...        ...                    ...           ...     ...   \n1395 -33.410506 -70.573783                    7.0           4.0     3.0   \n1396  -33.40269 -70.576525                  150.0           3.0     3.0   \n1397 -33.409007 -70.573441                   16.0           3.0     2.0   \n1398  -33.40859  -70.57672                    1.0           2.0     2.0   \n1399 -33.405653 -70.560099                    1.0           2.0     2.0   \n\n     superficie_total superficie_util estacionamientos bodegas antiguedad  \\\n255             114.0            96.0              2.0     1.0       13.0   \n256             170.0           150.0              2.0     1.0       26.0   \n257             168.0           158.0              2.0     2.0       25.0   \n258             145.0           111.0              2.0     1.0       14.0   \n259              91.0            76.0              2.0     1.0       13.0   \n...               ...             ...              ...     ...        ...   \n1395            115.0           115.0              1.0     1.0       45.0   \n1396            118.0            92.0              2.0     NaN        NaN   \n1397             87.0            82.0              1.0     1.0       19.0   \n1398             72.0            67.0              1.0     1.0       20.0   \n1399             68.0            63.0              2.0     1.0        NaN   \n\n      ... gastos_comunes                                             titulo  \\\n255   ...       240000.0       Depto 3 Dormitorios, 2 Baños, Barrio Noruega   \n256   ...       215000.0     Departamento En Venta De 4 Dorm. En Las Condes   \n257   ...       250000.0     Departamento En Venta De 3 Dorm. En Las Condes   \n258   ...       232000.0  Departamento En Venta De 3 Dorm Barrio Noruega...   \n259   ...       260000.0     Departamento En Venta De 2 Dorm. En Las Condes   \n...   ...            ...                                                ...   \n1395  ...       220000.0                           Dpto Remodelado Luminoso   \n1396  ...       120000.0                              Se Vende Departamento   \n1397  ...       150000.0  Oportunidad, Vendo Buen Departamento, Espectac...   \n1398  ...            NaN             Departamento Los Militares / La Gloria   \n1399  ...       150000.0            Luminoso Departamento 2d + 2b (2e + 1b)   \n\n                                                   link     geo_ref_name  \\\n255   https://www.portalinmobiliario.com/MLC-1502918...  metro_manquehue   \n256   https://www.portalinmobiliario.com/MLC-1511026...  metro_manquehue   \n257   https://www.portalinmobiliario.com/MLC-2439430...  metro_manquehue   \n258   https://www.portalinmobiliario.com/MLC-2437331...  metro_manquehue   \n259   https://www.portalinmobiliario.com/MLC-2639441...  metro_manquehue   \n...                                                 ...              ...   \n1395  https://www.portalinmobiliario.com/MLC-2670120...  metro_manquehue   \n1396  https://www.portalinmobiliario.com/MLC-2653607...  metro_manquehue   \n1397  https://www.portalinmobiliario.com/MLC-2656752...  metro_manquehue   \n1398  https://www.portalinmobiliario.com/MLC-1520443...  metro_manquehue   \n1399  https://www.portalinmobiliario.com/MLC-1520436...  metro_manquehue   \n\n     listed        Price      Price_UF tipo_operacion  \\\n255       1  358587000.0        9500.0          venta   \n256       1  479374200.0       12700.0          venta   \n257       1  464275800.0       12300.0          venta   \n258       1  422755200.0       11200.0          venta   \n259       1  294418800.0        7800.0          venta   \n...     ...          ...           ...            ...   \n1395      1  320841000.0        8500.0          venta   \n1396      1  380000000.0  10067.291898          venta   \n1397      1  301968000.0        8000.0          venta   \n1398      1  263844540.0        6990.0          venta   \n1399      1  267996600.0        7100.0          venta   \n\n                            Date caprate_bruto  \n255   2024-08-30 12:20:20.641181      0.035125  \n256   2024-08-30 12:20:20.649182      0.037795  \n257   2024-08-30 12:20:20.657084      0.027129  \n258   2024-08-30 12:20:20.666077      0.029793  \n259   2024-08-30 12:20:20.674552      0.031221  \n...                          ...           ...  \n1395  2024-08-30 12:20:29.653326      0.056471  \n1396  2024-08-30 12:20:29.660817      0.033145  \n1397  2024-08-30 12:20:29.670020      0.041710  \n1398  2024-08-30 12:20:29.677459      0.034839  \n1399  2024-08-30 12:20:29.684439      0.034299  \n\n[1145 rows x 24 columns]",
      "text/html": "<div>\n<style scoped>\n    .dataframe tbody tr th:only-of-type {\n        vertical-align: middle;\n    }\n\n    .dataframe tbody tr th {\n        vertical-align: top;\n    }\n\n    .dataframe thead th {\n        text-align: right;\n    }\n</style>\n<table border=\"1\" class=\"dataframe\">\n  <thead>\n    <tr style=\"text-align: right;\">\n      <th></th>\n      <th>Latitude</th>\n      <th>Longitude</th>\n      <th>dias_desde_publicacion</th>\n      <th>n_dormitorios</th>\n      <th>n_banos</th>\n      <th>superficie_total</th>\n      <th>superficie_util</th>\n      <th>estacionamientos</th>\n      <th>bodegas</th>\n      <th>antiguedad</th>\n      <th>...</th>\n      <th>gastos_comunes</th>\n      <th>titulo</th>\n      <th>link</th>\n      <th>geo_ref_name</th>\n      <th>listed</th>\n      <th>Price</th>\n      <th>Price_UF</th>\n      <th>tipo_operacion</th>\n      <th>Date</th>\n      <th>caprate_bruto</th>\n    </tr>\n  </thead>\n  <tbody>\n    <tr>\n      <th>255</th>\n      <td>-33.405159</td>\n      <td>-70.567442</td>\n      <td>0.0</td>\n      <td>3.0</td>\n      <td>2.0</td>\n      <td>114.0</td>\n      <td>96.0</td>\n      <td>2.0</td>\n      <td>1.0</td>\n      <td>13.0</td>\n      <td>...</td>\n      <td>240000.0</td>\n      <td>Depto 3 Dormitorios, 2 Baños, Barrio Noruega</td>\n      <td>https://www.portalinmobiliario.com/MLC-1502918...</td>\n      <td>metro_manquehue</td>\n      <td>1</td>\n      <td>358587000.0</td>\n      <td>9500.0</td>\n      <td>venta</td>\n      <td>2024-08-30 12:20:20.641181</td>\n      <td>0.035125</td>\n    </tr>\n    <tr>\n      <th>256</th>\n      <td>-33.413052</td>\n      <td>-70.577703</td>\n      <td>0.0</td>\n      <td>4.0</td>\n      <td>3.0</td>\n      <td>170.0</td>\n      <td>150.0</td>\n      <td>2.0</td>\n      <td>1.0</td>\n      <td>26.0</td>\n      <td>...</td>\n      <td>215000.0</td>\n      <td>Departamento En Venta De 4 Dorm. En Las Condes</td>\n      <td>https://www.portalinmobiliario.com/MLC-1511026...</td>\n      <td>metro_manquehue</td>\n      <td>1</td>\n      <td>479374200.0</td>\n      <td>12700.0</td>\n      <td>venta</td>\n      <td>2024-08-30 12:20:20.649182</td>\n      <td>0.037795</td>\n    </tr>\n    <tr>\n      <th>257</th>\n      <td>-33.409678</td>\n      <td>-70.568049</td>\n      <td>0.0</td>\n      <td>3.0</td>\n      <td>3.0</td>\n      <td>168.0</td>\n      <td>158.0</td>\n      <td>2.0</td>\n      <td>2.0</td>\n      <td>25.0</td>\n      <td>...</td>\n      <td>250000.0</td>\n      <td>Departamento En Venta De 3 Dorm. En Las Condes</td>\n      <td>https://www.portalinmobiliario.com/MLC-2439430...</td>\n      <td>metro_manquehue</td>\n      <td>1</td>\n      <td>464275800.0</td>\n      <td>12300.0</td>\n      <td>venta</td>\n      <td>2024-08-30 12:20:20.657084</td>\n      <td>0.027129</td>\n    </tr>\n    <tr>\n      <th>258</th>\n      <td>-33.40552</td>\n      <td>-70.56707</td>\n      <td>0.0</td>\n      <td>3.0</td>\n      <td>3.0</td>\n      <td>145.0</td>\n      <td>111.0</td>\n      <td>2.0</td>\n      <td>1.0</td>\n      <td>14.0</td>\n      <td>...</td>\n      <td>232000.0</td>\n      <td>Departamento En Venta De 3 Dorm Barrio Noruega...</td>\n      <td>https://www.portalinmobiliario.com/MLC-2437331...</td>\n      <td>metro_manquehue</td>\n      <td>1</td>\n      <td>422755200.0</td>\n      <td>11200.0</td>\n      <td>venta</td>\n      <td>2024-08-30 12:20:20.666077</td>\n      <td>0.029793</td>\n    </tr>\n    <tr>\n      <th>259</th>\n      <td>-33.406566</td>\n      <td>-70.558591</td>\n      <td>0.0</td>\n      <td>2.0</td>\n      <td>2.0</td>\n      <td>91.0</td>\n      <td>76.0</td>\n      <td>2.0</td>\n      <td>1.0</td>\n      <td>13.0</td>\n      <td>...</td>\n      <td>260000.0</td>\n      <td>Departamento En Venta De 2 Dorm. En Las Condes</td>\n      <td>https://www.portalinmobiliario.com/MLC-2639441...</td>\n      <td>metro_manquehue</td>\n      <td>1</td>\n      <td>294418800.0</td>\n      <td>7800.0</td>\n      <td>venta</td>\n      <td>2024-08-30 12:20:20.674552</td>\n      <td>0.031221</td>\n    </tr>\n    <tr>\n      <th>...</th>\n      <td>...</td>\n      <td>...</td>\n      <td>...</td>\n      <td>...</td>\n      <td>...</td>\n      <td>...</td>\n      <td>...</td>\n      <td>...</td>\n      <td>...</td>\n      <td>...</td>\n      <td>...</td>\n      <td>...</td>\n      <td>...</td>\n      <td>...</td>\n      <td>...</td>\n      <td>...</td>\n      <td>...</td>\n      <td>...</td>\n      <td>...</td>\n      <td>...</td>\n      <td>...</td>\n    </tr>\n    <tr>\n      <th>1395</th>\n      <td>-33.410506</td>\n      <td>-70.573783</td>\n      <td>7.0</td>\n      <td>4.0</td>\n      <td>3.0</td>\n      <td>115.0</td>\n      <td>115.0</td>\n      <td>1.0</td>\n      <td>1.0</td>\n      <td>45.0</td>\n      <td>...</td>\n      <td>220000.0</td>\n      <td>Dpto Remodelado Luminoso</td>\n      <td>https://www.portalinmobiliario.com/MLC-2670120...</td>\n      <td>metro_manquehue</td>\n      <td>1</td>\n      <td>320841000.0</td>\n      <td>8500.0</td>\n      <td>venta</td>\n      <td>2024-08-30 12:20:29.653326</td>\n      <td>0.056471</td>\n    </tr>\n    <tr>\n      <th>1396</th>\n      <td>-33.40269</td>\n      <td>-70.576525</td>\n      <td>150.0</td>\n      <td>3.0</td>\n      <td>3.0</td>\n      <td>118.0</td>\n      <td>92.0</td>\n      <td>2.0</td>\n      <td>NaN</td>\n      <td>NaN</td>\n      <td>...</td>\n      <td>120000.0</td>\n      <td>Se Vende Departamento</td>\n      <td>https://www.portalinmobiliario.com/MLC-2653607...</td>\n      <td>metro_manquehue</td>\n      <td>1</td>\n      <td>380000000.0</td>\n      <td>10067.291898</td>\n      <td>venta</td>\n      <td>2024-08-30 12:20:29.660817</td>\n      <td>0.033145</td>\n    </tr>\n    <tr>\n      <th>1397</th>\n      <td>-33.409007</td>\n      <td>-70.573441</td>\n      <td>16.0</td>\n      <td>3.0</td>\n      <td>2.0</td>\n      <td>87.0</td>\n      <td>82.0</td>\n      <td>1.0</td>\n      <td>1.0</td>\n      <td>19.0</td>\n      <td>...</td>\n      <td>150000.0</td>\n      <td>Oportunidad, Vendo Buen Departamento, Espectac...</td>\n      <td>https://www.portalinmobiliario.com/MLC-2656752...</td>\n      <td>metro_manquehue</td>\n      <td>1</td>\n      <td>301968000.0</td>\n      <td>8000.0</td>\n      <td>venta</td>\n      <td>2024-08-30 12:20:29.670020</td>\n      <td>0.041710</td>\n    </tr>\n    <tr>\n      <th>1398</th>\n      <td>-33.40859</td>\n      <td>-70.57672</td>\n      <td>1.0</td>\n      <td>2.0</td>\n      <td>2.0</td>\n      <td>72.0</td>\n      <td>67.0</td>\n      <td>1.0</td>\n      <td>1.0</td>\n      <td>20.0</td>\n      <td>...</td>\n      <td>NaN</td>\n      <td>Departamento Los Militares / La Gloria</td>\n      <td>https://www.portalinmobiliario.com/MLC-1520443...</td>\n      <td>metro_manquehue</td>\n      <td>1</td>\n      <td>263844540.0</td>\n      <td>6990.0</td>\n      <td>venta</td>\n      <td>2024-08-30 12:20:29.677459</td>\n      <td>0.034839</td>\n    </tr>\n    <tr>\n      <th>1399</th>\n      <td>-33.405653</td>\n      <td>-70.560099</td>\n      <td>1.0</td>\n      <td>2.0</td>\n      <td>2.0</td>\n      <td>68.0</td>\n      <td>63.0</td>\n      <td>2.0</td>\n      <td>1.0</td>\n      <td>NaN</td>\n      <td>...</td>\n      <td>150000.0</td>\n      <td>Luminoso Departamento 2d + 2b (2e + 1b)</td>\n      <td>https://www.portalinmobiliario.com/MLC-1520436...</td>\n      <td>metro_manquehue</td>\n      <td>1</td>\n      <td>267996600.0</td>\n      <td>7100.0</td>\n      <td>venta</td>\n      <td>2024-08-30 12:20:29.684439</td>\n      <td>0.034299</td>\n    </tr>\n  </tbody>\n</table>\n<p>1145 rows × 24 columns</p>\n</div>"
     },
     "execution_count": 47,
     "metadata": {},
     "output_type": "execute_result"
    }
   ],
   "source": [
    "df_venta"
   ],
   "metadata": {
    "collapsed": false,
    "ExecuteTime": {
     "end_time": "2024-08-30T17:34:37.083301Z",
     "start_time": "2024-08-30T17:34:36.979286Z"
    }
   },
   "id": "8f824069c065ff2b",
   "execution_count": 47
  },
  {
   "cell_type": "code",
   "outputs": [
    {
     "data": {
      "text/plain": "      Latitude  Longitude dias_desde_publicacion n_dormitorios n_banos  \\\n566 -33.402368 -70.568001                   56.0           3.0     1.0   \n735 -33.403952 -70.565967                   60.0           3.0     1.0   \n\n    superficie_total superficie_util estacionamientos bodegas antiguedad  ...  \\\n566             60.0            60.0              0.0     0.0       50.0  ...   \n735             70.0            70.0              0.0     NaN        NaN  ...   \n\n    gastos_comunes                                             titulo  \\\n566        20000.0  Rentable Depto 3d-1b Cerro El Plomo / Manquehu...   \n735        50000.0  Oportunidad Villa San Luis Las Condes 3d, 1b +...   \n\n                                                  link     geo_ref_name  \\\n566  https://www.portalinmobiliario.com/MLC-2551855...  metro_manquehue   \n735  https://www.portalinmobiliario.com/MLC-1496960...  metro_manquehue   \n\n    listed        Price Price_UF tipo_operacion                        Date  \\\n566      1  143057340.0   3790.0          venta  2024-08-30 12:20:23.066583   \n735      1  139660200.0   3700.0          venta  2024-08-30 12:20:24.386305   \n\n    caprate_bruto  \n566      0.088043  \n735      0.090185  \n\n[2 rows x 24 columns]",
      "text/html": "<div>\n<style scoped>\n    .dataframe tbody tr th:only-of-type {\n        vertical-align: middle;\n    }\n\n    .dataframe tbody tr th {\n        vertical-align: top;\n    }\n\n    .dataframe thead th {\n        text-align: right;\n    }\n</style>\n<table border=\"1\" class=\"dataframe\">\n  <thead>\n    <tr style=\"text-align: right;\">\n      <th></th>\n      <th>Latitude</th>\n      <th>Longitude</th>\n      <th>dias_desde_publicacion</th>\n      <th>n_dormitorios</th>\n      <th>n_banos</th>\n      <th>superficie_total</th>\n      <th>superficie_util</th>\n      <th>estacionamientos</th>\n      <th>bodegas</th>\n      <th>antiguedad</th>\n      <th>...</th>\n      <th>gastos_comunes</th>\n      <th>titulo</th>\n      <th>link</th>\n      <th>geo_ref_name</th>\n      <th>listed</th>\n      <th>Price</th>\n      <th>Price_UF</th>\n      <th>tipo_operacion</th>\n      <th>Date</th>\n      <th>caprate_bruto</th>\n    </tr>\n  </thead>\n  <tbody>\n    <tr>\n      <th>566</th>\n      <td>-33.402368</td>\n      <td>-70.568001</td>\n      <td>56.0</td>\n      <td>3.0</td>\n      <td>1.0</td>\n      <td>60.0</td>\n      <td>60.0</td>\n      <td>0.0</td>\n      <td>0.0</td>\n      <td>50.0</td>\n      <td>...</td>\n      <td>20000.0</td>\n      <td>Rentable Depto 3d-1b Cerro El Plomo / Manquehu...</td>\n      <td>https://www.portalinmobiliario.com/MLC-2551855...</td>\n      <td>metro_manquehue</td>\n      <td>1</td>\n      <td>143057340.0</td>\n      <td>3790.0</td>\n      <td>venta</td>\n      <td>2024-08-30 12:20:23.066583</td>\n      <td>0.088043</td>\n    </tr>\n    <tr>\n      <th>735</th>\n      <td>-33.403952</td>\n      <td>-70.565967</td>\n      <td>60.0</td>\n      <td>3.0</td>\n      <td>1.0</td>\n      <td>70.0</td>\n      <td>70.0</td>\n      <td>0.0</td>\n      <td>NaN</td>\n      <td>NaN</td>\n      <td>...</td>\n      <td>50000.0</td>\n      <td>Oportunidad Villa San Luis Las Condes 3d, 1b +...</td>\n      <td>https://www.portalinmobiliario.com/MLC-1496960...</td>\n      <td>metro_manquehue</td>\n      <td>1</td>\n      <td>139660200.0</td>\n      <td>3700.0</td>\n      <td>venta</td>\n      <td>2024-08-30 12:20:24.386305</td>\n      <td>0.090185</td>\n    </tr>\n  </tbody>\n</table>\n<p>2 rows × 24 columns</p>\n</div>"
     },
     "execution_count": 54,
     "metadata": {},
     "output_type": "execute_result"
    }
   ],
   "source": [
    "df_venta.query(\"caprate_bruto >= .06 and Price < 180000000\")"
   ],
   "metadata": {
    "collapsed": false,
    "ExecuteTime": {
     "end_time": "2024-08-30T17:36:25.614121Z",
     "start_time": "2024-08-30T17:36:25.497893Z"
    }
   },
   "id": "5a5439021423f186",
   "execution_count": 54
  },
  {
   "cell_type": "code",
   "outputs": [
    {
     "data": {
      "text/plain": "      Latitude  Longitude dias_desde_publicacion n_dormitorios n_banos  \\\n4   -33.411946 -70.566881                   22.0           3.0     2.0   \n15  -33.406522 -70.570183                    1.0           3.0     3.0   \n17  -33.411938 -70.569399                   90.0           3.0     3.0   \n18  -33.402772  -70.56168                    8.0           3.0     3.0   \n19  -33.405539 -70.563052                  180.0           3.0     3.0   \n..         ...        ...                    ...           ...     ...   \n244 -33.406922 -70.564282                    6.0           3.0     3.0   \n248 -33.410917 -70.571443                    9.0           3.0     2.0   \n249 -33.409537 -70.577296                   17.0           3.0     3.0   \n250 -33.409798 -70.575207                   21.0           3.0     2.0   \n254 -33.406785 -70.559635                   18.0           3.0     3.0   \n\n    superficie_total superficie_util estacionamientos bodegas antiguedad  ...  \\\n4               90.0            80.0              1.0     1.0       10.0  ...   \n15             150.0           120.0              1.0     1.0       12.0  ...   \n17             140.0             0.0              2.0     0.0        NaN  ...   \n18             135.0           135.0              1.0     1.0        NaN  ...   \n19             113.0            96.0              1.0     1.0        NaN  ...   \n..               ...             ...              ...     ...        ...  ...   \n244            174.0           174.0              2.0     0.0        NaN  ...   \n248            110.0           100.0              1.0     1.0        NaN  ...   \n249            110.0           110.0              2.0     1.0        NaN  ...   \n250            110.0           110.0              1.0     1.0       18.0  ...   \n254             90.0            83.0              1.0     1.0       25.0  ...   \n\n    orientacion gastos_comunes  \\\n4      Poniente       240000.0   \n15         NOSP            NaN   \n17         None            NaN   \n18         None            NaN   \n19           SP            NaN   \n..          ...            ...   \n244        None       300000.0   \n248          NP       250000.0   \n249          NO       380000.0   \n250          NP       210000.0   \n254          NO       180000.0   \n\n                                                titulo  \\\n4    Depto En Arriendo De 3 Dorm. En Las Condes, Me...   \n15   Furnished- Modern- Nice  Apartment Near Manque...   \n17           Se Arrienda Departamento En Las Condes!!!   \n18   Excelente Depto Sercano Colegio Seck - Metro M...   \n19   Amoblado 3d/3b - Sector Noruega - Metro Manque...   \n..                                                 ...   \n244   Arriendo Lujoso Departamento-noruega- Las Condes   \n248                                 Depto La Capitania   \n249  Depto 3 Dormitorios + 2 Estacionamientos, Apoq...   \n250  Depto. Arriendo 3d+2b+ 1est+1bod Excelente Vis...   \n254  Departamento 3 Dormitorios  Sector Estadio Ita...   \n\n                                                  link     geo_ref_name  \\\n4    https://www.portalinmobiliario.com/MLC-1512054...  metro_manquehue   \n15   https://www.portalinmobiliario.com/MLC-2679146...  metro_manquehue   \n17   https://www.portalinmobiliario.com/MLC-1507013...  metro_manquehue   \n18   https://www.portalinmobiliario.com/MLC-2668554...  metro_manquehue   \n19   https://www.portalinmobiliario.com/MLC-1510518...  metro_manquehue   \n..                                                 ...              ...   \n244  https://www.portalinmobiliario.com/MLC-2671850...  metro_manquehue   \n248  https://www.portalinmobiliario.com/MLC-1516826...  metro_manquehue   \n249  https://www.portalinmobiliario.com/MLC-2653214...  metro_manquehue   \n250  https://www.portalinmobiliario.com/MLC-1512501...  metro_manquehue   \n254  https://www.portalinmobiliario.com/MLC-1513392...  metro_manquehue   \n\n    listed      Price   Price_UF tipo_operacion                        Date  \n4        0  1050000.0  27.817517       arriendo  2024-08-30 10:19:34.252004  \n15       0  2150000.0  56.959678       arriendo  2024-08-30 10:19:34.333898  \n17       0  1887300.0       50.0       arriendo  2024-08-30 10:19:34.350575  \n18       0  1600000.0  42.388597       arriendo  2024-08-30 10:19:34.357876  \n19       0  1600000.0  42.388597       arriendo  2024-08-30 10:19:34.365665  \n..     ...        ...        ...            ...                         ...  \n244      0  2000000.0  52.985747       arriendo  2024-08-30 10:19:36.086008  \n248      0   950000.0   25.16823       arriendo  2024-08-30 10:19:36.115769  \n249      0  1170126.0       31.0       arriendo  2024-08-30 10:19:36.122611  \n250      0  1132380.0       30.0       arriendo  2024-08-30 10:19:36.130409  \n254      0  1000000.0  26.492873       arriendo  2024-08-30 10:19:36.161659  \n\n[79 rows x 23 columns]",
      "text/html": "<div>\n<style scoped>\n    .dataframe tbody tr th:only-of-type {\n        vertical-align: middle;\n    }\n\n    .dataframe tbody tr th {\n        vertical-align: top;\n    }\n\n    .dataframe thead th {\n        text-align: right;\n    }\n</style>\n<table border=\"1\" class=\"dataframe\">\n  <thead>\n    <tr style=\"text-align: right;\">\n      <th></th>\n      <th>Latitude</th>\n      <th>Longitude</th>\n      <th>dias_desde_publicacion</th>\n      <th>n_dormitorios</th>\n      <th>n_banos</th>\n      <th>superficie_total</th>\n      <th>superficie_util</th>\n      <th>estacionamientos</th>\n      <th>bodegas</th>\n      <th>antiguedad</th>\n      <th>...</th>\n      <th>orientacion</th>\n      <th>gastos_comunes</th>\n      <th>titulo</th>\n      <th>link</th>\n      <th>geo_ref_name</th>\n      <th>listed</th>\n      <th>Price</th>\n      <th>Price_UF</th>\n      <th>tipo_operacion</th>\n      <th>Date</th>\n    </tr>\n  </thead>\n  <tbody>\n    <tr>\n      <th>4</th>\n      <td>-33.411946</td>\n      <td>-70.566881</td>\n      <td>22.0</td>\n      <td>3.0</td>\n      <td>2.0</td>\n      <td>90.0</td>\n      <td>80.0</td>\n      <td>1.0</td>\n      <td>1.0</td>\n      <td>10.0</td>\n      <td>...</td>\n      <td>Poniente</td>\n      <td>240000.0</td>\n      <td>Depto En Arriendo De 3 Dorm. En Las Condes, Me...</td>\n      <td>https://www.portalinmobiliario.com/MLC-1512054...</td>\n      <td>metro_manquehue</td>\n      <td>0</td>\n      <td>1050000.0</td>\n      <td>27.817517</td>\n      <td>arriendo</td>\n      <td>2024-08-30 10:19:34.252004</td>\n    </tr>\n    <tr>\n      <th>15</th>\n      <td>-33.406522</td>\n      <td>-70.570183</td>\n      <td>1.0</td>\n      <td>3.0</td>\n      <td>3.0</td>\n      <td>150.0</td>\n      <td>120.0</td>\n      <td>1.0</td>\n      <td>1.0</td>\n      <td>12.0</td>\n      <td>...</td>\n      <td>NOSP</td>\n      <td>NaN</td>\n      <td>Furnished- Modern- Nice  Apartment Near Manque...</td>\n      <td>https://www.portalinmobiliario.com/MLC-2679146...</td>\n      <td>metro_manquehue</td>\n      <td>0</td>\n      <td>2150000.0</td>\n      <td>56.959678</td>\n      <td>arriendo</td>\n      <td>2024-08-30 10:19:34.333898</td>\n    </tr>\n    <tr>\n      <th>17</th>\n      <td>-33.411938</td>\n      <td>-70.569399</td>\n      <td>90.0</td>\n      <td>3.0</td>\n      <td>3.0</td>\n      <td>140.0</td>\n      <td>0.0</td>\n      <td>2.0</td>\n      <td>0.0</td>\n      <td>NaN</td>\n      <td>...</td>\n      <td>None</td>\n      <td>NaN</td>\n      <td>Se Arrienda Departamento En Las Condes!!!</td>\n      <td>https://www.portalinmobiliario.com/MLC-1507013...</td>\n      <td>metro_manquehue</td>\n      <td>0</td>\n      <td>1887300.0</td>\n      <td>50.0</td>\n      <td>arriendo</td>\n      <td>2024-08-30 10:19:34.350575</td>\n    </tr>\n    <tr>\n      <th>18</th>\n      <td>-33.402772</td>\n      <td>-70.56168</td>\n      <td>8.0</td>\n      <td>3.0</td>\n      <td>3.0</td>\n      <td>135.0</td>\n      <td>135.0</td>\n      <td>1.0</td>\n      <td>1.0</td>\n      <td>NaN</td>\n      <td>...</td>\n      <td>None</td>\n      <td>NaN</td>\n      <td>Excelente Depto Sercano Colegio Seck - Metro M...</td>\n      <td>https://www.portalinmobiliario.com/MLC-2668554...</td>\n      <td>metro_manquehue</td>\n      <td>0</td>\n      <td>1600000.0</td>\n      <td>42.388597</td>\n      <td>arriendo</td>\n      <td>2024-08-30 10:19:34.357876</td>\n    </tr>\n    <tr>\n      <th>19</th>\n      <td>-33.405539</td>\n      <td>-70.563052</td>\n      <td>180.0</td>\n      <td>3.0</td>\n      <td>3.0</td>\n      <td>113.0</td>\n      <td>96.0</td>\n      <td>1.0</td>\n      <td>1.0</td>\n      <td>NaN</td>\n      <td>...</td>\n      <td>SP</td>\n      <td>NaN</td>\n      <td>Amoblado 3d/3b - Sector Noruega - Metro Manque...</td>\n      <td>https://www.portalinmobiliario.com/MLC-1510518...</td>\n      <td>metro_manquehue</td>\n      <td>0</td>\n      <td>1600000.0</td>\n      <td>42.388597</td>\n      <td>arriendo</td>\n      <td>2024-08-30 10:19:34.365665</td>\n    </tr>\n    <tr>\n      <th>...</th>\n      <td>...</td>\n      <td>...</td>\n      <td>...</td>\n      <td>...</td>\n      <td>...</td>\n      <td>...</td>\n      <td>...</td>\n      <td>...</td>\n      <td>...</td>\n      <td>...</td>\n      <td>...</td>\n      <td>...</td>\n      <td>...</td>\n      <td>...</td>\n      <td>...</td>\n      <td>...</td>\n      <td>...</td>\n      <td>...</td>\n      <td>...</td>\n      <td>...</td>\n      <td>...</td>\n    </tr>\n    <tr>\n      <th>244</th>\n      <td>-33.406922</td>\n      <td>-70.564282</td>\n      <td>6.0</td>\n      <td>3.0</td>\n      <td>3.0</td>\n      <td>174.0</td>\n      <td>174.0</td>\n      <td>2.0</td>\n      <td>0.0</td>\n      <td>NaN</td>\n      <td>...</td>\n      <td>None</td>\n      <td>300000.0</td>\n      <td>Arriendo Lujoso Departamento-noruega- Las Condes</td>\n      <td>https://www.portalinmobiliario.com/MLC-2671850...</td>\n      <td>metro_manquehue</td>\n      <td>0</td>\n      <td>2000000.0</td>\n      <td>52.985747</td>\n      <td>arriendo</td>\n      <td>2024-08-30 10:19:36.086008</td>\n    </tr>\n    <tr>\n      <th>248</th>\n      <td>-33.410917</td>\n      <td>-70.571443</td>\n      <td>9.0</td>\n      <td>3.0</td>\n      <td>2.0</td>\n      <td>110.0</td>\n      <td>100.0</td>\n      <td>1.0</td>\n      <td>1.0</td>\n      <td>NaN</td>\n      <td>...</td>\n      <td>NP</td>\n      <td>250000.0</td>\n      <td>Depto La Capitania</td>\n      <td>https://www.portalinmobiliario.com/MLC-1516826...</td>\n      <td>metro_manquehue</td>\n      <td>0</td>\n      <td>950000.0</td>\n      <td>25.16823</td>\n      <td>arriendo</td>\n      <td>2024-08-30 10:19:36.115769</td>\n    </tr>\n    <tr>\n      <th>249</th>\n      <td>-33.409537</td>\n      <td>-70.577296</td>\n      <td>17.0</td>\n      <td>3.0</td>\n      <td>3.0</td>\n      <td>110.0</td>\n      <td>110.0</td>\n      <td>2.0</td>\n      <td>1.0</td>\n      <td>NaN</td>\n      <td>...</td>\n      <td>NO</td>\n      <td>380000.0</td>\n      <td>Depto 3 Dormitorios + 2 Estacionamientos, Apoq...</td>\n      <td>https://www.portalinmobiliario.com/MLC-2653214...</td>\n      <td>metro_manquehue</td>\n      <td>0</td>\n      <td>1170126.0</td>\n      <td>31.0</td>\n      <td>arriendo</td>\n      <td>2024-08-30 10:19:36.122611</td>\n    </tr>\n    <tr>\n      <th>250</th>\n      <td>-33.409798</td>\n      <td>-70.575207</td>\n      <td>21.0</td>\n      <td>3.0</td>\n      <td>2.0</td>\n      <td>110.0</td>\n      <td>110.0</td>\n      <td>1.0</td>\n      <td>1.0</td>\n      <td>18.0</td>\n      <td>...</td>\n      <td>NP</td>\n      <td>210000.0</td>\n      <td>Depto. Arriendo 3d+2b+ 1est+1bod Excelente Vis...</td>\n      <td>https://www.portalinmobiliario.com/MLC-1512501...</td>\n      <td>metro_manquehue</td>\n      <td>0</td>\n      <td>1132380.0</td>\n      <td>30.0</td>\n      <td>arriendo</td>\n      <td>2024-08-30 10:19:36.130409</td>\n    </tr>\n    <tr>\n      <th>254</th>\n      <td>-33.406785</td>\n      <td>-70.559635</td>\n      <td>18.0</td>\n      <td>3.0</td>\n      <td>3.0</td>\n      <td>90.0</td>\n      <td>83.0</td>\n      <td>1.0</td>\n      <td>1.0</td>\n      <td>25.0</td>\n      <td>...</td>\n      <td>NO</td>\n      <td>180000.0</td>\n      <td>Departamento 3 Dormitorios  Sector Estadio Ita...</td>\n      <td>https://www.portalinmobiliario.com/MLC-1513392...</td>\n      <td>metro_manquehue</td>\n      <td>0</td>\n      <td>1000000.0</td>\n      <td>26.492873</td>\n      <td>arriendo</td>\n      <td>2024-08-30 10:19:36.161659</td>\n    </tr>\n  </tbody>\n</table>\n<p>79 rows × 23 columns</p>\n</div>"
     },
     "execution_count": 56,
     "metadata": {},
     "output_type": "execute_result"
    }
   ],
   "source": [
    "df_arriendo.query(\"n_dormitorios==3\")"
   ],
   "metadata": {
    "collapsed": false,
    "ExecuteTime": {
     "end_time": "2024-08-30T17:48:47.086798Z",
     "start_time": "2024-08-30T17:48:46.978403Z"
    }
   },
   "id": "c5ece5f7137bc3b2",
   "execution_count": 56
  },
  {
   "cell_type": "code",
   "outputs": [],
   "source": [],
   "metadata": {
    "collapsed": false
   },
   "id": "38fdc06e4e70bffd"
  }
 ],
 "metadata": {
  "kernelspec": {
   "display_name": "Python 3",
   "language": "python",
   "name": "python3"
  },
  "language_info": {
   "codemirror_mode": {
    "name": "ipython",
    "version": 2
   },
   "file_extension": ".py",
   "mimetype": "text/x-python",
   "name": "python",
   "nbconvert_exporter": "python",
   "pygments_lexer": "ipython2",
   "version": "2.7.6"
  }
 },
 "nbformat": 4,
 "nbformat_minor": 5
}
