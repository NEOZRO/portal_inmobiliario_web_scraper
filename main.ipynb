{
 "cells": [
  {
   "cell_type": "code",
   "outputs": [],
   "source": [
    "%load_ext autoreload\n",
    "%autoreload 2"
   ],
   "metadata": {
    "collapsed": false,
    "ExecuteTime": {
     "end_time": "2024-09-21T16:57:04.293097Z",
     "start_time": "2024-09-21T16:57:04.234369Z"
    }
   },
   "id": "c76e8862c3f8de5a",
   "execution_count": 1
  },
  {
   "cell_type": "markdown",
   "source": [
    "https://openaccess.uoc.edu/bitstream/10609/148363/3/miravecaTFG0623memoria.pdf\n",
    "\n",
    "https://www.portalinmobiliario.com/robots.txt\n",
    "\n",
    "\n",
    "SAAS\n",
    "https://github.com/Saas-Starter-Kit/Saas-Kit-prisma?tab=readme-ov-file\n"
   ],
   "metadata": {
    "collapsed": false
   },
   "id": "1d1ac9f156c6ea82"
  },
  {
   "metadata": {
    "ExecuteTime": {
     "end_time": "2024-09-22T16:41:10.971015Z",
     "start_time": "2024-09-22T16:41:10.863365Z"
    }
   },
   "cell_type": "code",
   "source": [
    "import numpy as np\n",
    "import pandas as pd\n",
    "from time import sleep\n",
    "from webscrapper_portal_inmobiliario import WebScraperPortalInmobiliario"
   ],
   "id": "f83798ce4459a42b",
   "outputs": [],
   "execution_count": 75
  },
  {
   "cell_type": "markdown",
   "source": [
    "### TODO:\n",
    "- ~~trackear propiedades en el tiempo para el mismo sector  SE HACE CON LA [LAT LONG]~~\n",
    "- ~~Sortear baneos de ip por muchas request - sectores con muchas propiedades~~\n",
    "https://brightdata.com/cp/zones/residential_proxy1/edit 8 dolares el GB --> SOLUCION\n",
    "- ~~crear tabla intetmedia con 3 tablas y generar id unico...~~\n",
    "- ~~buscar estandar para nombres de columnas en tablas, en ingles... sin mayusculas~~\n",
    "- ~~Hacer que se descarguen las cards urls totales [venta + arriendo]~~\n",
    "- ~~Los polygonos se agregan a una tabla en la base de datos... con una funcion~~\n",
    "- ~~para correr el programa se ejecuta otra funcion que leera los polygoinos de la base de datos~~\n",
    "- Que funcione descargando para multiples polygonos\n",
    "- ~~Modo descarga casas y departamentos en conjunto~~\n",
    "- ejecutar todos los links en tread\n",
    "---\n",
    "- Calculos de estadicticas de rentabilidad\n",
    "- rankear propiedades basado en esto\n",
    "- grafico mapa donde se encuentran estas propiedades\n",
    "- extraer imagenes del TOP 3 Propiedades\n",
    "- plotear en single plot matplotlib. una especie de reporte automatico.\n",
    "\n",
    "### fixes\n",
    "- blockeo de proxies e ip propia?... se arregla si pasa el baneo tenporal y me deja extraer all i want\n",
    "https://brightdata.com/blog/web-data/bypass-cloudflare\n"
   ],
   "metadata": {
    "collapsed": false
   },
   "id": "67c501318ab4de82"
  },
  {
   "cell_type": "code",
   "id": "initial_id",
   "metadata": {
    "collapsed": true,
    "ExecuteTime": {
     "end_time": "2024-09-21T16:57:10.003586Z",
     "start_time": "2024-09-21T16:57:05.127591Z"
    }
   },
   "source": [
    "WSPI = WebScraperPortalInmobiliario()"
   ],
   "outputs": [],
   "execution_count": 3
  },
  {
   "cell_type": "markdown",
   "source": [
    "## MAP HANDLING"
   ],
   "metadata": {
    "collapsed": false
   },
   "id": "e906eeb3b7e57c15"
  },
  {
   "cell_type": "markdown",
   "source": [
    "CREATE NEW MAP GROUP"
   ],
   "metadata": {
    "collapsed": false
   },
   "id": "fefb303e4a8d1935"
  },
  {
   "cell_type": "markdown",
   "source": [
    "make a create, delete and edit cluster map function, diferent one for each action"
   ],
   "metadata": {
    "collapsed": false
   },
   "id": "c0d9429bc7f05ac9"
  },
  {
   "cell_type": "code",
   "outputs": [],
   "source": [
    "# WSPI.insert_new_cluser_map(\"macul\",None)"
   ],
   "metadata": {
    "collapsed": false,
    "ExecuteTime": {
     "end_time": "2024-09-21T16:57:10.111234Z",
     "start_time": "2024-09-21T16:57:10.004555Z"
    }
   },
   "id": "aa544092447ca46e",
   "execution_count": 4
  },
  {
   "cell_type": "markdown",
   "source": [
    "LIST MAPS AVALIABLE"
   ],
   "metadata": {
    "collapsed": false
   },
   "id": "9269aa954583cac8"
  },
  {
   "cell_type": "code",
   "outputs": [
    {
     "name": "stdout",
     "output_type": "stream",
     "text": [
      "  mapID       geo_ref_name\n",
      "0     1  general_arriagada\n",
      "1     2     Diego_portales\n",
      "2     3  atras_plaza_egaña\n",
      "3     4              macul\n"
     ]
    }
   ],
   "source": [
    "WSPI.list_db_maps()"
   ],
   "metadata": {
    "collapsed": false,
    "ExecuteTime": {
     "end_time": "2024-09-21T16:57:10.283821Z",
     "start_time": "2024-09-21T16:57:10.113235Z"
    }
   },
   "id": "cbb939cf4f74cef4",
   "execution_count": 5
  },
  {
   "cell_type": "markdown",
   "source": [
    "LOAD A SELECTED MAP INTO VISUALIZATION"
   ],
   "metadata": {
    "collapsed": false
   },
   "id": "2aba33874f86eecb"
  },
  {
   "cell_type": "code",
   "outputs": [
    {
     "name": "stdout",
     "output_type": "stream",
     "text": [
      "macul --> Sucess!\n"
     ]
    },
    {
     "data": {
      "text/plain": "Map(center=[-33.488414666666664, -70.58492683333333], controls=(ZoomControl(options=['position', 'zoom_in_text…",
      "application/vnd.jupyter.widget-view+json": {
       "version_major": 2,
       "version_minor": 0,
       "model_id": "4ab5e182283249a3833337e51274e46b"
      }
     },
     "metadata": {},
     "output_type": "display_data"
    }
   ],
   "source": [
    "WSPI.vis_map(selected_mapID=4)"
   ],
   "metadata": {
    "collapsed": false,
    "ExecuteTime": {
     "end_time": "2024-09-21T16:57:10.453476Z",
     "start_time": "2024-09-21T16:57:10.285476Z"
    }
   },
   "id": "89520ebd3a132ec6",
   "execution_count": 6
  },
  {
   "cell_type": "code",
   "outputs": [
    {
     "name": "stdout",
     "output_type": "stream",
     "text": [
      "proxy enabled!, random session id:  0.5708404689053164\n"
     ]
    },
    {
     "data": {
      "text/plain": "  0%|          | 0/100 [00:00<?, ?it/s]",
      "application/vnd.jupyter.widget-view+json": {
       "version_major": 2,
       "version_minor": 0,
       "model_id": "8dabbac400b54c8d9619ed2b07bb9512"
      },
      "application/json": {
       "n": 0,
       "total": 100,
       "elapsed": 0.031037330627441406,
       "ncols": null,
       "nrows": null,
       "prefix": "",
       "ascii": false,
       "unit": "it",
       "unit_scale": false,
       "rate": null,
       "bar_format": null,
       "postfix": null,
       "unit_divisor": 1000,
       "initial": 0,
       "colour": null
      }
     },
     "metadata": {},
     "output_type": "display_data"
    },
    {
     "name": "stdout",
     "output_type": "stream",
     "text": [
      "proxy enabled!, random session id:  0.2894357509624048\n",
      "proxy enabled!, random session id:  0.6912150226592053\n",
      "proxy enabled!, random session id:  0.17556721878881043\n",
      "proxy enabled!, random session id:  0.4526063527244546\n",
      "proxy enabled!, random session id:  0.3382593920201832\n",
      "proxy enabled!, random session id:  0.23565274150171334\n",
      "proxy enabled!, random session id:  0.15636384505097234\n",
      "proxy enabled!, random session id:  0.8648643586131427\n",
      "proxy enabled!, random session id:  0.03152146646554577\n",
      "proxy enabled!, random session id:  0.7185404683486647\n",
      "proxy enabled!, random session id:  0.15202477318814533\n",
      "proxy enabled!, random session id:  0.2984644345423252\n",
      "proxy enabled!, random session id:  0.9586204368899279\n",
      "proxy enabled!, random session id:  0.840148955131624\n",
      "proxy enabled!, random session id:  0.6040693625658166\n",
      "proxy enabled!, random session id:  0.5768021843867741\n",
      "proxy enabled!, random session id:  0.8014763507001761\n",
      "proxy enabled!, random session id:  0.2968381622370744\n",
      "proxy enabled!, random session id:  0.6075068926789194\n",
      "proxy enabled!, random session id:  0.5180983511066005\n",
      "proxy enabled!, random session id:  0.6966818632536838\n",
      "NOT NULL constraint failed: master_id.latitude\n"
     ]
    }
   ],
   "source": [
    "WSPI.start_download(selected_mapID=4)"
   ],
   "metadata": {
    "collapsed": false,
    "ExecuteTime": {
     "end_time": "2024-09-21T18:22:21.478906Z",
     "start_time": "2024-09-21T16:57:10.454477Z"
    }
   },
   "id": "726c7c4f3d8b74f6",
   "execution_count": 7
  },
  {
   "cell_type": "markdown",
   "source": [
    "# DATA MANAGE\n",
    "------------------------------------------"
   ],
   "metadata": {
    "collapsed": false
   },
   "id": "a7e8a4e8e5ac718c"
  },
  {
   "cell_type": "markdown",
   "source": [
    "# fix get caprates for macul datset"
   ],
   "metadata": {
    "collapsed": false
   },
   "id": "b46f6e297b84c552"
  },
  {
   "cell_type": "code",
   "outputs": [
    {
     "name": "stdout",
     "output_type": "stream",
     "text": [
      "analizando casa\n",
      "con 0.0 dormitorios, se puede arrendar en aproximadamente 980000, analizado desde 2 propiedades\n",
      "con 1.0 dormitorios, se puede arrendar en aproximadamente 390000, analizado desde 4 propiedades\n",
      "con 2.0 dormitorios, se puede arrendar en aproximadamente 1550000, analizado desde 2 propiedades\n",
      "con 3.0 dormitorios, se puede arrendar en aproximadamente 850000, analizado desde 36 propiedades\n",
      "con 4.0 dormitorios, se puede arrendar en aproximadamente 880000, analizado desde 26 propiedades\n",
      "con 5.0 dormitorios, se puede arrendar en aproximadamente 885000, analizado desde 6 propiedades\n",
      "con 10.0 dormitorios, se puede arrendar en aproximadamente 3408873, analizado desde 2 propiedades\n",
      "precio/m2 de la zona es 9330 CLP , 0.25 UF\n",
      "-------------------------------------\n",
      "analizando departamento\n",
      "con 0.0 dormitorios, se puede arrendar en aproximadamente 520000, analizado desde 4 propiedades\n",
      "con 1.0 dormitorios, se puede arrendar en aproximadamente 320000, analizado desde 162 propiedades\n",
      "con 2.0 dormitorios, se puede arrendar en aproximadamente 391500, analizado desde 374 propiedades\n",
      "con 3.0 dormitorios, se puede arrendar en aproximadamente 500000, analizado desde 88 propiedades\n",
      "con 4.0 dormitorios, se puede arrendar en aproximadamente 1100000, analizado desde 4 propiedades\n",
      "precio/m2 de la zona es 18563 CLP , 0.49 UF\n",
      "-------------------------------------\n"
     ]
    }
   ],
   "source": [
    "WSPI.get_df_caprates(map_id=4,threshold_date=\"2024-09-21\")"
   ],
   "metadata": {
    "collapsed": false,
    "ExecuteTime": {
     "end_time": "2024-09-22T15:49:22.432515Z",
     "start_time": "2024-09-22T15:49:22.137323Z"
    }
   },
   "id": "1b0ebad759b23110",
   "execution_count": 45
  },
  {
   "cell_type": "code",
   "outputs": [
    {
     "data": {
      "text/plain": "      dias_desde_publicacion  n_dormitorios  n_banos  superficie_total  \\\n39                       0.0            3.0      2.0             213.0   \n40                      46.0            4.0      3.0             148.5   \n41                     330.0            5.0      3.0             330.0   \n42                      57.0            4.0      4.0             288.3   \n43                       0.0            4.0      3.0             223.0   \n...                      ...            ...      ...               ...   \n1868                   150.0            3.0      1.0             115.0   \n1869                    54.0            3.0      1.0             175.0   \n1870                     1.0            4.0      3.0             500.0   \n1871                   300.0            0.0      0.0             397.0   \n1872                    60.0            4.0      2.0             360.0   \n\n      superficie_util  estacionamientos  bodegas  antiguedad  \\\n39              125.0               3.0      1.0        20.0   \n40              110.0               2.0      1.0        30.0   \n41              180.0               2.0      1.0         0.0   \n42              140.0               2.0      1.0        15.0   \n43              115.0               2.0      0.0         0.0   \n...               ...               ...      ...         ...   \n1868             90.0               1.0      0.0        57.0   \n1869             80.0               2.0      1.0        40.0   \n1870            150.0               2.0      1.0        26.0   \n1871             80.0               0.0      NaN         NaN   \n1872            174.0               1.0      NaN        57.0   \n\n      cantidad_pisos_edificio  piso_unidad tipo_inmueble  orientacion  \\\n39                        2.0          NaN          casa           NO   \n40                        2.0          NaN          casa         None   \n41                        2.0          NaN          casa            N   \n42                        2.0          NaN          casa            S   \n43                        0.0          NaN          casa    Norte-sur   \n...                       ...          ...           ...          ...   \n1868                      2.0          NaN          casa           NO   \n1869                      1.0          NaN          casa           NO   \n1870                      1.0          NaN          casa  Nor-Oriente   \n1871                      NaN          NaN          casa         None   \n1872                      2.0          NaN          casa           SO   \n\n      gastos_comunes                                               link  \\\n39               NaN  https://www.portalinmobiliario.com/MLC-1492008...   \n40               NaN  https://www.portalinmobiliario.com/MLC-1511358...   \n41               0.0  https://www.portalinmobiliario.com/MLC-1433279...   \n42           60000.0  https://www.portalinmobiliario.com/MLC-1508231...   \n43           45000.0  https://www.portalinmobiliario.com/MLC-2699574...   \n...              ...                                                ...   \n1868             0.0  https://www.portalinmobiliario.com/MLC-1520598...   \n1869             0.0  https://www.portalinmobiliario.com/MLC-1520907...   \n1870             0.0  https://www.portalinmobiliario.com/MLC-1527855...   \n1871             NaN  https://www.portalinmobiliario.com/MLC-1499149...   \n1872             NaN  https://www.portalinmobiliario.com/MLC-2543220...   \n\n      listed        Price  Price_UF tipo_operacion  \\\n39         1  239378658.4   6320.00          venta   \n40         1  175000000.0   4620.29          venta   \n41         1  397701885.0  10500.00          venta   \n42         1  431790618.0  11400.00          venta   \n43         1  313995107.3   8290.00          venta   \n...      ...          ...       ...            ...   \n1868       1   15500000.0    409.23          venta   \n1869       1  178018939.0   4700.00          venta   \n1870       1  359446751.3   9490.00          venta   \n1871       1  240000000.0   6336.40          venta   \n1872       1  230000000.0   6072.39          venta   \n\n                            Date  caprate_bruto  \n39    2024-09-21 15:22:08.984270       0.042610  \n40    2024-09-21 15:22:08.993640       0.060343  \n41    2024-09-21 15:22:09.003687       0.026703  \n42    2024-09-21 15:22:09.012510       0.024456  \n43    2024-09-21 15:22:09.022909       0.033631  \n...                          ...            ...  \n1868  2024-09-21 15:25:44.762928       0.658065  \n1869  2024-09-21 15:25:44.769931       0.057297  \n1870  2024-09-21 15:25:44.776928       0.029378  \n1871  2024-09-21 15:25:44.783930       0.049000  \n1872  2024-09-21 15:25:44.788931       0.045913  \n\n[1226 rows x 20 columns]",
      "text/html": "<div>\n<style scoped>\n    .dataframe tbody tr th:only-of-type {\n        vertical-align: middle;\n    }\n\n    .dataframe tbody tr th {\n        vertical-align: top;\n    }\n\n    .dataframe thead th {\n        text-align: right;\n    }\n</style>\n<table border=\"1\" class=\"dataframe\">\n  <thead>\n    <tr style=\"text-align: right;\">\n      <th></th>\n      <th>dias_desde_publicacion</th>\n      <th>n_dormitorios</th>\n      <th>n_banos</th>\n      <th>superficie_total</th>\n      <th>superficie_util</th>\n      <th>estacionamientos</th>\n      <th>bodegas</th>\n      <th>antiguedad</th>\n      <th>cantidad_pisos_edificio</th>\n      <th>piso_unidad</th>\n      <th>tipo_inmueble</th>\n      <th>orientacion</th>\n      <th>gastos_comunes</th>\n      <th>link</th>\n      <th>listed</th>\n      <th>Price</th>\n      <th>Price_UF</th>\n      <th>tipo_operacion</th>\n      <th>Date</th>\n      <th>caprate_bruto</th>\n    </tr>\n  </thead>\n  <tbody>\n    <tr>\n      <th>39</th>\n      <td>0.0</td>\n      <td>3.0</td>\n      <td>2.0</td>\n      <td>213.0</td>\n      <td>125.0</td>\n      <td>3.0</td>\n      <td>1.0</td>\n      <td>20.0</td>\n      <td>2.0</td>\n      <td>NaN</td>\n      <td>casa</td>\n      <td>NO</td>\n      <td>NaN</td>\n      <td>https://www.portalinmobiliario.com/MLC-1492008...</td>\n      <td>1</td>\n      <td>239378658.4</td>\n      <td>6320.00</td>\n      <td>venta</td>\n      <td>2024-09-21 15:22:08.984270</td>\n      <td>0.042610</td>\n    </tr>\n    <tr>\n      <th>40</th>\n      <td>46.0</td>\n      <td>4.0</td>\n      <td>3.0</td>\n      <td>148.5</td>\n      <td>110.0</td>\n      <td>2.0</td>\n      <td>1.0</td>\n      <td>30.0</td>\n      <td>2.0</td>\n      <td>NaN</td>\n      <td>casa</td>\n      <td>None</td>\n      <td>NaN</td>\n      <td>https://www.portalinmobiliario.com/MLC-1511358...</td>\n      <td>1</td>\n      <td>175000000.0</td>\n      <td>4620.29</td>\n      <td>venta</td>\n      <td>2024-09-21 15:22:08.993640</td>\n      <td>0.060343</td>\n    </tr>\n    <tr>\n      <th>41</th>\n      <td>330.0</td>\n      <td>5.0</td>\n      <td>3.0</td>\n      <td>330.0</td>\n      <td>180.0</td>\n      <td>2.0</td>\n      <td>1.0</td>\n      <td>0.0</td>\n      <td>2.0</td>\n      <td>NaN</td>\n      <td>casa</td>\n      <td>N</td>\n      <td>0.0</td>\n      <td>https://www.portalinmobiliario.com/MLC-1433279...</td>\n      <td>1</td>\n      <td>397701885.0</td>\n      <td>10500.00</td>\n      <td>venta</td>\n      <td>2024-09-21 15:22:09.003687</td>\n      <td>0.026703</td>\n    </tr>\n    <tr>\n      <th>42</th>\n      <td>57.0</td>\n      <td>4.0</td>\n      <td>4.0</td>\n      <td>288.3</td>\n      <td>140.0</td>\n      <td>2.0</td>\n      <td>1.0</td>\n      <td>15.0</td>\n      <td>2.0</td>\n      <td>NaN</td>\n      <td>casa</td>\n      <td>S</td>\n      <td>60000.0</td>\n      <td>https://www.portalinmobiliario.com/MLC-1508231...</td>\n      <td>1</td>\n      <td>431790618.0</td>\n      <td>11400.00</td>\n      <td>venta</td>\n      <td>2024-09-21 15:22:09.012510</td>\n      <td>0.024456</td>\n    </tr>\n    <tr>\n      <th>43</th>\n      <td>0.0</td>\n      <td>4.0</td>\n      <td>3.0</td>\n      <td>223.0</td>\n      <td>115.0</td>\n      <td>2.0</td>\n      <td>0.0</td>\n      <td>0.0</td>\n      <td>0.0</td>\n      <td>NaN</td>\n      <td>casa</td>\n      <td>Norte-sur</td>\n      <td>45000.0</td>\n      <td>https://www.portalinmobiliario.com/MLC-2699574...</td>\n      <td>1</td>\n      <td>313995107.3</td>\n      <td>8290.00</td>\n      <td>venta</td>\n      <td>2024-09-21 15:22:09.022909</td>\n      <td>0.033631</td>\n    </tr>\n    <tr>\n      <th>...</th>\n      <td>...</td>\n      <td>...</td>\n      <td>...</td>\n      <td>...</td>\n      <td>...</td>\n      <td>...</td>\n      <td>...</td>\n      <td>...</td>\n      <td>...</td>\n      <td>...</td>\n      <td>...</td>\n      <td>...</td>\n      <td>...</td>\n      <td>...</td>\n      <td>...</td>\n      <td>...</td>\n      <td>...</td>\n      <td>...</td>\n      <td>...</td>\n      <td>...</td>\n    </tr>\n    <tr>\n      <th>1868</th>\n      <td>150.0</td>\n      <td>3.0</td>\n      <td>1.0</td>\n      <td>115.0</td>\n      <td>90.0</td>\n      <td>1.0</td>\n      <td>0.0</td>\n      <td>57.0</td>\n      <td>2.0</td>\n      <td>NaN</td>\n      <td>casa</td>\n      <td>NO</td>\n      <td>0.0</td>\n      <td>https://www.portalinmobiliario.com/MLC-1520598...</td>\n      <td>1</td>\n      <td>15500000.0</td>\n      <td>409.23</td>\n      <td>venta</td>\n      <td>2024-09-21 15:25:44.762928</td>\n      <td>0.658065</td>\n    </tr>\n    <tr>\n      <th>1869</th>\n      <td>54.0</td>\n      <td>3.0</td>\n      <td>1.0</td>\n      <td>175.0</td>\n      <td>80.0</td>\n      <td>2.0</td>\n      <td>1.0</td>\n      <td>40.0</td>\n      <td>1.0</td>\n      <td>NaN</td>\n      <td>casa</td>\n      <td>NO</td>\n      <td>0.0</td>\n      <td>https://www.portalinmobiliario.com/MLC-1520907...</td>\n      <td>1</td>\n      <td>178018939.0</td>\n      <td>4700.00</td>\n      <td>venta</td>\n      <td>2024-09-21 15:25:44.769931</td>\n      <td>0.057297</td>\n    </tr>\n    <tr>\n      <th>1870</th>\n      <td>1.0</td>\n      <td>4.0</td>\n      <td>3.0</td>\n      <td>500.0</td>\n      <td>150.0</td>\n      <td>2.0</td>\n      <td>1.0</td>\n      <td>26.0</td>\n      <td>1.0</td>\n      <td>NaN</td>\n      <td>casa</td>\n      <td>Nor-Oriente</td>\n      <td>0.0</td>\n      <td>https://www.portalinmobiliario.com/MLC-1527855...</td>\n      <td>1</td>\n      <td>359446751.3</td>\n      <td>9490.00</td>\n      <td>venta</td>\n      <td>2024-09-21 15:25:44.776928</td>\n      <td>0.029378</td>\n    </tr>\n    <tr>\n      <th>1871</th>\n      <td>300.0</td>\n      <td>0.0</td>\n      <td>0.0</td>\n      <td>397.0</td>\n      <td>80.0</td>\n      <td>0.0</td>\n      <td>NaN</td>\n      <td>NaN</td>\n      <td>NaN</td>\n      <td>NaN</td>\n      <td>casa</td>\n      <td>None</td>\n      <td>NaN</td>\n      <td>https://www.portalinmobiliario.com/MLC-1499149...</td>\n      <td>1</td>\n      <td>240000000.0</td>\n      <td>6336.40</td>\n      <td>venta</td>\n      <td>2024-09-21 15:25:44.783930</td>\n      <td>0.049000</td>\n    </tr>\n    <tr>\n      <th>1872</th>\n      <td>60.0</td>\n      <td>4.0</td>\n      <td>2.0</td>\n      <td>360.0</td>\n      <td>174.0</td>\n      <td>1.0</td>\n      <td>NaN</td>\n      <td>57.0</td>\n      <td>2.0</td>\n      <td>NaN</td>\n      <td>casa</td>\n      <td>SO</td>\n      <td>NaN</td>\n      <td>https://www.portalinmobiliario.com/MLC-2543220...</td>\n      <td>1</td>\n      <td>230000000.0</td>\n      <td>6072.39</td>\n      <td>venta</td>\n      <td>2024-09-21 15:25:44.788931</td>\n      <td>0.045913</td>\n    </tr>\n  </tbody>\n</table>\n<p>1226 rows × 20 columns</p>\n</div>"
     },
     "execution_count": 46,
     "metadata": {},
     "output_type": "execute_result"
    }
   ],
   "source": [
    "WSPI.analysis_results[\"df_caprate_casa\"]"
   ],
   "metadata": {
    "collapsed": false,
    "ExecuteTime": {
     "end_time": "2024-09-22T15:50:07.358724Z",
     "start_time": "2024-09-22T15:50:07.227087Z"
    }
   },
   "id": "5b59e29d756da3a8",
   "execution_count": 46
  },
  {
   "cell_type": "code",
   "outputs": [
    {
     "data": {
      "text/plain": "      dias_desde_publicacion  n_dormitorios  n_banos  superficie_total  \\\n980                     90.0            2.0      2.0              72.0   \n981                    210.0            3.0      2.0              86.2   \n982                      3.0            2.0      2.0              64.0   \n983                     10.0            3.0      1.0              70.0   \n984                      8.0            3.0      2.0              70.0   \n...                      ...            ...      ...               ...   \n3037                    45.0            3.0      1.0              65.0   \n3038                    38.0            1.0      1.0              45.0   \n3039                    22.0            3.0      1.0              60.0   \n3040                     1.0            2.0      1.0              46.0   \n3041                     1.0            3.0      2.0              78.0   \n\n      superficie_util  estacionamientos  bodegas  antiguedad  \\\n980              65.0               1.0      1.0         7.0   \n981              81.3               1.0      1.0        10.0   \n982              58.0               1.0      1.0        15.0   \n983              66.0               1.0      0.0        50.0   \n984              70.0               2.0      1.0        20.0   \n...               ...               ...      ...         ...   \n3037             60.0               0.0      0.0        40.0   \n3038             45.0               1.0      1.0         1.0   \n3039             60.0               0.0      0.0        20.0   \n3040             42.0               0.0      NaN         5.0   \n3041             76.0               1.0      NaN        16.0   \n\n      cantidad_pisos_edificio  piso_unidad tipo_inmueble orientacion  \\\n980                       8.0          3.0  departamento           N   \n981                      11.0          4.0  departamento          SP   \n982                       NaN         12.0  departamento        None   \n983                       4.0          3.0  departamento           O   \n984                      20.0          9.0  departamento          SO   \n...                       ...          ...           ...         ...   \n3037                      4.0          3.0  departamento          NO   \n3038                     12.0         12.0  departamento          NO   \n3039                      1.0          1.0  departamento          NP   \n3040                     16.0          NaN  departamento        None   \n3041                     18.0          NaN  departamento        None   \n\n      gastos_comunes                                               link  \\\n980         120000.0  https://www.portalinmobiliario.com/MLC-1522643...   \n981         180000.0  https://www.portalinmobiliario.com/MLC-2674234...   \n982          80000.0  https://www.portalinmobiliario.com/MLC-1526541...   \n983          10000.0  https://www.portalinmobiliario.com/MLC-1524096...   \n984         100000.0  https://www.portalinmobiliario.com/MLC-2695991...   \n...              ...                                                ...   \n3037         55000.0  https://www.portalinmobiliario.com/MLC-2698602...   \n3038         60000.0  https://www.portalinmobiliario.com/MLC-2696666...   \n3039         50000.0  https://www.portalinmobiliario.com/MLC-1520179...   \n3040        100000.0  https://www.portalinmobiliario.com/MLC-1527891...   \n3041        110000.0  https://www.portalinmobiliario.com/MLC-1527839...   \n\n      listed         Price  Price_UF tipo_operacion  \\\n980        1  1.571869e+08   4150.00          venta   \n981        1  1.704437e+08   4500.00          venta   \n982        1  1.350000e+08   3564.23          venta   \n983        1  1.136291e+08   3000.00          venta   \n984        1  1.477178e+08   3900.00          venta   \n...      ...           ...       ...            ...   \n3037       1  1.249920e+08   3300.00          venta   \n3038       1  8.711565e+07   2300.00          venta   \n3039       1  9.400000e+07   2481.76          venta   \n3040       1  1.136291e+08   3000.00          venta   \n3041       1  1.742305e+08   4599.98          venta   \n\n                            Date  caprate_bruto  \n980   2024-09-21 15:22:18.945130       0.029888  \n981   2024-09-21 15:22:18.956361       0.035202  \n982   2024-09-21 15:22:18.966518       0.034800  \n983   2024-09-21 15:22:18.976075       0.052803  \n984   2024-09-21 15:22:18.986664       0.040618  \n...                          ...            ...  \n3037  2024-09-21 15:25:54.728000       0.048003  \n3038  2024-09-21 15:25:54.738754       0.044079  \n3039  2024-09-21 15:25:54.747941       0.063830  \n3040  2024-09-21 15:25:54.759166       0.041345  \n3041  2024-09-21 15:25:54.768586       0.034437  \n\n[1082 rows x 20 columns]",
      "text/html": "<div>\n<style scoped>\n    .dataframe tbody tr th:only-of-type {\n        vertical-align: middle;\n    }\n\n    .dataframe tbody tr th {\n        vertical-align: top;\n    }\n\n    .dataframe thead th {\n        text-align: right;\n    }\n</style>\n<table border=\"1\" class=\"dataframe\">\n  <thead>\n    <tr style=\"text-align: right;\">\n      <th></th>\n      <th>dias_desde_publicacion</th>\n      <th>n_dormitorios</th>\n      <th>n_banos</th>\n      <th>superficie_total</th>\n      <th>superficie_util</th>\n      <th>estacionamientos</th>\n      <th>bodegas</th>\n      <th>antiguedad</th>\n      <th>cantidad_pisos_edificio</th>\n      <th>piso_unidad</th>\n      <th>tipo_inmueble</th>\n      <th>orientacion</th>\n      <th>gastos_comunes</th>\n      <th>link</th>\n      <th>listed</th>\n      <th>Price</th>\n      <th>Price_UF</th>\n      <th>tipo_operacion</th>\n      <th>Date</th>\n      <th>caprate_bruto</th>\n    </tr>\n  </thead>\n  <tbody>\n    <tr>\n      <th>980</th>\n      <td>90.0</td>\n      <td>2.0</td>\n      <td>2.0</td>\n      <td>72.0</td>\n      <td>65.0</td>\n      <td>1.0</td>\n      <td>1.0</td>\n      <td>7.0</td>\n      <td>8.0</td>\n      <td>3.0</td>\n      <td>departamento</td>\n      <td>N</td>\n      <td>120000.0</td>\n      <td>https://www.portalinmobiliario.com/MLC-1522643...</td>\n      <td>1</td>\n      <td>1.571869e+08</td>\n      <td>4150.00</td>\n      <td>venta</td>\n      <td>2024-09-21 15:22:18.945130</td>\n      <td>0.029888</td>\n    </tr>\n    <tr>\n      <th>981</th>\n      <td>210.0</td>\n      <td>3.0</td>\n      <td>2.0</td>\n      <td>86.2</td>\n      <td>81.3</td>\n      <td>1.0</td>\n      <td>1.0</td>\n      <td>10.0</td>\n      <td>11.0</td>\n      <td>4.0</td>\n      <td>departamento</td>\n      <td>SP</td>\n      <td>180000.0</td>\n      <td>https://www.portalinmobiliario.com/MLC-2674234...</td>\n      <td>1</td>\n      <td>1.704437e+08</td>\n      <td>4500.00</td>\n      <td>venta</td>\n      <td>2024-09-21 15:22:18.956361</td>\n      <td>0.035202</td>\n    </tr>\n    <tr>\n      <th>982</th>\n      <td>3.0</td>\n      <td>2.0</td>\n      <td>2.0</td>\n      <td>64.0</td>\n      <td>58.0</td>\n      <td>1.0</td>\n      <td>1.0</td>\n      <td>15.0</td>\n      <td>NaN</td>\n      <td>12.0</td>\n      <td>departamento</td>\n      <td>None</td>\n      <td>80000.0</td>\n      <td>https://www.portalinmobiliario.com/MLC-1526541...</td>\n      <td>1</td>\n      <td>1.350000e+08</td>\n      <td>3564.23</td>\n      <td>venta</td>\n      <td>2024-09-21 15:22:18.966518</td>\n      <td>0.034800</td>\n    </tr>\n    <tr>\n      <th>983</th>\n      <td>10.0</td>\n      <td>3.0</td>\n      <td>1.0</td>\n      <td>70.0</td>\n      <td>66.0</td>\n      <td>1.0</td>\n      <td>0.0</td>\n      <td>50.0</td>\n      <td>4.0</td>\n      <td>3.0</td>\n      <td>departamento</td>\n      <td>O</td>\n      <td>10000.0</td>\n      <td>https://www.portalinmobiliario.com/MLC-1524096...</td>\n      <td>1</td>\n      <td>1.136291e+08</td>\n      <td>3000.00</td>\n      <td>venta</td>\n      <td>2024-09-21 15:22:18.976075</td>\n      <td>0.052803</td>\n    </tr>\n    <tr>\n      <th>984</th>\n      <td>8.0</td>\n      <td>3.0</td>\n      <td>2.0</td>\n      <td>70.0</td>\n      <td>70.0</td>\n      <td>2.0</td>\n      <td>1.0</td>\n      <td>20.0</td>\n      <td>20.0</td>\n      <td>9.0</td>\n      <td>departamento</td>\n      <td>SO</td>\n      <td>100000.0</td>\n      <td>https://www.portalinmobiliario.com/MLC-2695991...</td>\n      <td>1</td>\n      <td>1.477178e+08</td>\n      <td>3900.00</td>\n      <td>venta</td>\n      <td>2024-09-21 15:22:18.986664</td>\n      <td>0.040618</td>\n    </tr>\n    <tr>\n      <th>...</th>\n      <td>...</td>\n      <td>...</td>\n      <td>...</td>\n      <td>...</td>\n      <td>...</td>\n      <td>...</td>\n      <td>...</td>\n      <td>...</td>\n      <td>...</td>\n      <td>...</td>\n      <td>...</td>\n      <td>...</td>\n      <td>...</td>\n      <td>...</td>\n      <td>...</td>\n      <td>...</td>\n      <td>...</td>\n      <td>...</td>\n      <td>...</td>\n      <td>...</td>\n    </tr>\n    <tr>\n      <th>3037</th>\n      <td>45.0</td>\n      <td>3.0</td>\n      <td>1.0</td>\n      <td>65.0</td>\n      <td>60.0</td>\n      <td>0.0</td>\n      <td>0.0</td>\n      <td>40.0</td>\n      <td>4.0</td>\n      <td>3.0</td>\n      <td>departamento</td>\n      <td>NO</td>\n      <td>55000.0</td>\n      <td>https://www.portalinmobiliario.com/MLC-2698602...</td>\n      <td>1</td>\n      <td>1.249920e+08</td>\n      <td>3300.00</td>\n      <td>venta</td>\n      <td>2024-09-21 15:25:54.728000</td>\n      <td>0.048003</td>\n    </tr>\n    <tr>\n      <th>3038</th>\n      <td>38.0</td>\n      <td>1.0</td>\n      <td>1.0</td>\n      <td>45.0</td>\n      <td>45.0</td>\n      <td>1.0</td>\n      <td>1.0</td>\n      <td>1.0</td>\n      <td>12.0</td>\n      <td>12.0</td>\n      <td>departamento</td>\n      <td>NO</td>\n      <td>60000.0</td>\n      <td>https://www.portalinmobiliario.com/MLC-2696666...</td>\n      <td>1</td>\n      <td>8.711565e+07</td>\n      <td>2300.00</td>\n      <td>venta</td>\n      <td>2024-09-21 15:25:54.738754</td>\n      <td>0.044079</td>\n    </tr>\n    <tr>\n      <th>3039</th>\n      <td>22.0</td>\n      <td>3.0</td>\n      <td>1.0</td>\n      <td>60.0</td>\n      <td>60.0</td>\n      <td>0.0</td>\n      <td>0.0</td>\n      <td>20.0</td>\n      <td>1.0</td>\n      <td>1.0</td>\n      <td>departamento</td>\n      <td>NP</td>\n      <td>50000.0</td>\n      <td>https://www.portalinmobiliario.com/MLC-1520179...</td>\n      <td>1</td>\n      <td>9.400000e+07</td>\n      <td>2481.76</td>\n      <td>venta</td>\n      <td>2024-09-21 15:25:54.747941</td>\n      <td>0.063830</td>\n    </tr>\n    <tr>\n      <th>3040</th>\n      <td>1.0</td>\n      <td>2.0</td>\n      <td>1.0</td>\n      <td>46.0</td>\n      <td>42.0</td>\n      <td>0.0</td>\n      <td>NaN</td>\n      <td>5.0</td>\n      <td>16.0</td>\n      <td>NaN</td>\n      <td>departamento</td>\n      <td>None</td>\n      <td>100000.0</td>\n      <td>https://www.portalinmobiliario.com/MLC-1527891...</td>\n      <td>1</td>\n      <td>1.136291e+08</td>\n      <td>3000.00</td>\n      <td>venta</td>\n      <td>2024-09-21 15:25:54.759166</td>\n      <td>0.041345</td>\n    </tr>\n    <tr>\n      <th>3041</th>\n      <td>1.0</td>\n      <td>3.0</td>\n      <td>2.0</td>\n      <td>78.0</td>\n      <td>76.0</td>\n      <td>1.0</td>\n      <td>NaN</td>\n      <td>16.0</td>\n      <td>18.0</td>\n      <td>NaN</td>\n      <td>departamento</td>\n      <td>None</td>\n      <td>110000.0</td>\n      <td>https://www.portalinmobiliario.com/MLC-1527839...</td>\n      <td>1</td>\n      <td>1.742305e+08</td>\n      <td>4599.98</td>\n      <td>venta</td>\n      <td>2024-09-21 15:25:54.768586</td>\n      <td>0.034437</td>\n    </tr>\n  </tbody>\n</table>\n<p>1082 rows × 20 columns</p>\n</div>"
     },
     "execution_count": 47,
     "metadata": {},
     "output_type": "execute_result"
    }
   ],
   "source": [
    "WSPI.analysis_results[\"df_caprate_departamento\"]"
   ],
   "metadata": {
    "collapsed": false,
    "ExecuteTime": {
     "end_time": "2024-09-22T15:52:04.183337Z",
     "start_time": "2024-09-22T15:52:04.078093Z"
    }
   },
   "id": "eb7dbd741982be3f",
   "execution_count": 47
  },
  {
   "cell_type": "markdown",
   "source": [
    "# APRENDIZAJES"
   ],
   "metadata": {
    "collapsed": false
   },
   "id": "446fa83cdae743ea"
  },
  {
   "cell_type": "markdown",
   "source": [
    "\n",
    "webdriver\n",
    "2. es bueno reiniciar y cerrar el driver\n",
    "2. el estado de la pagina (restricciones) cambiara solo con el refresh!!\n",
    "3. Si se aplica un init y luego get/request no retornara NADA (PUEDE QUE SI PERO EN GENERAL NO PORQUE ES UN USER NUEVO SE ASOCIARA CON WEBSCRAPPING)\n",
    "4. el orden correcto sera\n",
    "\n",
    "close--> init--> request (primera vez ,  alta probabilida de falla) -->  refresh (recarga y se puede obtener la tabla y ubicaciion)\n",
    "\n",
    "#### aveces el http de inspeccionar no te dice realmente los codigos para la extraccion. revisar desde el json"
   ],
   "metadata": {
    "collapsed": false
   },
   "id": "a8937b1e890d1dc4"
  },
  {
   "cell_type": "code",
   "outputs": [],
   "source": [],
   "metadata": {
    "collapsed": false
   },
   "id": "a4b2daeee59fc5ff"
  }
 ],
 "metadata": {
  "kernelspec": {
   "display_name": "Python 3",
   "language": "python",
   "name": "python3"
  },
  "language_info": {
   "codemirror_mode": {
    "name": "ipython",
    "version": 2
   },
   "file_extension": ".py",
   "mimetype": "text/x-python",
   "name": "python",
   "nbconvert_exporter": "python",
   "pygments_lexer": "ipython2",
   "version": "2.7.6"
  }
 },
 "nbformat": 4,
 "nbformat_minor": 5
}
