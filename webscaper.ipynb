{
 "cells": [
  {
   "cell_type": "code",
   "outputs": [
    {
     "name": "stdout",
     "output_type": "stream",
     "text": [
      "The autoreload extension is already loaded. To reload it, use:\n",
      "  %reload_ext autoreload\n"
     ]
    }
   ],
   "source": [
    "%load_ext autoreload\n",
    "%autoreload 2"
   ],
   "metadata": {
    "collapsed": false,
    "ExecuteTime": {
     "end_time": "2024-07-05T22:31:14.281762Z",
     "start_time": "2024-07-05T22:31:14.153930Z"
    }
   },
   "id": "c76e8862c3f8de5a",
   "execution_count": 34
  },
  {
   "metadata": {
    "ExecuteTime": {
     "end_time": "2024-07-05T22:31:14.483758Z",
     "start_time": "2024-07-05T22:31:14.388715Z"
    }
   },
   "cell_type": "code",
   "source": [
    "from webscrapper_portal_inmobiliario import *"
   ],
   "id": "f83798ce4459a42b",
   "outputs": [],
   "execution_count": 35
  },
  {
   "cell_type": "code",
   "id": "initial_id",
   "metadata": {
    "collapsed": true,
    "ExecuteTime": {
     "end_time": "2024-07-05T22:31:16.585072Z",
     "start_time": "2024-07-05T22:31:14.877689Z"
    }
   },
   "source": [
    "WSPI = WebScraperPortalInmobiliario(tipo_operacion=\"inversion\",\n",
    "                                    tipo_inmueble=\"casa\",\n",
    "                                    save_data=True,\n",
    "                                    theme=\"default\")"
   ],
   "outputs": [
    {
     "data": {
      "text/plain": "Map(center=[-33.4489, -70.6693], controls=(ZoomControl(options=['position', 'zoom_in_text', 'zoom_in_title', '…",
      "application/vnd.jupyter.widget-view+json": {
       "version_major": 2,
       "version_minor": 0,
       "model_id": "fe2214f39e434ea1b01782b4387d5f70"
      }
     },
     "metadata": {},
     "output_type": "display_data"
    },
    {
     "data": {
      "text/plain": "SELECT REGION TO ANALYZE ...:   0%|          | 0/100 [00:00<?, ?it/s]",
      "application/vnd.jupyter.widget-view+json": {
       "version_major": 2,
       "version_minor": 0,
       "model_id": "48a1e85f32ce44aa8b6624640f997a47"
      },
      "application/json": {
       "n": 0,
       "total": 100,
       "elapsed": 0.028591394424438477,
       "ncols": null,
       "nrows": null,
       "prefix": "SELECT REGION TO ANALYZE ...",
       "ascii": false,
       "unit": "it",
       "unit_scale": false,
       "rate": null,
       "bar_format": null,
       "postfix": null,
       "unit_divisor": 1000,
       "initial": 0,
       "colour": null
      }
     },
     "metadata": {},
     "output_type": "display_data"
    }
   ],
   "execution_count": 36
  },
  {
   "cell_type": "code",
   "outputs": [
    {
     "data": {
      "text/plain": "                                               titulo     precio  \\\n0             Casa 3 Pisos Con Mansarda Planta Libre    980000.0   \n1   Casa Aislada De 1 Piso Con Acceso Controlado S...   800000.0   \n2           Casa En Arriendo De 4 Dorm. En La Florida  1400000.0   \n3                Arriendo Casa Rojas Magallanes 5d 2b   826993.2   \n4           Casa En Arriendo De 6 Dorm. En La Florida  2668932.6   \n5   Enrique Olivares / Costa Rica 3 Dor 1 Baño  (3...  1350000.0   \n6   Av La Florida Rojas Magallanes 3 Dormitorios 2...   690000.0   \n7           Entre Rojas Magallanes Y Enrique Olivares   780000.0   \n8            Conjunto Residencial Santa Delia (35279)  1400000.0   \n9                           Casa Venezuela Id: 122763  2397798.0   \n10             Arriendo Casa 4 Dorm., Av. La Florida.   980000.0   \n11  Casa, Plena Avda. La Florida 9404.uso Comercia...  1200000.0   \n12       Arriendo/ Terreno Comercial Rojas Magallanes  2067483.0   \n13       Casa 3 Dormitorios 3 Baños 1 Estacionamiento   800000.0   \n14           Arriendo Casa Ascot, 19 Florida Oriente.   650000.0   \n\n                                            ubicacion  n_dormitorios  n_banos  \\\n0   Santa Adela, La Florida, Chile, La Florida Alt...              3        3   \n1   Panamá 8896, La Florida, Rojas Magallanes, La ...              4        2   \n2   Rojas Magallanes, La Florida Alto, La Florida,...              4        3   \n3   Los Adobes, 2400 - 2700, La Florida Alto, La F...              5        2   \n4   Con Rojas Magallanes, Rojas Magallanes, La Flo...              6        4   \n5   Enrique Olivares / Costa Rica 3 Dor 1 Baño, Ro...              3        1   \n6   Ponce De Zamora 9320, 8301840 La Florida, Regi...              3        2   \n7   Entre Rojas Magallanes Y Enrique Olivares, Roj...              4        3   \n8   Conjunto Residencial Santa Delia, La Florida A...              4        3   \n9   Venezuela, Rojas Magallanes, La Florida, RM (M...              6        3   \n10  Av. La Florida/rojas Magallanes, La Florida, R...              4        2   \n11  Avenida La Florida 9404, La Florida, Chile, La...              3        2   \n12   Rojas Magallanes, La Florida, RM (Metropolitana)              0        0   \n13  Panama Sn, Rojas Magallanes, La Florida, RM (M...              3        3   \n14  Ascot 9439, La Florida, Región Metropolitana, ...              3        2   \n\n    superficie_total  superficie_util    latitud   longitud  \\\n0                132              132 -33.532870 -70.568822   \n1                200              120 -33.533249 -70.580874   \n2              22774             1644 -33.534243 -70.570022   \n3                190               90 -33.534974 -70.567027   \n4                400              400 -33.536359 -70.580784   \n5                254               80 -33.538119 -70.577593   \n6                200              120 -33.536567 -70.570293   \n7                180               91 -33.537049 -70.577367   \n8                230              140 -33.533704 -70.570762   \n9               1100              400 -33.536529 -70.580497   \n10               190               99 -33.536698 -70.572693   \n11               180               93 -33.538869 -70.571556   \n12               642              642 -33.535582 -70.573747   \n13                90              100 -33.533836 -70.580641   \n14               180               75 -33.539310 -70.566665   \n\n    dias_desde_publicacion  estacionamientos  bodegas  \\\n0                        7                 2        0   \n1                        7                 1        0   \n2                        5                 0        0   \n3                        7                 3        0   \n4                        3                10        1   \n5                        7                 3        2   \n6                       10                 1        0   \n7                       20                 2        0   \n8                       13                 2        1   \n9                       12                10        1   \n10                       8                 2        0   \n11                      39                 2        1   \n12                      22                 0        0   \n13                      10                 1        0   \n14                      49                 2        0   \n\n    cantidad_pisos_edificio  piso_unidad tipo_casa orientacion  antiguedad  \\\n0                       3.0          NaN      Casa          NO        15.0   \n1                       NaN          NaN       NaN         NaN         NaN   \n2                       2.0          NaN         -     Oriente         0.0   \n3                       2.0          NaN      Casa           N        33.0   \n4                       0.0          NaN         -           -         0.0   \n5                       1.0          NaN      Casa           O        24.0   \n6                       1.0          NaN      Casa          NO        30.0   \n7                       3.0          NaN      Casa           O        10.0   \n8                       2.0          NaN      Casa         NaN        19.0   \n9                       NaN          NaN      Casa           P         0.0   \n10                      2.0          NaN  Bungalow     Oriente        32.0   \n11                      2.0          NaN      Casa         NaN        34.0   \n12                      NaN          NaN      Casa           S         NaN   \n13                      NaN          NaN       NaN         NaN         NaN   \n14                      1.0          NaN      Casa         NaN         NaN   \n\n                                                 link  \n0   https://www.portalinmobiliario.com/MLC-1498328...  \n1   https://www.portalinmobiliario.com/MLC-1498307...  \n2   https://www.portalinmobiliario.com/MLC-2539344...  \n3   https://www.portalinmobiliario.com/MLC-2538405...  \n4   https://www.portalinmobiliario.com/MLC-2543265...  \n5   https://www.portalinmobiliario.com/MLC-2538022...  \n6   https://www.portalinmobiliario.com/MLC-1496926...  \n7   https://www.portalinmobiliario.com/MLC-2502057...  \n8   https://www.portalinmobiliario.com/MLC-1495929...  \n9   https://www.portalinmobiliario.com/MLC-2518366...  \n10  https://www.portalinmobiliario.com/MLC-1497880...  \n11  https://www.portalinmobiliario.com/MLC-2460928...  \n12  https://www.portalinmobiliario.com/MLC-2498091...  \n13  https://www.portalinmobiliario.com/MLC-2523235...  \n14  https://www.portalinmobiliario.com/MLC-2543103...  ",
      "text/html": "<div>\n<style scoped>\n    .dataframe tbody tr th:only-of-type {\n        vertical-align: middle;\n    }\n\n    .dataframe tbody tr th {\n        vertical-align: top;\n    }\n\n    .dataframe thead th {\n        text-align: right;\n    }\n</style>\n<table border=\"1\" class=\"dataframe\">\n  <thead>\n    <tr style=\"text-align: right;\">\n      <th></th>\n      <th>titulo</th>\n      <th>precio</th>\n      <th>ubicacion</th>\n      <th>n_dormitorios</th>\n      <th>n_banos</th>\n      <th>superficie_total</th>\n      <th>superficie_util</th>\n      <th>latitud</th>\n      <th>longitud</th>\n      <th>dias_desde_publicacion</th>\n      <th>estacionamientos</th>\n      <th>bodegas</th>\n      <th>cantidad_pisos_edificio</th>\n      <th>piso_unidad</th>\n      <th>tipo_casa</th>\n      <th>orientacion</th>\n      <th>antiguedad</th>\n      <th>link</th>\n    </tr>\n  </thead>\n  <tbody>\n    <tr>\n      <th>0</th>\n      <td>Casa 3 Pisos Con Mansarda Planta Libre</td>\n      <td>980000.0</td>\n      <td>Santa Adela, La Florida, Chile, La Florida Alt...</td>\n      <td>3</td>\n      <td>3</td>\n      <td>132</td>\n      <td>132</td>\n      <td>-33.532870</td>\n      <td>-70.568822</td>\n      <td>7</td>\n      <td>2</td>\n      <td>0</td>\n      <td>3.0</td>\n      <td>NaN</td>\n      <td>Casa</td>\n      <td>NO</td>\n      <td>15.0</td>\n      <td>https://www.portalinmobiliario.com/MLC-1498328...</td>\n    </tr>\n    <tr>\n      <th>1</th>\n      <td>Casa Aislada De 1 Piso Con Acceso Controlado S...</td>\n      <td>800000.0</td>\n      <td>Panamá 8896, La Florida, Rojas Magallanes, La ...</td>\n      <td>4</td>\n      <td>2</td>\n      <td>200</td>\n      <td>120</td>\n      <td>-33.533249</td>\n      <td>-70.580874</td>\n      <td>7</td>\n      <td>1</td>\n      <td>0</td>\n      <td>NaN</td>\n      <td>NaN</td>\n      <td>NaN</td>\n      <td>NaN</td>\n      <td>NaN</td>\n      <td>https://www.portalinmobiliario.com/MLC-1498307...</td>\n    </tr>\n    <tr>\n      <th>2</th>\n      <td>Casa En Arriendo De 4 Dorm. En La Florida</td>\n      <td>1400000.0</td>\n      <td>Rojas Magallanes, La Florida Alto, La Florida,...</td>\n      <td>4</td>\n      <td>3</td>\n      <td>22774</td>\n      <td>1644</td>\n      <td>-33.534243</td>\n      <td>-70.570022</td>\n      <td>5</td>\n      <td>0</td>\n      <td>0</td>\n      <td>2.0</td>\n      <td>NaN</td>\n      <td>-</td>\n      <td>Oriente</td>\n      <td>0.0</td>\n      <td>https://www.portalinmobiliario.com/MLC-2539344...</td>\n    </tr>\n    <tr>\n      <th>3</th>\n      <td>Arriendo Casa Rojas Magallanes 5d 2b</td>\n      <td>826993.2</td>\n      <td>Los Adobes, 2400 - 2700, La Florida Alto, La F...</td>\n      <td>5</td>\n      <td>2</td>\n      <td>190</td>\n      <td>90</td>\n      <td>-33.534974</td>\n      <td>-70.567027</td>\n      <td>7</td>\n      <td>3</td>\n      <td>0</td>\n      <td>2.0</td>\n      <td>NaN</td>\n      <td>Casa</td>\n      <td>N</td>\n      <td>33.0</td>\n      <td>https://www.portalinmobiliario.com/MLC-2538405...</td>\n    </tr>\n    <tr>\n      <th>4</th>\n      <td>Casa En Arriendo De 6 Dorm. En La Florida</td>\n      <td>2668932.6</td>\n      <td>Con Rojas Magallanes, Rojas Magallanes, La Flo...</td>\n      <td>6</td>\n      <td>4</td>\n      <td>400</td>\n      <td>400</td>\n      <td>-33.536359</td>\n      <td>-70.580784</td>\n      <td>3</td>\n      <td>10</td>\n      <td>1</td>\n      <td>0.0</td>\n      <td>NaN</td>\n      <td>-</td>\n      <td>-</td>\n      <td>0.0</td>\n      <td>https://www.portalinmobiliario.com/MLC-2543265...</td>\n    </tr>\n    <tr>\n      <th>5</th>\n      <td>Enrique Olivares / Costa Rica 3 Dor 1 Baño  (3...</td>\n      <td>1350000.0</td>\n      <td>Enrique Olivares / Costa Rica 3 Dor 1 Baño, Ro...</td>\n      <td>3</td>\n      <td>1</td>\n      <td>254</td>\n      <td>80</td>\n      <td>-33.538119</td>\n      <td>-70.577593</td>\n      <td>7</td>\n      <td>3</td>\n      <td>2</td>\n      <td>1.0</td>\n      <td>NaN</td>\n      <td>Casa</td>\n      <td>O</td>\n      <td>24.0</td>\n      <td>https://www.portalinmobiliario.com/MLC-2538022...</td>\n    </tr>\n    <tr>\n      <th>6</th>\n      <td>Av La Florida Rojas Magallanes 3 Dormitorios 2...</td>\n      <td>690000.0</td>\n      <td>Ponce De Zamora 9320, 8301840 La Florida, Regi...</td>\n      <td>3</td>\n      <td>2</td>\n      <td>200</td>\n      <td>120</td>\n      <td>-33.536567</td>\n      <td>-70.570293</td>\n      <td>10</td>\n      <td>1</td>\n      <td>0</td>\n      <td>1.0</td>\n      <td>NaN</td>\n      <td>Casa</td>\n      <td>NO</td>\n      <td>30.0</td>\n      <td>https://www.portalinmobiliario.com/MLC-1496926...</td>\n    </tr>\n    <tr>\n      <th>7</th>\n      <td>Entre Rojas Magallanes Y Enrique Olivares</td>\n      <td>780000.0</td>\n      <td>Entre Rojas Magallanes Y Enrique Olivares, Roj...</td>\n      <td>4</td>\n      <td>3</td>\n      <td>180</td>\n      <td>91</td>\n      <td>-33.537049</td>\n      <td>-70.577367</td>\n      <td>20</td>\n      <td>2</td>\n      <td>0</td>\n      <td>3.0</td>\n      <td>NaN</td>\n      <td>Casa</td>\n      <td>O</td>\n      <td>10.0</td>\n      <td>https://www.portalinmobiliario.com/MLC-2502057...</td>\n    </tr>\n    <tr>\n      <th>8</th>\n      <td>Conjunto Residencial Santa Delia (35279)</td>\n      <td>1400000.0</td>\n      <td>Conjunto Residencial Santa Delia, La Florida A...</td>\n      <td>4</td>\n      <td>3</td>\n      <td>230</td>\n      <td>140</td>\n      <td>-33.533704</td>\n      <td>-70.570762</td>\n      <td>13</td>\n      <td>2</td>\n      <td>1</td>\n      <td>2.0</td>\n      <td>NaN</td>\n      <td>Casa</td>\n      <td>NaN</td>\n      <td>19.0</td>\n      <td>https://www.portalinmobiliario.com/MLC-1495929...</td>\n    </tr>\n    <tr>\n      <th>9</th>\n      <td>Casa Venezuela Id: 122763</td>\n      <td>2397798.0</td>\n      <td>Venezuela, Rojas Magallanes, La Florida, RM (M...</td>\n      <td>6</td>\n      <td>3</td>\n      <td>1100</td>\n      <td>400</td>\n      <td>-33.536529</td>\n      <td>-70.580497</td>\n      <td>12</td>\n      <td>10</td>\n      <td>1</td>\n      <td>NaN</td>\n      <td>NaN</td>\n      <td>Casa</td>\n      <td>P</td>\n      <td>0.0</td>\n      <td>https://www.portalinmobiliario.com/MLC-2518366...</td>\n    </tr>\n    <tr>\n      <th>10</th>\n      <td>Arriendo Casa 4 Dorm., Av. La Florida.</td>\n      <td>980000.0</td>\n      <td>Av. La Florida/rojas Magallanes, La Florida, R...</td>\n      <td>4</td>\n      <td>2</td>\n      <td>190</td>\n      <td>99</td>\n      <td>-33.536698</td>\n      <td>-70.572693</td>\n      <td>8</td>\n      <td>2</td>\n      <td>0</td>\n      <td>2.0</td>\n      <td>NaN</td>\n      <td>Bungalow</td>\n      <td>Oriente</td>\n      <td>32.0</td>\n      <td>https://www.portalinmobiliario.com/MLC-1497880...</td>\n    </tr>\n    <tr>\n      <th>11</th>\n      <td>Casa, Plena Avda. La Florida 9404.uso Comercia...</td>\n      <td>1200000.0</td>\n      <td>Avenida La Florida 9404, La Florida, Chile, La...</td>\n      <td>3</td>\n      <td>2</td>\n      <td>180</td>\n      <td>93</td>\n      <td>-33.538869</td>\n      <td>-70.571556</td>\n      <td>39</td>\n      <td>2</td>\n      <td>1</td>\n      <td>2.0</td>\n      <td>NaN</td>\n      <td>Casa</td>\n      <td>NaN</td>\n      <td>34.0</td>\n      <td>https://www.portalinmobiliario.com/MLC-2460928...</td>\n    </tr>\n    <tr>\n      <th>12</th>\n      <td>Arriendo/ Terreno Comercial Rojas Magallanes</td>\n      <td>2067483.0</td>\n      <td>Rojas Magallanes, La Florida, RM (Metropolitana)</td>\n      <td>0</td>\n      <td>0</td>\n      <td>642</td>\n      <td>642</td>\n      <td>-33.535582</td>\n      <td>-70.573747</td>\n      <td>22</td>\n      <td>0</td>\n      <td>0</td>\n      <td>NaN</td>\n      <td>NaN</td>\n      <td>Casa</td>\n      <td>S</td>\n      <td>NaN</td>\n      <td>https://www.portalinmobiliario.com/MLC-2498091...</td>\n    </tr>\n    <tr>\n      <th>13</th>\n      <td>Casa 3 Dormitorios 3 Baños 1 Estacionamiento</td>\n      <td>800000.0</td>\n      <td>Panama Sn, Rojas Magallanes, La Florida, RM (M...</td>\n      <td>3</td>\n      <td>3</td>\n      <td>90</td>\n      <td>100</td>\n      <td>-33.533836</td>\n      <td>-70.580641</td>\n      <td>10</td>\n      <td>1</td>\n      <td>0</td>\n      <td>NaN</td>\n      <td>NaN</td>\n      <td>NaN</td>\n      <td>NaN</td>\n      <td>NaN</td>\n      <td>https://www.portalinmobiliario.com/MLC-2523235...</td>\n    </tr>\n    <tr>\n      <th>14</th>\n      <td>Arriendo Casa Ascot, 19 Florida Oriente.</td>\n      <td>650000.0</td>\n      <td>Ascot 9439, La Florida, Región Metropolitana, ...</td>\n      <td>3</td>\n      <td>2</td>\n      <td>180</td>\n      <td>75</td>\n      <td>-33.539310</td>\n      <td>-70.566665</td>\n      <td>49</td>\n      <td>2</td>\n      <td>0</td>\n      <td>1.0</td>\n      <td>NaN</td>\n      <td>Casa</td>\n      <td>NaN</td>\n      <td>NaN</td>\n      <td>https://www.portalinmobiliario.com/MLC-2543103...</td>\n    </tr>\n  </tbody>\n</table>\n</div>"
     },
     "execution_count": 39,
     "metadata": {},
     "output_type": "execute_result"
    }
   ],
   "source": [
    "WSPI.df_inversion_arriendo"
   ],
   "metadata": {
    "collapsed": false,
    "ExecuteTime": {
     "end_time": "2024-07-05T22:52:11.135319Z",
     "start_time": "2024-07-05T22:52:11.027931Z"
    }
   },
   "id": "e1b44efbdb85312c",
   "execution_count": 39
  },
  {
   "cell_type": "code",
   "outputs": [],
   "source": [],
   "metadata": {
    "collapsed": false
   },
   "id": "b601d0367900b014"
  }
 ],
 "metadata": {
  "kernelspec": {
   "display_name": "Python 3",
   "language": "python",
   "name": "python3"
  },
  "language_info": {
   "codemirror_mode": {
    "name": "ipython",
    "version": 2
   },
   "file_extension": ".py",
   "mimetype": "text/x-python",
   "name": "python",
   "nbconvert_exporter": "python",
   "pygments_lexer": "ipython2",
   "version": "2.7.6"
  }
 },
 "nbformat": 4,
 "nbformat_minor": 5
}
