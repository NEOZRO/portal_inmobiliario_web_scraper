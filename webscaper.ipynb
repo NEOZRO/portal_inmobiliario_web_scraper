{
 "cells": [
  {
   "cell_type": "code",
   "outputs": [
    {
     "name": "stdout",
     "output_type": "stream",
     "text": [
      "The autoreload extension is already loaded. To reload it, use:\n",
      "  %reload_ext autoreload\n"
     ]
    }
   ],
   "source": [
    "%load_ext autoreload\n",
    "%autoreload 2"
   ],
   "metadata": {
    "collapsed": false,
    "ExecuteTime": {
     "end_time": "2024-07-15T13:42:58.975104Z",
     "start_time": "2024-07-15T13:42:58.341042Z"
    }
   },
   "id": "c76e8862c3f8de5a",
   "execution_count": 4
  },
  {
   "cell_type": "markdown",
   "source": [
    "https://openaccess.uoc.edu/bitstream/10609/148363/3/miravecaTFG0623memoria.pdf"
   ],
   "metadata": {
    "collapsed": false
   },
   "id": "1d1ac9f156c6ea82"
  },
  {
   "metadata": {
    "ExecuteTime": {
     "end_time": "2024-07-15T13:42:59.068733Z",
     "start_time": "2024-07-15T13:42:58.975633Z"
    }
   },
   "cell_type": "code",
   "source": [
    "from webscrapper_portal_inmobiliario import *"
   ],
   "id": "f83798ce4459a42b",
   "outputs": [],
   "execution_count": 5
  },
  {
   "cell_type": "markdown",
   "source": [
    "### TODO:\n",
    "- trackear propiedades en el tiempo para el mismo sector  SE HACE CON LA [LAT LONG]\n",
    "- Calculos de estadicticas de rentabilidad\n",
    "- rankear propiedades basado en esto\n",
    "- grafico mapa donde se encuentran estas propiedades\n",
    "- extraer imagenes del TOP 3 Propiedades\n",
    "\n"
   ],
   "metadata": {
    "collapsed": false
   },
   "id": "67c501318ab4de82"
  },
  {
   "cell_type": "code",
   "id": "initial_id",
   "metadata": {
    "collapsed": true,
    "ExecuteTime": {
     "end_time": "2024-07-15T13:43:05.746933Z",
     "start_time": "2024-07-15T13:42:59.591741Z"
    }
   },
   "source": [
    "WSPI = WebScraperPortalInmobiliario(tipo_operacion=\"inversion\",\n",
    "                                    tipo_inmueble=\"departamento\",\n",
    "                                    theme=\"default\",\n",
    "                                    folder_save_name=\"zone_sin_nada\")"
   ],
   "outputs": [
    {
     "data": {
      "text/plain": "Map(center=[-33.4489, -70.6693], controls=(ZoomControl(options=['position', 'zoom_in_text', 'zoom_in_title', '…",
      "application/vnd.jupyter.widget-view+json": {
       "version_major": 2,
       "version_minor": 0,
       "model_id": "e9e4a9e116f0428384bd43b067627447"
      }
     },
     "metadata": {},
     "output_type": "display_data"
    },
    {
     "data": {
      "text/plain": "SELECT REGION TO ANALYZE ...:   0%|          | 0/100 [00:00<?, ?it/s]",
      "application/vnd.jupyter.widget-view+json": {
       "version_major": 2,
       "version_minor": 0,
       "model_id": "48dea15416e240128fd8093242c9759b"
      },
      "application/json": {
       "n": 0,
       "total": 100,
       "elapsed": 0.05410575866699219,
       "ncols": null,
       "nrows": null,
       "prefix": "SELECT REGION TO ANALYZE ...",
       "ascii": false,
       "unit": "it",
       "unit_scale": false,
       "rate": null,
       "bar_format": null,
       "postfix": null,
       "unit_divisor": 1000,
       "initial": 0,
       "colour": null
      }
     },
     "metadata": {},
     "output_type": "display_data"
    }
   ],
   "execution_count": 6
  },
  {
   "cell_type": "code",
   "outputs": [],
   "source": [
    "WSPI"
   ],
   "metadata": {
    "collapsed": false
   },
   "id": "8255b0c38c96c5f6"
  },
  {
   "cell_type": "markdown",
   "source": [
    "## fixex\n",
    "- REVISAR QUE FUNCIONE BIEN la barra de progreso, si no encuentra casa, poner mensaje especial en tqdm\n",
    "- agregar columna de precio en UF. PARA VER DESARROLLO EN EL TIEMPO\n",
    "- manejo de errores que se vayan escribiendo dentro"
   ],
   "metadata": {
    "collapsed": false
   },
   "id": "6199f682006ce2e5"
  },
  {
   "cell_type": "code",
   "outputs": [],
   "source": [],
   "metadata": {
    "collapsed": false
   },
   "id": "fa822dd3f35c1fc6"
  }
 ],
 "metadata": {
  "kernelspec": {
   "display_name": "Python 3",
   "language": "python",
   "name": "python3"
  },
  "language_info": {
   "codemirror_mode": {
    "name": "ipython",
    "version": 2
   },
   "file_extension": ".py",
   "mimetype": "text/x-python",
   "name": "python",
   "nbconvert_exporter": "python",
   "pygments_lexer": "ipython2",
   "version": "2.7.6"
  }
 },
 "nbformat": 4,
 "nbformat_minor": 5
}
