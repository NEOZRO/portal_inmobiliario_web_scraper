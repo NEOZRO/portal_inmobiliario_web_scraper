{
 "cells": [
  {
   "cell_type": "code",
   "outputs": [
    {
     "name": "stdout",
     "output_type": "stream",
     "text": [
      "The autoreload extension is already loaded. To reload it, use:\n",
      "  %reload_ext autoreload\n"
     ]
    }
   ],
   "source": [
    "import numpy as np\n",
    "%load_ext autoreload\n",
    "%autoreload 2"
   ],
   "metadata": {
    "collapsed": false,
    "ExecuteTime": {
     "end_time": "2024-07-17T20:03:56.998235Z",
     "start_time": "2024-07-17T20:03:56.827738Z"
    }
   },
   "id": "c76e8862c3f8de5a",
   "execution_count": 75
  },
  {
   "cell_type": "markdown",
   "source": [
    "https://openaccess.uoc.edu/bitstream/10609/148363/3/miravecaTFG0623memoria.pdf"
   ],
   "metadata": {
    "collapsed": false
   },
   "id": "1d1ac9f156c6ea82"
  },
  {
   "metadata": {
    "ExecuteTime": {
     "end_time": "2024-07-17T20:03:57.634938Z",
     "start_time": "2024-07-17T20:03:57.500937Z"
    }
   },
   "cell_type": "code",
   "source": [
    "from webscrapper_portal_inmobiliario import *"
   ],
   "id": "f83798ce4459a42b",
   "outputs": [],
   "execution_count": 76
  },
  {
   "cell_type": "markdown",
   "source": [
    "### TODO:\n",
    "- trackear propiedades en el tiempo para el mismo sector  SE HACE CON LA [LAT LONG]\n",
    "- Calculos de estadicticas de rentabilidad\n",
    "- rankear propiedades basado en esto\n",
    "- grafico mapa donde se encuentran estas propiedades\n",
    "- extraer imagenes del TOP 3 Propiedades\n",
    "\n"
   ],
   "metadata": {
    "collapsed": false
   },
   "id": "67c501318ab4de82"
  },
  {
   "cell_type": "code",
   "id": "initial_id",
   "metadata": {
    "collapsed": true,
    "ExecuteTime": {
     "end_time": "2024-07-17T20:05:02.100Z",
     "start_time": "2024-07-17T20:03:58.658810Z"
    }
   },
   "source": [
    "WSPI = WebScraperPortalInmobiliario(tipo_operacion=\"inversion\",\n",
    "                                    tipo_inmueble=\"departamento\",\n",
    "                                    theme=\"default\",\n",
    "                                    folder_save_name=\"Depas_general_arriagada\")"
   ],
   "outputs": [
    {
     "data": {
      "text/plain": "UPDATING data for location found in Depas_general_arriagada:   0%|          | 0/100 [00:00<?, ?it/s]",
      "application/vnd.jupyter.widget-view+json": {
       "version_major": 2,
       "version_minor": 0,
       "model_id": "65fd7178ddde4a4b85161907363ea41e"
      },
      "application/json": {
       "n": 0,
       "total": 100,
       "elapsed": 0.03699994087219238,
       "ncols": null,
       "nrows": null,
       "prefix": "UPDATING data for location found in Depas_general_arriagada",
       "ascii": false,
       "unit": "it",
       "unit_scale": false,
       "rate": null,
       "bar_format": null,
       "postfix": null,
       "unit_divisor": 1000,
       "initial": 0,
       "colour": null
      }
     },
     "metadata": {},
     "output_type": "display_data"
    }
   ],
   "execution_count": 77
  },
  {
   "cell_type": "markdown",
   "source": [
    "#### benchamrks\n",
    "70 propiedades : 6 minutos\n",
    "250 propiedades: 24 minutos"
   ],
   "metadata": {
    "collapsed": false
   },
   "id": "dab7a16a64b35441"
  },
  {
   "cell_type": "markdown",
   "source": [
    "# fixes:\n",
    "-"
   ],
   "metadata": {
    "collapsed": false
   },
   "id": "6199f682006ce2e5"
  }
 ],
 "metadata": {
  "kernelspec": {
   "display_name": "Python 3",
   "language": "python",
   "name": "python3"
  },
  "language_info": {
   "codemirror_mode": {
    "name": "ipython",
    "version": 2
   },
   "file_extension": ".py",
   "mimetype": "text/x-python",
   "name": "python",
   "nbconvert_exporter": "python",
   "pygments_lexer": "ipython2",
   "version": "2.7.6"
  }
 },
 "nbformat": 4,
 "nbformat_minor": 5
}
