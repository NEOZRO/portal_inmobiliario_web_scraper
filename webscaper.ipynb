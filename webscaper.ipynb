{
 "cells": [
  {
   "cell_type": "code",
   "outputs": [
    {
     "name": "stdout",
     "output_type": "stream",
     "text": [
      "The autoreload extension is already loaded. To reload it, use:\n",
      "  %reload_ext autoreload\n"
     ]
    }
   ],
   "source": [
    "import numpy as np\n",
    "%load_ext autoreload\n",
    "%autoreload 2"
   ],
   "metadata": {
    "collapsed": false,
    "ExecuteTime": {
     "end_time": "2024-07-17T20:03:56.998235Z",
     "start_time": "2024-07-17T20:03:56.827738Z"
    }
   },
   "id": "c76e8862c3f8de5a",
   "execution_count": 75
  },
  {
   "cell_type": "markdown",
   "source": [
    "https://openaccess.uoc.edu/bitstream/10609/148363/3/miravecaTFG0623memoria.pdf"
   ],
   "metadata": {
    "collapsed": false
   },
   "id": "1d1ac9f156c6ea82"
  },
  {
   "metadata": {
    "ExecuteTime": {
     "end_time": "2024-07-17T20:03:57.634938Z",
     "start_time": "2024-07-17T20:03:57.500937Z"
    }
   },
   "cell_type": "code",
   "source": [
    "from webscrapper_portal_inmobiliario import *"
   ],
   "id": "f83798ce4459a42b",
   "outputs": [],
   "execution_count": 76
  },
  {
   "cell_type": "markdown",
   "source": [
    "### TODO:\n",
    "- trackear propiedades en el tiempo para el mismo sector  SE HACE CON LA [LAT LONG]\n",
    "- Calculos de estadicticas de rentabilidad\n",
    "- rankear propiedades basado en esto\n",
    "- grafico mapa donde se encuentran estas propiedades\n",
    "- extraer imagenes del TOP 3 Propiedades\n",
    "\n"
   ],
   "metadata": {
    "collapsed": false
   },
   "id": "67c501318ab4de82"
  },
  {
   "cell_type": "code",
   "id": "initial_id",
   "metadata": {
    "collapsed": true,
    "ExecuteTime": {
     "end_time": "2024-07-17T20:05:02.100Z",
     "start_time": "2024-07-17T20:03:58.658810Z"
    }
   },
   "source": [
    "WSPI = WebScraperPortalInmobiliario(tipo_operacion=\"inversion\",\n",
    "                                    tipo_inmueble=\"departamento\",\n",
    "                                    theme=\"default\",\n",
    "                                    folder_save_name=\"Depas_general_arriagada\")"
   ],
   "outputs": [
    {
     "data": {
      "text/plain": "UPDATING data for location found in Depas_general_arriagada:   0%|          | 0/100 [00:00<?, ?it/s]",
      "application/vnd.jupyter.widget-view+json": {
       "version_major": 2,
       "version_minor": 0,
       "model_id": "65fd7178ddde4a4b85161907363ea41e"
      },
      "application/json": {
       "n": 0,
       "total": 100,
       "elapsed": 0.03699994087219238,
       "ncols": null,
       "nrows": null,
       "prefix": "UPDATING data for location found in Depas_general_arriagada",
       "ascii": false,
       "unit": "it",
       "unit_scale": false,
       "rate": null,
       "bar_format": null,
       "postfix": null,
       "unit_divisor": 1000,
       "initial": 0,
       "colour": null
      }
     },
     "metadata": {},
     "output_type": "display_data"
    }
   ],
   "execution_count": 77
  },
  {
   "cell_type": "markdown",
   "source": [
    "#### benchamrks\n",
    "70 propiedades : 6 minutos\n",
    "250 propiedades: 24 minutos"
   ],
   "metadata": {
    "collapsed": false
   },
   "id": "dab7a16a64b35441"
  },
  {
   "cell_type": "markdown",
   "source": [
    "# fixes:\n",
    "-"
   ],
   "metadata": {
    "collapsed": false
   },
   "id": "6199f682006ce2e5"
  },
  {
   "cell_type": "code",
   "outputs": [],
   "source": [
    "table_data = WSPI.wea[4]\n",
    "total_dict_proerties = {'Superficie total': np.nan,\n",
    "                        'Superficie útil': np.nan,\n",
    "                        'Dormitorios': np.nan,\n",
    "                        'Baños': np.nan,\n",
    "                        'Bodegas': np.nan,\n",
    "                        'Cantidad de pisos': np.nan,\n",
    "                        'Tipo de inmueble': np.nan,\n",
    "                        'Orientación': np.nan,\n",
    "                        'Antigüedad': np.nan,\n",
    "                        'Gastos comunes': np.nan,\n",
    "                        \"Número de piso de la unidad\": np.nan,\n",
    "                        \"Estacionamientos\": np.nan\n",
    "                        }\n",
    "\n",
    "# extracting dinamic table data into dict\n",
    "for i,row in table_data.iterrows():\n",
    "        numeric_bool = row.loc[1].isdigit()\n",
    "        if not numeric_bool: # if not numeric elements in row\n",
    "            elements = row.loc[1].split(\" \")\n",
    "\n",
    "            # if string, tipo inmueble\n",
    "            if row.loc[0] == \"Tipo de casa\" or row.loc[0] == \"Tipo de departamento\":\n",
    "                total_dict_proerties[\"Tipo de inmueble\"] = row.loc[1]\n",
    "                \n",
    "            elif len(elements)>1:\n",
    "                type_data = elements[1]\n",
    "                if type_data==\"m²\": # squared meters\n",
    "                    total_dict_proerties[row.loc[0]] = float(row.loc[1].split(\" \")[0])\n",
    "                else: # int\n",
    "                    total_dict_proerties[row.loc[0]] = int(row.loc[1].split(\" \")[0].replace(\".\",\"\"))\n",
    "            else: #  strings, without spaces\n",
    "                total_dict_proerties[row.loc[0]] = row.loc[1]\n",
    "        else: #just numeric values \n",
    "            total_dict_proerties[row.loc[0]] = int(row.loc[1])\n",
    "            \n",
    "    # except:\n",
    "    #     # in case of errors\n",
    "    #     total_dict_proerties[row.loc[0]] = np.nan"
   ],
   "metadata": {
    "collapsed": false,
    "ExecuteTime": {
     "end_time": "2024-07-17T19:53:15.152845Z",
     "start_time": "2024-07-17T19:53:15.023684Z"
    }
   },
   "id": "1a38fec84819e818",
   "execution_count": 73
  },
  {
   "cell_type": "code",
   "outputs": [
    {
     "data": {
      "text/plain": "{'Superficie total': 56.0,\n 'Superficie útil': 56.0,\n 'Dormitorios': 3,\n 'Baños': 1,\n 'Bodegas': 0,\n 'Cantidad de pisos': 17,\n 'Tipo de inmueble': nan,\n 'Orientación': 'SP',\n 'Antigüedad': 17,\n 'Gastos comunes': nan,\n 'Número de piso de la unidad': 3023,\n 'Estacionamientos': 0,\n 'Superficie de terraza': 0.0,\n 'Ambientes': 3,\n 'Departamentos por piso': 17}"
     },
     "execution_count": 74,
     "metadata": {},
     "output_type": "execute_result"
    }
   ],
   "source": [
    "total_dict_proerties"
   ],
   "metadata": {
    "collapsed": false,
    "ExecuteTime": {
     "end_time": "2024-07-17T19:53:15.754528Z",
     "start_time": "2024-07-17T19:53:15.615517Z"
    }
   },
   "id": "d97d10d2ee034e0f",
   "execution_count": 74
  },
  {
   "cell_type": "code",
   "outputs": [
    {
     "data": {
      "text/plain": "['https://www.portalinmobiliario.com/MLC-1503001823-departamento-en-venta-de-2-dorm-en-la-florida-_JM#position%3D2%26search_layout%3Dmap%26type%3Ditem%26tracking_id%3D3aee58a0-d7ae-49ff-ab1b-572a5bd927e3',\n 'https://www.portalinmobiliario.com/MLC-1501231827-amplio-departamento-23107-_JM#position%3D3%26search_layout%3Dmap%26type%3Ditem%26tracking_id%3D3aee58a0-d7ae-49ff-ab1b-572a5bd927e3',\n 'https://www.portalinmobiliario.com/MLC-2546023514-departamento-remodelado-en-la-florida-_JM#position%3D4%26search_layout%3Dmap%26type%3Ditem%26tracking_id%3D3aee58a0-d7ae-49ff-ab1b-572a5bd927e3',\n 'https://www.portalinmobiliario.com/MLC-2313468462-departamento-en-venta-en-la-florida-_JM#position%3D5%26search_layout%3Dmap%26type%3Ditem%26tracking_id%3D3aee58a0-d7ae-49ff-ab1b-572a5bd927e3',\n 'https://www.portalinmobiliario.com/MLC-1473135003-metro-san-jose-de-la-estrella-vicuna-mackenna-_JM#position%3D6%26search_layout%3Dmap%26type%3Ditem%26tracking_id%3D3aee58a0-d7ae-49ff-ab1b-572a5bd927e3']"
     },
     "execution_count": 66,
     "metadata": {},
     "output_type": "execute_result"
    }
   ],
   "source": [
    "WSPI.cards_urls"
   ],
   "metadata": {
    "collapsed": false,
    "ExecuteTime": {
     "end_time": "2024-07-17T19:42:06.855939Z",
     "start_time": "2024-07-17T19:42:06.702321Z"
    }
   },
   "id": "7c805810a0b627b1",
   "execution_count": 66
  },
  {
   "cell_type": "code",
   "outputs": [
    {
     "data": {
      "text/plain": "                              0             1\n0              Superficie total      65.96 m²\n1               Superficie útil      61.14 m²\n2         Superficie de terraza       4.82 m²\n3                     Ambientes             0\n4                   Dormitorios             3\n5                         Baños             2\n6              Estacionamientos             0\n7                       Bodegas             0\n8             Cantidad de pisos            11\n9        Departamentos por piso             6\n10  Número de piso de la unidad             4\n11         Tipo de departamento  Departamento\n12                  Orientación             N\n13                   Antigüedad       16 años\n14               Gastos comunes     70000 CLP",
      "text/html": "<div>\n<style scoped>\n    .dataframe tbody tr th:only-of-type {\n        vertical-align: middle;\n    }\n\n    .dataframe tbody tr th {\n        vertical-align: top;\n    }\n\n    .dataframe thead th {\n        text-align: right;\n    }\n</style>\n<table border=\"1\" class=\"dataframe\">\n  <thead>\n    <tr style=\"text-align: right;\">\n      <th></th>\n      <th>0</th>\n      <th>1</th>\n    </tr>\n  </thead>\n  <tbody>\n    <tr>\n      <th>0</th>\n      <td>Superficie total</td>\n      <td>65.96 m²</td>\n    </tr>\n    <tr>\n      <th>1</th>\n      <td>Superficie útil</td>\n      <td>61.14 m²</td>\n    </tr>\n    <tr>\n      <th>2</th>\n      <td>Superficie de terraza</td>\n      <td>4.82 m²</td>\n    </tr>\n    <tr>\n      <th>3</th>\n      <td>Ambientes</td>\n      <td>0</td>\n    </tr>\n    <tr>\n      <th>4</th>\n      <td>Dormitorios</td>\n      <td>3</td>\n    </tr>\n    <tr>\n      <th>5</th>\n      <td>Baños</td>\n      <td>2</td>\n    </tr>\n    <tr>\n      <th>6</th>\n      <td>Estacionamientos</td>\n      <td>0</td>\n    </tr>\n    <tr>\n      <th>7</th>\n      <td>Bodegas</td>\n      <td>0</td>\n    </tr>\n    <tr>\n      <th>8</th>\n      <td>Cantidad de pisos</td>\n      <td>11</td>\n    </tr>\n    <tr>\n      <th>9</th>\n      <td>Departamentos por piso</td>\n      <td>6</td>\n    </tr>\n    <tr>\n      <th>10</th>\n      <td>Número de piso de la unidad</td>\n      <td>4</td>\n    </tr>\n    <tr>\n      <th>11</th>\n      <td>Tipo de departamento</td>\n      <td>Departamento</td>\n    </tr>\n    <tr>\n      <th>12</th>\n      <td>Orientación</td>\n      <td>N</td>\n    </tr>\n    <tr>\n      <th>13</th>\n      <td>Antigüedad</td>\n      <td>16 años</td>\n    </tr>\n    <tr>\n      <th>14</th>\n      <td>Gastos comunes</td>\n      <td>70000 CLP</td>\n    </tr>\n  </tbody>\n</table>\n</div>"
     },
     "execution_count": 46,
     "metadata": {},
     "output_type": "execute_result"
    }
   ],
   "source": [
    "table_data"
   ],
   "metadata": {
    "collapsed": false,
    "ExecuteTime": {
     "end_time": "2024-07-17T16:48:30.923783Z",
     "start_time": "2024-07-17T16:48:30.826610Z"
    }
   },
   "id": "637abcc8e1c3e5e5",
   "execution_count": 46
  }
 ],
 "metadata": {
  "kernelspec": {
   "display_name": "Python 3",
   "language": "python",
   "name": "python3"
  },
  "language_info": {
   "codemirror_mode": {
    "name": "ipython",
    "version": 2
   },
   "file_extension": ".py",
   "mimetype": "text/x-python",
   "name": "python",
   "nbconvert_exporter": "python",
   "pygments_lexer": "ipython2",
   "version": "2.7.6"
  }
 },
 "nbformat": 4,
 "nbformat_minor": 5
}
