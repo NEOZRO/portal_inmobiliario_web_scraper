{
 "cells": [
  {
   "cell_type": "code",
   "outputs": [
    {
     "name": "stdout",
     "output_type": "stream",
     "text": [
      "The autoreload extension is already loaded. To reload it, use:\n",
      "  %reload_ext autoreload\n"
     ]
    }
   ],
   "source": [
    "import numpy as np\n",
    "%load_ext autoreload\n",
    "%autoreload 2"
   ],
   "metadata": {
    "collapsed": false,
    "ExecuteTime": {
     "end_time": "2024-07-17T03:50:00.129412Z",
     "start_time": "2024-07-17T03:49:59.990354Z"
    }
   },
   "id": "c76e8862c3f8de5a",
   "execution_count": 19
  },
  {
   "cell_type": "markdown",
   "source": [
    "https://openaccess.uoc.edu/bitstream/10609/148363/3/miravecaTFG0623memoria.pdf"
   ],
   "metadata": {
    "collapsed": false
   },
   "id": "1d1ac9f156c6ea82"
  },
  {
   "metadata": {
    "ExecuteTime": {
     "end_time": "2024-07-17T03:50:01.453597Z",
     "start_time": "2024-07-17T03:50:01.346460Z"
    }
   },
   "cell_type": "code",
   "source": [
    "from webscrapper_portal_inmobiliario import *"
   ],
   "id": "f83798ce4459a42b",
   "outputs": [],
   "execution_count": 20
  },
  {
   "cell_type": "markdown",
   "source": [
    "### TODO:\n",
    "- trackear propiedades en el tiempo para el mismo sector  SE HACE CON LA [LAT LONG]\n",
    "- Calculos de estadicticas de rentabilidad\n",
    "- rankear propiedades basado en esto\n",
    "- grafico mapa donde se encuentran estas propiedades\n",
    "- extraer imagenes del TOP 3 Propiedades\n",
    "\n"
   ],
   "metadata": {
    "collapsed": false
   },
   "id": "67c501318ab4de82"
  },
  {
   "cell_type": "code",
   "id": "initial_id",
   "metadata": {
    "collapsed": true,
    "ExecuteTime": {
     "end_time": "2024-07-17T03:50:56.743541Z",
     "start_time": "2024-07-17T03:50:03.059565Z"
    }
   },
   "source": [
    "WSPI = WebScraperPortalInmobiliario(tipo_operacion=\"inversion\",\n",
    "                                    tipo_inmueble=\"departamento\",\n",
    "                                    theme=\"default\",\n",
    "                                    folder_save_name=\"Depas_general_arriagada\")"
   ],
   "outputs": [
    {
     "data": {
      "text/plain": "UPDATING data for location found in Depas_general_arriagada:   0%|          | 0/100 [00:00<?, ?it/s]",
      "application/vnd.jupyter.widget-view+json": {
       "version_major": 2,
       "version_minor": 0,
       "model_id": "1b3de676052f44cea34935269db55f8c"
      },
      "application/json": {
       "n": 0,
       "total": 100,
       "elapsed": 0.027998924255371094,
       "ncols": null,
       "nrows": null,
       "prefix": "UPDATING data for location found in Depas_general_arriagada",
       "ascii": false,
       "unit": "it",
       "unit_scale": false,
       "rate": null,
       "bar_format": null,
       "postfix": null,
       "unit_divisor": 1000,
       "initial": 0,
       "colour": null
      }
     },
     "metadata": {},
     "output_type": "display_data"
    }
   ],
   "execution_count": 21
  },
  {
   "cell_type": "markdown",
   "source": [
    "#### benchamrks\n",
    "70 propiedades : 6 minutos\n",
    "250 propiedades: 24 minutos"
   ],
   "metadata": {
    "collapsed": false
   },
   "id": "dab7a16a64b35441"
  },
  {
   "cell_type": "markdown",
   "source": [
    "# fixes\n",
    "- agregar columna de precio en UF. PARA VER DESARROLLO EN EL TIEMPO\n",
    "- la supérficie se esta multiplicando por 1000, en algunos casos debido a la coma/punto"
   ],
   "metadata": {
    "collapsed": false
   },
   "id": "6199f682006ce2e5"
  },
  {
   "cell_type": "code",
   "outputs": [],
   "source": [],
   "metadata": {
    "collapsed": false
   },
   "id": "1d77efd3f4490f84"
  }
 ],
 "metadata": {
  "kernelspec": {
   "display_name": "Python 3",
   "language": "python",
   "name": "python3"
  },
  "language_info": {
   "codemirror_mode": {
    "name": "ipython",
    "version": 2
   },
   "file_extension": ".py",
   "mimetype": "text/x-python",
   "name": "python",
   "nbconvert_exporter": "python",
   "pygments_lexer": "ipython2",
   "version": "2.7.6"
  }
 },
 "nbformat": 4,
 "nbformat_minor": 5
}
