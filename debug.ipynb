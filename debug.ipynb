{
 "cells": [
  {
   "cell_type": "code",
   "outputs": [],
   "source": [
    "%load_ext autoreload\n",
    "%autoreload 2"
   ],
   "metadata": {
    "collapsed": false,
    "ExecuteTime": {
     "end_time": "2024-07-31T19:21:27.825625Z",
     "start_time": "2024-07-31T19:21:27.744481Z"
    }
   },
   "id": "ba753697a1b8bb3e",
   "execution_count": 1
  },
  {
   "cell_type": "code",
   "outputs": [],
   "source": [
    "from webscrapper_portal_inmobiliario import WebScraperPortalInmobiliario"
   ],
   "metadata": {
    "collapsed": false,
    "ExecuteTime": {
     "end_time": "2024-07-31T19:21:29.015670Z",
     "start_time": "2024-07-31T19:21:27.827595Z"
    }
   },
   "id": "29b27fb8538e23ce",
   "execution_count": 2
  },
  {
   "cell_type": "markdown",
   "source": [
    "common issues:\n",
    "url doestn detect the table"
   ],
   "metadata": {
    "collapsed": false
   },
   "id": "4223505918df3651"
  },
  {
   "cell_type": "code",
   "execution_count": 3,
   "id": "initial_id",
   "metadata": {
    "collapsed": true,
    "ExecuteTime": {
     "end_time": "2024-07-31T19:21:29.124222Z",
     "start_time": "2024-07-31T19:21:29.017615Z"
    }
   },
   "outputs": [],
   "source": [
    "url = \"https://www.portalinmobiliario.com/MLC-1489044961-simon-bolivar-jorge-washington-_JM#position%3D3%26search_layout%3Dmap%26type%3Ditem%26tracking_id%3D473baee3-785e-432d-b891-30473f39340b\""
   ]
  },
  {
   "cell_type": "code",
   "outputs": [],
   "source": [
    "url_ = \"https://www.portalinmobiliario.com/MLC-2551865070-arriendo-dpto-2-dormitorios-con-estacionamiento-brown-norte-_JM#position%3D3%26search_layout%3Dmap%26type%3Ditem%26tracking_id%3D03861b01-17f4-4a56-8bd2-243f4f091521\""
   ],
   "metadata": {
    "collapsed": false,
    "ExecuteTime": {
     "end_time": "2024-07-31T19:21:29.235102Z",
     "start_time": "2024-07-31T19:21:29.128222Z"
    }
   },
   "id": "75fac0a8dba05f77",
   "execution_count": 4
  },
  {
   "cell_type": "code",
   "outputs": [],
   "source": [
    "debug_scrapper = WebScraperPortalInmobiliario(_,_,_,\"debug\",debug=True)"
   ],
   "metadata": {
    "collapsed": false,
    "ExecuteTime": {
     "end_time": "2024-07-31T19:21:31.091441Z",
     "start_time": "2024-07-31T19:21:29.238095Z"
    }
   },
   "id": "96593a6d5cad431d",
   "execution_count": 5
  },
  {
   "cell_type": "code",
   "outputs": [],
   "source": [
    "_ = debug_scrapper.get_correct_soup_from_url(url=url_)"
   ],
   "metadata": {
    "collapsed": false,
    "ExecuteTime": {
     "end_time": "2024-07-31T19:21:41.821924Z",
     "start_time": "2024-07-31T19:21:31.186864Z"
    }
   },
   "id": "8f84461ef1e65d9c",
   "execution_count": 7
  },
  {
   "cell_type": "code",
   "outputs": [
    {
     "data": {
      "text/plain": "[<h2 class=\"ui-pdp-color--BLACK ui-pdp-size--LARGE ui-pdp-family--REGULAR ui-pdp-price-comparison__title\">Referencia de precios</h2>,\n <h2 class=\"ui-pdp-color--BLACK ui-pdp-size--MEDIUM ui-pdp-family--REGULAR ui-vip-seller-profile__header mb-24\">Información de la corredora</h2>,\n <h2 class=\"ui-pdp-color--BLACK ui-pdp-size--MEDIUM ui-pdp-family--REGULAR ui-pdp-generic-brands-summary__feature__title\">Simula tu crédito online</h2>,\n <h2 class=\"ui-box-component__title\">Consejos de seguridad</h2>,\n <h2 class=\"ui-pdp-color--BLACK ui-pdp-size--XLARGE ui-pdp-family--REGULAR ui-vip-location__title\">Ubicación</h2>,\n <h2 class=\"ui-vpp-text-alignment--left ui-pdp-color--BLACK ui-pdp-size--XLARGE ui-pdp-family--REGULAR highlighted-specs-title\">Características del producto</h2>,\n <h2 class=\"ui-pdp-description__title\">Descripción</h2>,\n <h2 class=\"ui-pdp-color--BLACK ui-pdp-size--XLARGE ui-pdp-family--REGULAR ui-vip-poi__title\">Información de la zona</h2>,\n <h2 class=\"ui-pdp-questions-unregistered__title\">Contacta a la corredora</h2>]"
     },
     "execution_count": 21,
     "metadata": {},
     "output_type": "execute_result"
    }
   ],
   "source": [
    "soup = debug_scrapper.webdriver_request(url)\n",
    "soup.find_all('h2')"
   ],
   "metadata": {
    "collapsed": false,
    "ExecuteTime": {
     "end_time": "2024-07-31T19:28:30.242384Z",
     "start_time": "2024-07-31T19:28:30.027757Z"
    }
   },
   "id": "43baaae9102eb5a9",
   "execution_count": 21
  },
  {
   "cell_type": "code",
   "outputs": [
    {
     "ename": "NoSuchElementException",
     "evalue": "Message: no such element: Unable to locate element: {\"method\":\"xpath\",\"selector\":\"//table[@class='andes-table']\"}\n  (Session info: chrome-headless-shell=127.0.6533.88); For documentation on this error, please visit: https://www.selenium.dev/documentation/webdriver/troubleshooting/errors#no-such-element-exception\nStacktrace:\n\tGetHandleVerifier [0x00007FF6EF8FEEA2+31554]\n\t(No symbol) [0x00007FF6EF877ED9]\n\t(No symbol) [0x00007FF6EF73872A]\n\t(No symbol) [0x00007FF6EF788434]\n\t(No symbol) [0x00007FF6EF78853C]\n\t(No symbol) [0x00007FF6EF7CF6A7]\n\t(No symbol) [0x00007FF6EF7AD06F]\n\t(No symbol) [0x00007FF6EF7CC977]\n\t(No symbol) [0x00007FF6EF7ACDD3]\n\t(No symbol) [0x00007FF6EF77A33B]\n\t(No symbol) [0x00007FF6EF77AED1]\n\tGetHandleVerifier [0x00007FF6EFC08B1D+3217341]\n\tGetHandleVerifier [0x00007FF6EFC55AE3+3532675]\n\tGetHandleVerifier [0x00007FF6EFC4B0E0+3489152]\n\tGetHandleVerifier [0x00007FF6EF9AE776+750614]\n\t(No symbol) [0x00007FF6EF88375F]\n\t(No symbol) [0x00007FF6EF87EB14]\n\t(No symbol) [0x00007FF6EF87ECA2]\n\t(No symbol) [0x00007FF6EF86E16F]\n\tBaseThreadInitThunk [0x00007FFF9A5D7344+20]\n\tRtlUserThreadStart [0x00007FFF9AF626B1+33]\n",
     "output_type": "error",
     "traceback": [
      "\u001B[1;31m---------------------------------------------------------------------------\u001B[0m",
      "\u001B[1;31mNoSuchElementException\u001B[0m                    Traceback (most recent call last)",
      "\u001B[1;32m~\\AppData\\Local\\Temp\\ipykernel_16284\\4060222665.py\u001B[0m in \u001B[0;36m<module>\u001B[1;34m\u001B[0m\n\u001B[1;32m----> 1\u001B[1;33m \u001B[0mdebug_scrapper\u001B[0m\u001B[1;33m.\u001B[0m\u001B[0mget_data_from_table_in_url\u001B[0m\u001B[1;33m(\u001B[0m\u001B[1;33m)\u001B[0m\u001B[1;33m\u001B[0m\u001B[1;33m\u001B[0m\u001B[0m\n\u001B[0m",
      "\u001B[1;32m~\\Documents\\Github_myself\\portal_inmobiliario_web_scraper\\webscrapper_portal_inmobiliario.py\u001B[0m in \u001B[0;36mget_data_from_table_in_url\u001B[1;34m(self)\u001B[0m\n\u001B[0;32m    391\u001B[0m                                 }\n\u001B[0;32m    392\u001B[0m \u001B[1;33m\u001B[0m\u001B[0m\n\u001B[1;32m--> 393\u001B[1;33m         \u001B[0mtbl\u001B[0m \u001B[1;33m=\u001B[0m \u001B[0mself\u001B[0m\u001B[1;33m.\u001B[0m\u001B[0mdriver\u001B[0m\u001B[1;33m.\u001B[0m\u001B[0mfind_element\u001B[0m\u001B[1;33m(\u001B[0m\u001B[0mBy\u001B[0m\u001B[1;33m.\u001B[0m\u001B[0mXPATH\u001B[0m\u001B[1;33m,\u001B[0m \u001B[1;34m\"//table[@class='andes-table']\"\u001B[0m\u001B[1;33m)\u001B[0m\u001B[1;33m\u001B[0m\u001B[1;33m\u001B[0m\u001B[0m\n\u001B[0m\u001B[0;32m    394\u001B[0m         \u001B[0mtable_data\u001B[0m  \u001B[1;33m=\u001B[0m \u001B[0mpd\u001B[0m\u001B[1;33m.\u001B[0m\u001B[0mread_html\u001B[0m\u001B[1;33m(\u001B[0m\u001B[0mtbl\u001B[0m\u001B[1;33m.\u001B[0m\u001B[0mget_attribute\u001B[0m\u001B[1;33m(\u001B[0m\u001B[1;34m'outerHTML'\u001B[0m\u001B[1;33m)\u001B[0m\u001B[1;33m)\u001B[0m\u001B[1;33m[\u001B[0m\u001B[1;36m0\u001B[0m\u001B[1;33m]\u001B[0m\u001B[1;33m\u001B[0m\u001B[1;33m\u001B[0m\u001B[0m\n\u001B[0;32m    395\u001B[0m \u001B[1;33m\u001B[0m\u001B[0m\n",
      "\u001B[1;32mc:\\users\\espdatascienceat\\appdata\\local\\programs\\python\\python37\\lib\\site-packages\\selenium\\webdriver\\remote\\webdriver.py\u001B[0m in \u001B[0;36mfind_element\u001B[1;34m(self, by, value)\u001B[0m\n\u001B[0;32m    737\u001B[0m             \u001B[0mvalue\u001B[0m \u001B[1;33m=\u001B[0m \u001B[1;34mf'[name=\"{value}\"]'\u001B[0m\u001B[1;33m\u001B[0m\u001B[1;33m\u001B[0m\u001B[0m\n\u001B[0;32m    738\u001B[0m \u001B[1;33m\u001B[0m\u001B[0m\n\u001B[1;32m--> 739\u001B[1;33m         \u001B[1;32mreturn\u001B[0m \u001B[0mself\u001B[0m\u001B[1;33m.\u001B[0m\u001B[0mexecute\u001B[0m\u001B[1;33m(\u001B[0m\u001B[0mCommand\u001B[0m\u001B[1;33m.\u001B[0m\u001B[0mFIND_ELEMENT\u001B[0m\u001B[1;33m,\u001B[0m \u001B[1;33m{\u001B[0m\u001B[1;34m\"using\"\u001B[0m\u001B[1;33m:\u001B[0m \u001B[0mby\u001B[0m\u001B[1;33m,\u001B[0m \u001B[1;34m\"value\"\u001B[0m\u001B[1;33m:\u001B[0m \u001B[0mvalue\u001B[0m\u001B[1;33m}\u001B[0m\u001B[1;33m)\u001B[0m\u001B[1;33m[\u001B[0m\u001B[1;34m\"value\"\u001B[0m\u001B[1;33m]\u001B[0m\u001B[1;33m\u001B[0m\u001B[1;33m\u001B[0m\u001B[0m\n\u001B[0m\u001B[0;32m    740\u001B[0m \u001B[1;33m\u001B[0m\u001B[0m\n\u001B[0;32m    741\u001B[0m     \u001B[1;32mdef\u001B[0m \u001B[0mfind_elements\u001B[0m\u001B[1;33m(\u001B[0m\u001B[0mself\u001B[0m\u001B[1;33m,\u001B[0m \u001B[0mby\u001B[0m\u001B[1;33m=\u001B[0m\u001B[0mBy\u001B[0m\u001B[1;33m.\u001B[0m\u001B[0mID\u001B[0m\u001B[1;33m,\u001B[0m \u001B[0mvalue\u001B[0m\u001B[1;33m:\u001B[0m \u001B[0mOptional\u001B[0m\u001B[1;33m[\u001B[0m\u001B[0mstr\u001B[0m\u001B[1;33m]\u001B[0m \u001B[1;33m=\u001B[0m \u001B[1;32mNone\u001B[0m\u001B[1;33m)\u001B[0m \u001B[1;33m->\u001B[0m \u001B[0mList\u001B[0m\u001B[1;33m[\u001B[0m\u001B[0mWebElement\u001B[0m\u001B[1;33m]\u001B[0m\u001B[1;33m:\u001B[0m\u001B[1;33m\u001B[0m\u001B[1;33m\u001B[0m\u001B[0m\n",
      "\u001B[1;32mc:\\users\\espdatascienceat\\appdata\\local\\programs\\python\\python37\\lib\\site-packages\\selenium\\webdriver\\remote\\webdriver.py\u001B[0m in \u001B[0;36mexecute\u001B[1;34m(self, driver_command, params)\u001B[0m\n\u001B[0;32m    343\u001B[0m         \u001B[0mresponse\u001B[0m \u001B[1;33m=\u001B[0m \u001B[0mself\u001B[0m\u001B[1;33m.\u001B[0m\u001B[0mcommand_executor\u001B[0m\u001B[1;33m.\u001B[0m\u001B[0mexecute\u001B[0m\u001B[1;33m(\u001B[0m\u001B[0mdriver_command\u001B[0m\u001B[1;33m,\u001B[0m \u001B[0mparams\u001B[0m\u001B[1;33m)\u001B[0m\u001B[1;33m\u001B[0m\u001B[1;33m\u001B[0m\u001B[0m\n\u001B[0;32m    344\u001B[0m         \u001B[1;32mif\u001B[0m \u001B[0mresponse\u001B[0m\u001B[1;33m:\u001B[0m\u001B[1;33m\u001B[0m\u001B[1;33m\u001B[0m\u001B[0m\n\u001B[1;32m--> 345\u001B[1;33m             \u001B[0mself\u001B[0m\u001B[1;33m.\u001B[0m\u001B[0merror_handler\u001B[0m\u001B[1;33m.\u001B[0m\u001B[0mcheck_response\u001B[0m\u001B[1;33m(\u001B[0m\u001B[0mresponse\u001B[0m\u001B[1;33m)\u001B[0m\u001B[1;33m\u001B[0m\u001B[1;33m\u001B[0m\u001B[0m\n\u001B[0m\u001B[0;32m    346\u001B[0m             \u001B[0mresponse\u001B[0m\u001B[1;33m[\u001B[0m\u001B[1;34m\"value\"\u001B[0m\u001B[1;33m]\u001B[0m \u001B[1;33m=\u001B[0m \u001B[0mself\u001B[0m\u001B[1;33m.\u001B[0m\u001B[0m_unwrap_value\u001B[0m\u001B[1;33m(\u001B[0m\u001B[0mresponse\u001B[0m\u001B[1;33m.\u001B[0m\u001B[0mget\u001B[0m\u001B[1;33m(\u001B[0m\u001B[1;34m\"value\"\u001B[0m\u001B[1;33m,\u001B[0m \u001B[1;32mNone\u001B[0m\u001B[1;33m)\u001B[0m\u001B[1;33m)\u001B[0m\u001B[1;33m\u001B[0m\u001B[1;33m\u001B[0m\u001B[0m\n\u001B[0;32m    347\u001B[0m             \u001B[1;32mreturn\u001B[0m \u001B[0mresponse\u001B[0m\u001B[1;33m\u001B[0m\u001B[1;33m\u001B[0m\u001B[0m\n",
      "\u001B[1;32mc:\\users\\espdatascienceat\\appdata\\local\\programs\\python\\python37\\lib\\site-packages\\selenium\\webdriver\\remote\\errorhandler.py\u001B[0m in \u001B[0;36mcheck_response\u001B[1;34m(self, response)\u001B[0m\n\u001B[0;32m    227\u001B[0m                 \u001B[0malert_text\u001B[0m \u001B[1;33m=\u001B[0m \u001B[0mvalue\u001B[0m\u001B[1;33m[\u001B[0m\u001B[1;34m\"alert\"\u001B[0m\u001B[1;33m]\u001B[0m\u001B[1;33m.\u001B[0m\u001B[0mget\u001B[0m\u001B[1;33m(\u001B[0m\u001B[1;34m\"text\"\u001B[0m\u001B[1;33m)\u001B[0m\u001B[1;33m\u001B[0m\u001B[1;33m\u001B[0m\u001B[0m\n\u001B[0;32m    228\u001B[0m             \u001B[1;32mraise\u001B[0m \u001B[0mexception_class\u001B[0m\u001B[1;33m(\u001B[0m\u001B[0mmessage\u001B[0m\u001B[1;33m,\u001B[0m \u001B[0mscreen\u001B[0m\u001B[1;33m,\u001B[0m \u001B[0mstacktrace\u001B[0m\u001B[1;33m,\u001B[0m \u001B[0malert_text\u001B[0m\u001B[1;33m)\u001B[0m  \u001B[1;31m# type: ignore[call-arg]  # mypy is not smart enough here\u001B[0m\u001B[1;33m\u001B[0m\u001B[1;33m\u001B[0m\u001B[0m\n\u001B[1;32m--> 229\u001B[1;33m         \u001B[1;32mraise\u001B[0m \u001B[0mexception_class\u001B[0m\u001B[1;33m(\u001B[0m\u001B[0mmessage\u001B[0m\u001B[1;33m,\u001B[0m \u001B[0mscreen\u001B[0m\u001B[1;33m,\u001B[0m \u001B[0mstacktrace\u001B[0m\u001B[1;33m)\u001B[0m\u001B[1;33m\u001B[0m\u001B[1;33m\u001B[0m\u001B[0m\n\u001B[0m",
      "\u001B[1;31mNoSuchElementException\u001B[0m: Message: no such element: Unable to locate element: {\"method\":\"xpath\",\"selector\":\"//table[@class='andes-table']\"}\n  (Session info: chrome-headless-shell=127.0.6533.88); For documentation on this error, please visit: https://www.selenium.dev/documentation/webdriver/troubleshooting/errors#no-such-element-exception\nStacktrace:\n\tGetHandleVerifier [0x00007FF6EF8FEEA2+31554]\n\t(No symbol) [0x00007FF6EF877ED9]\n\t(No symbol) [0x00007FF6EF73872A]\n\t(No symbol) [0x00007FF6EF788434]\n\t(No symbol) [0x00007FF6EF78853C]\n\t(No symbol) [0x00007FF6EF7CF6A7]\n\t(No symbol) [0x00007FF6EF7AD06F]\n\t(No symbol) [0x00007FF6EF7CC977]\n\t(No symbol) [0x00007FF6EF7ACDD3]\n\t(No symbol) [0x00007FF6EF77A33B]\n\t(No symbol) [0x00007FF6EF77AED1]\n\tGetHandleVerifier [0x00007FF6EFC08B1D+3217341]\n\tGetHandleVerifier [0x00007FF6EFC55AE3+3532675]\n\tGetHandleVerifier [0x00007FF6EFC4B0E0+3489152]\n\tGetHandleVerifier [0x00007FF6EF9AE776+750614]\n\t(No symbol) [0x00007FF6EF88375F]\n\t(No symbol) [0x00007FF6EF87EB14]\n\t(No symbol) [0x00007FF6EF87ECA2]\n\t(No symbol) [0x00007FF6EF86E16F]\n\tBaseThreadInitThunk [0x00007FFF9A5D7344+20]\n\tRtlUserThreadStart [0x00007FFF9AF626B1+33]\n"
     ]
    }
   ],
   "source": [
    "debug_scrapper.get_data_from_table_in_url()"
   ],
   "metadata": {
    "collapsed": false,
    "ExecuteTime": {
     "end_time": "2024-07-31T19:21:50.225775Z",
     "start_time": "2024-07-31T19:21:49.294661Z"
    }
   },
   "id": "1be2df875a03d2dc",
   "execution_count": 8
  },
  {
   "cell_type": "code",
   "outputs": [
    {
     "data": {
      "text/plain": "[88.0]"
     },
     "execution_count": 8,
     "metadata": {},
     "output_type": "execute_result"
    }
   ],
   "source": [
    "debug_scrapper.superficie_total"
   ],
   "metadata": {
    "collapsed": false,
    "ExecuteTime": {
     "end_time": "2024-07-31T18:42:30.173955Z",
     "start_time": "2024-07-31T18:42:30.084023Z"
    }
   },
   "id": "2df33cf85ba10eaa",
   "execution_count": 8
  },
  {
   "cell_type": "code",
   "outputs": [],
   "source": [],
   "metadata": {
    "collapsed": false
   },
   "id": "438f4429709f1702"
  }
 ],
 "metadata": {
  "kernelspec": {
   "display_name": "Python 3",
   "language": "python",
   "name": "python3"
  },
  "language_info": {
   "codemirror_mode": {
    "name": "ipython",
    "version": 2
   },
   "file_extension": ".py",
   "mimetype": "text/x-python",
   "name": "python",
   "nbconvert_exporter": "python",
   "pygments_lexer": "ipython2",
   "version": "2.7.6"
  }
 },
 "nbformat": 4,
 "nbformat_minor": 5
}
